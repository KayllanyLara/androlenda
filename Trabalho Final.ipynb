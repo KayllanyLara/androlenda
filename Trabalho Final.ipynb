{
 "cells": [
  {
   "cell_type": "code",
   "execution_count": 23,
   "id": "85145a11-e5a7-4bd9-96d4-3ab849d76937",
   "metadata": {},
   "outputs": [],
   "source": [
    "import pandas as pd\n",
    "import sklearn\n",
    "import seaborn as sns\n",
    "import numpy\n",
    "from sklearn.model_selection import RandomizedSearchCV\n",
    "from sklearn.metrics import confusion_matrix\n",
    "from sklearn.model_selection import train_test_split\n",
    "from sklearn.ensemble import RandomForestClassifier\n",
    "from sklearn.decomposition import PCA\n",
    "import numpy as np\n",
    "import matplotlib.pyplot as plt\n",
    "from sklearn.linear_model import LogisticRegression\n",
    "from sklearn.pipeline import make_pipeline\n",
    "from sklearn.metrics import accuracy_score\n",
    "from sklearn.dummy import DummyClassifier"
   ]
  },
  {
   "cell_type": "markdown",
   "id": "b6ad287c-cedc-4b2a-b402-4274061e9d4c",
   "metadata": {},
   "source": [
    "# Informações sobre o Dataset:\n",
    "\n",
    "### Idade: \n",
    "\n",
    "Importância: A idade é um fator crucial na previsão de doenças cardiovasculares, como o infarto, pois o risco aumenta com o envelhecimento. Pessoas mais velhas têm uma probabilidade maior de desenvolver problemas cardíacos.\n",
    "Unidade de medida: Anos.\n",
    "\n",
    "### Gênero:\n",
    "\n",
    "Importância: O gênero também é um fator importante, pois existem diferenças biológicas entre homens e mulheres que podem afetar o risco de doenças cardíacas. Normalmente, os homens têm um risco maior.\n",
    "Unidade de medida: Variável categórica (masculino = 1/feminino = 0).\n",
    "\n",
    "### Batimentos por Minuto (BPM):\n",
    "\n",
    "Importância: A frequência cardíaca indica como o coração está funcionando. Taxas elevadas ou baixas de batimentos por minuto podem indicar problemas no sistema cardiovascular.\n",
    "Unidade de medida: Batimentos por minuto (bpm).\n",
    "\n",
    "### Pressão Máxima (Sistólica):\n",
    "\n",
    "Importância: A pressão arterial sistólica é uma medida da pressão nas artérias quando o coração está batendo. Valores elevados podem indicar hipertensão, um fator de risco para doenças cardíacas.\n",
    "Unidade de medida: Milímetros de mercúrio (mmHg).\n",
    "\n",
    "### Pressão Mínima (Diastólica):\n",
    "\n",
    "Importância: A pressão arterial diastólica é a pressão nas artérias quando o coração está relaxado entre batimentos. Valores elevados podem indicar estresse nas artérias.\n",
    "Unidade de medida: Milímetros de mercúrio (mmHg).\n",
    "\n",
    "### Glicose:\n",
    "\n",
    "Importância: Níveis elevados de glicose no sangue podem indicar resistência à insulina ou diabetes, fatores que aumentam o risco de doenças cardíacas.\n",
    "Unidade de medida: Miligramas por decilitro (mg/dL).\n",
    "\n",
    "### Ck-Mb:\n",
    "\n",
    "Importância: A enzima CK-Mb é liberada quando há dano nas células musculares, incluindo as do coração. Níveis elevados podem indicar um possível ataque cardíaco.\n",
    "Unidade de medida: Unidades por litro (ng/mL).\n",
    "\n",
    "### Troponina:\n",
    "\n",
    "Importância: A troponina é outra proteína liberada quando ocorre dano ao músculo cardíaco. Seus níveis elevados também podem indicar problemas cardíacos.\n",
    "Unidade de medida: Nanogramas por mililitro (ng/mL)."
   ]
  },
  {
   "cell_type": "markdown",
   "id": "6da37e91-9fea-42de-a7be-250cc946cf9a",
   "metadata": {},
   "source": [
    "## Leitura do Conjunto de Dados de Ataque Cardíaco\n",
    "\n",
    "Nesta parte do código, estamos utilizando a biblioteca pandas para ler um conjunto de dados chamado \"Heart Attack.csv\". O conjunto de dados é carregado na variável 'Data'.\n"
   ]
  },
  {
   "cell_type": "code",
   "execution_count": 2,
   "id": "61477616-2325-40c7-893a-4d4ef217efe0",
   "metadata": {},
   "outputs": [
    {
     "name": "stdout",
     "output_type": "stream",
     "text": [
      "      age  gender  impluse  pressurehight  pressurelow  glucose    kcm  \\\n",
      "0      64       1       66            160           83    160.0   1.80   \n",
      "1      21       1       94             98           46    296.0   6.75   \n",
      "2      55       1       64            160           77    270.0   1.99   \n",
      "3      64       1       70            120           55    270.0  13.87   \n",
      "4      55       1       64            112           65    300.0   1.08   \n",
      "...   ...     ...      ...            ...          ...      ...    ...   \n",
      "1314   44       1       94            122           67    204.0   1.63   \n",
      "1315   66       1       84            125           55    149.0   1.33   \n",
      "1316   45       1       85            168          104     96.0   1.24   \n",
      "1317   54       1       58            117           68    443.0   5.80   \n",
      "1318   51       1       94            157           79    134.0  50.89   \n",
      "\n",
      "      troponin     class  \n",
      "0        0.012  negative  \n",
      "1        1.060  positive  \n",
      "2        0.003  negative  \n",
      "3        0.122  positive  \n",
      "4        0.003  negative  \n",
      "...        ...       ...  \n",
      "1314     0.006  negative  \n",
      "1315     0.172  positive  \n",
      "1316     4.250  positive  \n",
      "1317     0.359  positive  \n",
      "1318     1.770  positive  \n",
      "\n",
      "[1319 rows x 9 columns]\n"
     ]
    }
   ],
   "source": [
    "Data = pd.read_csv(\"Heart Attack.csv\")\n",
    "print(Data)"
   ]
  },
  {
   "cell_type": "code",
   "execution_count": 3,
   "id": "c356f526-5f68-425a-b74b-2a2488fd86ff",
   "metadata": {},
   "outputs": [
    {
     "name": "stdout",
     "output_type": "stream",
     "text": [
      "      Idade  Gênero  Impulso  Pressão Mâxima  Pressão Mínima  Glicose  CK-MB  \\\n",
      "0        64       1       66             160              83    160.0   1.80   \n",
      "1        21       1       94              98              46    296.0   6.75   \n",
      "2        55       1       64             160              77    270.0   1.99   \n",
      "3        64       1       70             120              55    270.0  13.87   \n",
      "4        55       1       64             112              65    300.0   1.08   \n",
      "...     ...     ...      ...             ...             ...      ...    ...   \n",
      "1314     44       1       94             122              67    204.0   1.63   \n",
      "1315     66       1       84             125              55    149.0   1.33   \n",
      "1316     45       1       85             168             104     96.0   1.24   \n",
      "1317     54       1       58             117              68    443.0   5.80   \n",
      "1318     51       1       94             157              79    134.0  50.89   \n",
      "\n",
      "      Troponina   Infarto  \n",
      "0         0.012  negative  \n",
      "1         1.060  positive  \n",
      "2         0.003  negative  \n",
      "3         0.122  positive  \n",
      "4         0.003  negative  \n",
      "...         ...       ...  \n",
      "1314      0.006  negative  \n",
      "1315      0.172  positive  \n",
      "1316      4.250  positive  \n",
      "1317      0.359  positive  \n",
      "1318      1.770  positive  \n",
      "\n",
      "[1319 rows x 9 columns]\n"
     ]
    }
   ],
   "source": [
    "Data.columns = [\"Idade\",\"Gênero\",\"Impulso\",\"Pressão Mâxima\",\"Pressão Mínima\",\"Glicose\",\"CK-MB\",\"Troponina\",\"Infarto\"]\n",
    "print(Data)"
   ]
  },
  {
   "cell_type": "markdown",
   "id": "8b297742-29e9-4393-abeb-77dc594d01b6",
   "metadata": {},
   "source": [
    "## Atualização da Coluna \"Infarto\" para Valores Numéricos\n",
    "\n",
    "Nesta parte do código, realizamos uma transformação na coluna \"Infarto\" do conjunto de dados. Inicialmente, os rótulos são \"negative\" e \"positive\". O objetivo é converter esses rótulos em valores numéricos para facilitar análises futuras.\n",
    "\n",
    "### Passos:\n",
    "\n",
    "1. **Criação dos Critérios:**\n",
    "   - Criamos dois critérios, `Criterio_1` e `Criterio_2`, para identificar as linhas onde \"Infarto\" é \"negative\" e \"positive\", respectivamente.\n",
    "\n",
    "2. **Criação da Variável 'Target':**\n",
    "   - Criamos uma variável 'Target' para armazenar a coluna \"Infarto\".\n",
    "\n",
    "3. **Filtragem das Classes Negativas e Positivas:**\n",
    "   - Utilizamos os critérios para extrair as linhas correspondentes aos casos negativos (`Negativos`) e positivos (`Positivos`).\n",
    "\n",
    "4. **Obtenção dos Índices:**\n",
    "   - Capturamos os índices das linhas negativas e positivas para futura modificação (`Linhas_1` e `Linhas_2`).\n",
    "\n",
    "5. **Atualização dos Valores da Coluna \"Infarto\":**\n",
    "   - Substituímos os rótulos \"negative\" por 0 e \"positive\" por 1 nas linhas correspondentes, utilizando os índices obtidos.\n",
    "\n",
    "6. **Exibição do Conjunto de Dados Atualizado:**\n",
    "   - Finalizamos exibindo o conjunto de dados após a modificação.\n",
    "\n"
   ]
  },
  {
   "cell_type": "code",
   "execution_count": 4,
   "id": "dc9cf05c-c831-42f6-8e55-f141fd4655f8",
   "metadata": {},
   "outputs": [
    {
     "name": "stdout",
     "output_type": "stream",
     "text": [
      "      Idade  Gênero  Impulso  Pressão Mâxima  Pressão Mínima  Glicose  CK-MB  \\\n",
      "0        64       1       66             160              83    160.0   1.80   \n",
      "1        21       1       94              98              46    296.0   6.75   \n",
      "2        55       1       64             160              77    270.0   1.99   \n",
      "3        64       1       70             120              55    270.0  13.87   \n",
      "4        55       1       64             112              65    300.0   1.08   \n",
      "...     ...     ...      ...             ...             ...      ...    ...   \n",
      "1314     44       1       94             122              67    204.0   1.63   \n",
      "1315     66       1       84             125              55    149.0   1.33   \n",
      "1316     45       1       85             168             104     96.0   1.24   \n",
      "1317     54       1       58             117              68    443.0   5.80   \n",
      "1318     51       1       94             157              79    134.0  50.89   \n",
      "\n",
      "      Troponina Infarto  \n",
      "0         0.012       0  \n",
      "1         1.060       1  \n",
      "2         0.003       0  \n",
      "3         0.122       1  \n",
      "4         0.003       0  \n",
      "...         ...     ...  \n",
      "1314      0.006       0  \n",
      "1315      0.172       1  \n",
      "1316      4.250       1  \n",
      "1317      0.359       1  \n",
      "1318      1.770       1  \n",
      "\n",
      "[1319 rows x 9 columns]\n"
     ]
    }
   ],
   "source": [
    "Criterio_1 = Data[\"Infarto\"] == \"negative\"\n",
    "Criterio_2 = Data[\"Infarto\"] == \"positive\"\n",
    "Target = Data[\"Infarto\"] \n",
    "Negativos= Target.loc[Criterio_1]\n",
    "Positivos= Target.loc[Criterio_2]\n",
    "Linhas_1=Negativos.index\n",
    "Linhas_2=Positivos.index\n",
    "Data.loc[Linhas_1,\"Infarto\"] = 0\n",
    "Data.loc[Linhas_2,\"Infarto\"] = 1\n",
    "print(Data)"
   ]
  },
  {
   "cell_type": "markdown",
   "id": "868c7596-788f-4a49-b0d7-ba939f75ee65",
   "metadata": {},
   "source": [
    "<!-- \n",
    "Este trecho de código Python realiza algumas operações em um DataFrame. Primeiramente, são adicionadas duas novas colunas, 'Homem' e 'Mulher', ao DataFrame, ambas inicializadas com o valor 0. Em seguida, são estabelecidos critérios para identificar linhas correspondentes a 'Mulheres' e 'Homens' com base na coluna 'Gênero'. Uma série alvo chamada 'Target' é criada usando a coluna 'Infarto'. O código filtra as linhas associadas a 'Mulheres' e 'Homens' usando os critérios estabelecidos, e os índices dessas linhas são obtidos.\n",
    "\n",
    "Posteriormente, as colunas 'Mulher' e 'Homem' são atualizadas para o valor 1 nas linhas correspondentes aos critérios definidos anteriormente. A coluna 'Gênero' é removida do DataFrame para simplificar a estrutura. Finalmente, o DataFrame resultante é impresso.\n",
    "\n",
    "Este conjunto de operações parece estar relacionado à categorização de dados com base no gênero e na ocorrência de infartos, ajustando as colunas 'Mulher' e 'Homem' conforme os critérios estabelecidos.\n",
    "-->\n"
   ]
  },
  {
   "cell_type": "markdown",
   "id": "9c965d8c-61f9-4dc1-9a9f-a8bb08f7d779",
   "metadata": {},
   "source": [
    "<!-- \n",
    "Este trecho de código Python realiza algumas operações em um DataFrame. Primeiramente, são adicionadas duas novas colunas, 'Homem' e 'Mulher', ao DataFrame, ambas inicializadas com o valor 0. Em seguida, são estabelecidos critérios para identificar linhas correspondentes a 'Mulheres' e 'Homens' com base na coluna 'Gênero'. Uma série alvo chamada 'Target' é criada usando a coluna 'Infarto'. O código filtra as linhas associadas a 'Mulheres' e 'Homens' usando os critérios estabelecidos, e os índices dessas linhas são obtidos.\n",
    "\n",
    "Posteriormente, as colunas 'Mulher' e 'Homem' são atualizadas para o valor 1 nas linhas correspondentes aos critérios definidos anteriormente. A coluna 'Gênero' é removida do DataFrame para simplificar a estrutura. Finalmente, o DataFrame resultante é impresso.\n",
    "\n",
    "Este conjunto de operações parece estar relacionado à categorização de dados com base no gênero e na ocorrência de infartos, ajustando as colunas 'Mulher' e 'Homem' conforme os critérios estabelecidos.\n",
    "-->\n"
   ]
  },
  {
   "cell_type": "markdown",
   "id": "f917a780-3d59-4d68-95a1-1688f9b1b36f",
   "metadata": {},
   "source": [
    "<!-- \n",
    "Este trecho de código Python realiza algumas operações em um DataFrame. Primeiramente, são adicionadas duas novas colunas, 'Homem' e 'Mulher', ao DataFrame, ambas inicializadas com o valor 0. Em seguida, são estabelecidos critérios para identificar linhas correspondentes a 'Mulheres' e 'Homens' com base na coluna 'Gênero'. Uma série alvo chamada 'Target' é criada usando a coluna 'Infarto'. O código filtra as linhas associadas a 'Mulheres' e 'Homens' usando os critérios estabelecidos, e os índices dessas linhas são obtidos.\n",
    "\n",
    "Posteriormente, as colunas 'Mulher' e 'Homem' são atualizadas para o valor 1 nas linhas correspondentes aos critérios definidos anteriormente. A coluna 'Gênero' é removida do DataFrame para simplificar a estrutura. Finalmente, o DataFrame resultante é impresso.\n",
    "\n",
    "Este conjunto de operações parece estar relacionado à categorização de dados com base no gênero e na ocorrência de infartos, ajustando as colunas 'Mulher' e 'Homem' conforme os critérios estabelecidos.\n",
    "-->\n"
   ]
  },
  {
   "cell_type": "markdown",
   "id": "87303c2c-8d9a-432a-b446-452cd5412a89",
   "metadata": {},
   "source": [
    "\n",
    "Este trecho de código Python realiza algumas operações em um DataFrame. Primeiramente, são adicionadas duas novas colunas, 'Homem' e 'Mulher', ao DataFrame, ambas inicializadas com o valor 0. Em seguida, são estabelecidos critérios para identificar linhas correspondentes a 'Mulheres' e 'Homens' com base na coluna 'Gênero'. Uma série alvo chamada 'Target' é criada usando a coluna 'Infarto'. O código filtra as linhas associadas a 'Mulheres' e 'Homens' usando os critérios estabelecidos, e os índices dessas linhas são obtidos.\n",
    "\n",
    "Posteriormente, as colunas 'Mulher' e 'Homem' são atualizadas para o valor 1 nas linhas correspondentes aos critérios definidos anteriormente. A coluna 'Gênero' é removida do DataFrame para simplificar a estrutura. Finalmente, o DataFrame resultante é impresso.\n",
    "\n",
    "Este conjunto de operações parece estar relacionado à categorização de dados com base no gênero e na ocorrência de infartos, ajustando as colunas 'Mulher' e 'Homem' conforme os critérios estabelecidos.\n",
    "\n"
   ]
  },
  {
   "cell_type": "code",
   "execution_count": 5,
   "id": "50209127-679d-44d9-95ad-00e279cee0e3",
   "metadata": {},
   "outputs": [
    {
     "name": "stdout",
     "output_type": "stream",
     "text": [
      "      Idade  Mulher  Homem  Impulso  Pressão Mâxima  Pressão Mínima  Glicose  \\\n",
      "0        64       0      1       66             160              83    160.0   \n",
      "1        21       0      1       94              98              46    296.0   \n",
      "2        55       0      1       64             160              77    270.0   \n",
      "3        64       0      1       70             120              55    270.0   \n",
      "4        55       0      1       64             112              65    300.0   \n",
      "...     ...     ...    ...      ...             ...             ...      ...   \n",
      "1314     44       0      1       94             122              67    204.0   \n",
      "1315     66       0      1       84             125              55    149.0   \n",
      "1316     45       0      1       85             168             104     96.0   \n",
      "1317     54       0      1       58             117              68    443.0   \n",
      "1318     51       0      1       94             157              79    134.0   \n",
      "\n",
      "      CK-MB  Troponina Infarto  \n",
      "0      1.80      0.012       0  \n",
      "1      6.75      1.060       1  \n",
      "2      1.99      0.003       0  \n",
      "3     13.87      0.122       1  \n",
      "4      1.08      0.003       0  \n",
      "...     ...        ...     ...  \n",
      "1314   1.63      0.006       0  \n",
      "1315   1.33      0.172       1  \n",
      "1316   1.24      4.250       1  \n",
      "1317   5.80      0.359       1  \n",
      "1318  50.89      1.770       1  \n",
      "\n",
      "[1319 rows x 10 columns]\n"
     ]
    }
   ],
   "source": [
    "Data.insert(1,'Homem',0)\n",
    "Data.insert(1,'Mulher',0)\n",
    "Criterio_3 = Data[\"Gênero\"] == 0\n",
    "Criterio_4 = Data[\"Gênero\"] == 1\n",
    "Target = Data[\"Infarto\"] \n",
    "Mulher= Target.loc[Criterio_3]\n",
    "Homem= Target.loc[Criterio_4]\n",
    "Linhas_3=Mulher.index\n",
    "Linhas_4=Homem.index\n",
    "Data.loc[Linhas_3,\"Mulher\"] = 1\n",
    "Data.loc[Linhas_4,\"Homem\"] = 1\n",
    "Data = Data.drop(\"Gênero\",axis=1)\n",
    "print(Data)"
   ]
  },
  {
   "cell_type": "code",
   "execution_count": 6,
   "id": "4474365c-5761-4f64-9f51-844f3d7f56f8",
   "metadata": {},
   "outputs": [
    {
     "data": {
      "text/html": [
       "<div>\n",
       "<style scoped>\n",
       "    .dataframe tbody tr th:only-of-type {\n",
       "        vertical-align: middle;\n",
       "    }\n",
       "\n",
       "    .dataframe tbody tr th {\n",
       "        vertical-align: top;\n",
       "    }\n",
       "\n",
       "    .dataframe thead th {\n",
       "        text-align: right;\n",
       "    }\n",
       "</style>\n",
       "<table border=\"1\" class=\"dataframe\">\n",
       "  <thead>\n",
       "    <tr style=\"text-align: right;\">\n",
       "      <th></th>\n",
       "      <th>Idade</th>\n",
       "      <th>Impulso</th>\n",
       "      <th>Pressão Mâxima</th>\n",
       "      <th>Pressão Mínima</th>\n",
       "      <th>Glicose</th>\n",
       "      <th>CK-MB</th>\n",
       "      <th>Troponina</th>\n",
       "    </tr>\n",
       "  </thead>\n",
       "  <tbody>\n",
       "    <tr>\n",
       "      <th>count</th>\n",
       "      <td>1319.000000</td>\n",
       "      <td>1319.000000</td>\n",
       "      <td>1319.000000</td>\n",
       "      <td>1319.000000</td>\n",
       "      <td>1319.000000</td>\n",
       "      <td>1319.000000</td>\n",
       "      <td>1319.000000</td>\n",
       "    </tr>\n",
       "    <tr>\n",
       "      <th>mean</th>\n",
       "      <td>56.191812</td>\n",
       "      <td>78.336619</td>\n",
       "      <td>127.170584</td>\n",
       "      <td>72.269143</td>\n",
       "      <td>146.634344</td>\n",
       "      <td>15.274306</td>\n",
       "      <td>0.360942</td>\n",
       "    </tr>\n",
       "    <tr>\n",
       "      <th>std</th>\n",
       "      <td>13.647315</td>\n",
       "      <td>51.630270</td>\n",
       "      <td>26.122720</td>\n",
       "      <td>14.033924</td>\n",
       "      <td>74.923045</td>\n",
       "      <td>46.327083</td>\n",
       "      <td>1.154568</td>\n",
       "    </tr>\n",
       "    <tr>\n",
       "      <th>min</th>\n",
       "      <td>14.000000</td>\n",
       "      <td>20.000000</td>\n",
       "      <td>42.000000</td>\n",
       "      <td>38.000000</td>\n",
       "      <td>35.000000</td>\n",
       "      <td>0.321000</td>\n",
       "      <td>0.001000</td>\n",
       "    </tr>\n",
       "    <tr>\n",
       "      <th>25%</th>\n",
       "      <td>47.000000</td>\n",
       "      <td>64.000000</td>\n",
       "      <td>110.000000</td>\n",
       "      <td>62.000000</td>\n",
       "      <td>98.000000</td>\n",
       "      <td>1.655000</td>\n",
       "      <td>0.006000</td>\n",
       "    </tr>\n",
       "    <tr>\n",
       "      <th>50%</th>\n",
       "      <td>58.000000</td>\n",
       "      <td>74.000000</td>\n",
       "      <td>124.000000</td>\n",
       "      <td>72.000000</td>\n",
       "      <td>116.000000</td>\n",
       "      <td>2.850000</td>\n",
       "      <td>0.014000</td>\n",
       "    </tr>\n",
       "    <tr>\n",
       "      <th>75%</th>\n",
       "      <td>65.000000</td>\n",
       "      <td>85.000000</td>\n",
       "      <td>143.000000</td>\n",
       "      <td>81.000000</td>\n",
       "      <td>169.500000</td>\n",
       "      <td>5.805000</td>\n",
       "      <td>0.085500</td>\n",
       "    </tr>\n",
       "    <tr>\n",
       "      <th>max</th>\n",
       "      <td>103.000000</td>\n",
       "      <td>1111.000000</td>\n",
       "      <td>223.000000</td>\n",
       "      <td>154.000000</td>\n",
       "      <td>541.000000</td>\n",
       "      <td>300.000000</td>\n",
       "      <td>10.300000</td>\n",
       "    </tr>\n",
       "  </tbody>\n",
       "</table>\n",
       "</div>"
      ],
      "text/plain": [
       "             Idade      Impulso  Pressão Mâxima  Pressão Mínima      Glicose  \\\n",
       "count  1319.000000  1319.000000     1319.000000     1319.000000  1319.000000   \n",
       "mean     56.191812    78.336619      127.170584       72.269143   146.634344   \n",
       "std      13.647315    51.630270       26.122720       14.033924    74.923045   \n",
       "min      14.000000    20.000000       42.000000       38.000000    35.000000   \n",
       "25%      47.000000    64.000000      110.000000       62.000000    98.000000   \n",
       "50%      58.000000    74.000000      124.000000       72.000000   116.000000   \n",
       "75%      65.000000    85.000000      143.000000       81.000000   169.500000   \n",
       "max     103.000000  1111.000000      223.000000      154.000000   541.000000   \n",
       "\n",
       "             CK-MB    Troponina  \n",
       "count  1319.000000  1319.000000  \n",
       "mean     15.274306     0.360942  \n",
       "std      46.327083     1.154568  \n",
       "min       0.321000     0.001000  \n",
       "25%       1.655000     0.006000  \n",
       "50%       2.850000     0.014000  \n",
       "75%       5.805000     0.085500  \n",
       "max     300.000000    10.300000  "
      ]
     },
     "execution_count": 6,
     "metadata": {},
     "output_type": "execute_result"
    }
   ],
   "source": [
    "Data = Data.astype({\"Homem\": bool,\"Mulher\": bool, \"Infarto\": bool})\n",
    "Data.describe()"
   ]
  },
  {
   "cell_type": "code",
   "execution_count": 7,
   "id": "c2b82efc-3222-4875-84ed-3eb390ff2b2a",
   "metadata": {},
   "outputs": [
    {
     "data": {
      "text/html": [
       "<div>\n",
       "<style scoped>\n",
       "    .dataframe tbody tr th:only-of-type {\n",
       "        vertical-align: middle;\n",
       "    }\n",
       "\n",
       "    .dataframe tbody tr th {\n",
       "        vertical-align: top;\n",
       "    }\n",
       "\n",
       "    .dataframe thead th {\n",
       "        text-align: right;\n",
       "    }\n",
       "</style>\n",
       "<table border=\"1\" class=\"dataframe\">\n",
       "  <thead>\n",
       "    <tr style=\"text-align: right;\">\n",
       "      <th></th>\n",
       "      <th>Mulher</th>\n",
       "      <th>Homem</th>\n",
       "      <th>Infarto</th>\n",
       "    </tr>\n",
       "  </thead>\n",
       "  <tbody>\n",
       "    <tr>\n",
       "      <th>count</th>\n",
       "      <td>1319</td>\n",
       "      <td>1319</td>\n",
       "      <td>1319</td>\n",
       "    </tr>\n",
       "    <tr>\n",
       "      <th>unique</th>\n",
       "      <td>2</td>\n",
       "      <td>2</td>\n",
       "      <td>2</td>\n",
       "    </tr>\n",
       "    <tr>\n",
       "      <th>top</th>\n",
       "      <td>False</td>\n",
       "      <td>True</td>\n",
       "      <td>True</td>\n",
       "    </tr>\n",
       "    <tr>\n",
       "      <th>freq</th>\n",
       "      <td>870</td>\n",
       "      <td>870</td>\n",
       "      <td>810</td>\n",
       "    </tr>\n",
       "  </tbody>\n",
       "</table>\n",
       "</div>"
      ],
      "text/plain": [
       "       Mulher Homem Infarto\n",
       "count    1319  1319    1319\n",
       "unique      2     2       2\n",
       "top     False  True    True\n",
       "freq      870   870     810"
      ]
     },
     "execution_count": 7,
     "metadata": {},
     "output_type": "execute_result"
    }
   ],
   "source": [
    "Data.describe(include=[bool])"
   ]
  },
  {
   "cell_type": "markdown",
   "id": "9c7fb390-cdab-4536-b254-386165c5c672",
   "metadata": {},
   "source": [
    "A partir de todos esses dados e analizes seria possivel treinar uma IA para que ela pudesse a partir dos dados dizer se a pessoa teve ou não um infarto o que poderia ser util em hospitais por exemplo pra que apois os exame entrarem no sistema poder alertar o médico da urgencia para que ele possa analizar o caso."
   ]
  },
  {
   "cell_type": "markdown",
   "id": "407926c3-9d19-4752-bf69-411a0cbd58b0",
   "metadata": {},
   "source": [
    "O seguinte trecho de código realiza algumas operações relacionadas à manipulação dos tipos de dados e à divisão do conjunto de dados em treino e teste.\n"
   ]
  },
  {
   "cell_type": "code",
   "execution_count": 8,
   "id": "de218352-29e2-4a5c-b2f6-f5d219d762c4",
   "metadata": {},
   "outputs": [],
   "source": [
    "Data = Data.astype({\"Homem\": float,\"Mulher\": float, \"Infarto\":float})\n",
    "Indices_Treino, Indices_Teste = train_test_split(Data.index, test_size=0.2)\n",
    "Data_Treino = Data.loc[Indices_Treino]\n",
    "Data_Teste = Data.loc[Indices_Teste]"
   ]
  },
  {
   "cell_type": "markdown",
   "id": "2847f955-ac46-46b4-99ba-57ddd50d64ad",
   "metadata": {},
   "source": [
    "\n",
    "No primeiro bloco:\n",
    "1. `Xtr`: É criado retirando a coluna 'Infarto' do DataFrame de treinamento (Data_Treino), resultando nas features do conjunto de treinamento.\n",
    "2. `Ytr`: Representa os rótulos do conjunto de treinamento, sendo selecionados da coluna 'Infarto' do DataFrame de treinamento.\n",
    "\n",
    "No segundo bloco:\n",
    "1. `Xts`: É criado retirando a coluna 'Infarto' do DataFrame de teste (Data_Teste), resultando nas features do conjunto de teste.\n",
    "2. `Yts`: Representa os rótulos do conjunto de teste, sendo selecionados da coluna 'Infarto' do DataFrame de teste.\n"
   ]
  },
  {
   "cell_type": "code",
   "execution_count": 9,
   "id": "c507e643-c5c1-4018-9384-edd151be3592",
   "metadata": {},
   "outputs": [
    {
     "name": "stdout",
     "output_type": "stream",
     "text": [
      "      Idade  Mulher  Homem  Impulso  Pressão Mâxima  Pressão Mínima  Glicose  \\\n",
      "573      68     0.0    1.0       90             111              65    134.0   \n",
      "209      60     0.0    1.0       68              42              64    106.0   \n",
      "44       63     0.0    1.0       91             121              82     93.0   \n",
      "944      33     0.0    1.0       87             101              45    319.0   \n",
      "1152     60     1.0    0.0       94             157              79    129.0   \n",
      "...     ...     ...    ...      ...             ...             ...      ...   \n",
      "672      58     0.0    1.0       60             150              83    133.0   \n",
      "473      64     1.0    0.0       63             104              87    227.0   \n",
      "820      58     0.0    1.0       80             109              67    150.0   \n",
      "289      53     1.0    0.0       82              80              80    118.0   \n",
      "1194     51     0.0    1.0       74             118              78     94.0   \n",
      "\n",
      "       CK-MB  Troponina  \n",
      "573    1.650      0.016  \n",
      "209    0.879      0.426  \n",
      "44     4.220      0.008  \n",
      "944    1.320      0.006  \n",
      "1152   0.728      0.009  \n",
      "...      ...        ...  \n",
      "672   52.940      1.310  \n",
      "473    0.493      0.011  \n",
      "820    6.190      0.014  \n",
      "289    1.640      0.008  \n",
      "1194   1.320      0.005  \n",
      "\n",
      "[1055 rows x 9 columns] 573     1.0\n",
      "209     0.0\n",
      "44      1.0\n",
      "944     0.0\n",
      "1152    0.0\n",
      "       ... \n",
      "672     1.0\n",
      "473     0.0\n",
      "820     0.0\n",
      "289     0.0\n",
      "1194    0.0\n",
      "Name: Infarto, Length: 1055, dtype: float64\n",
      "      Idade  Mulher  Homem  Impulso  Pressão Mâxima  Pressão Mínima  Glicose  \\\n",
      "65       54     0.0    1.0      103             120              83    101.0   \n",
      "402      66     0.0    1.0       80             154              98    381.0   \n",
      "293      50     0.0    1.0       74              95              53    184.0   \n",
      "513      42     0.0    1.0       94              98              46    123.0   \n",
      "113      57     0.0    1.0       88             110              70     83.0   \n",
      "...     ...     ...    ...      ...             ...             ...      ...   \n",
      "1066     54     0.0    1.0       98             110              76    362.0   \n",
      "295      63     1.0    0.0       74             119              78    103.0   \n",
      "1277     70     1.0    0.0       61             119              75    114.0   \n",
      "401      28     1.0    0.0       79             166             103    215.0   \n",
      "983      50     1.0    0.0       81             124              75    114.0   \n",
      "\n",
      "       CK-MB  Troponina  \n",
      "65     5.800      0.004  \n",
      "402    2.180      0.023  \n",
      "293    3.940      0.267  \n",
      "513    1.300      0.006  \n",
      "113   40.990      7.670  \n",
      "...      ...        ...  \n",
      "1066   2.270      0.036  \n",
      "295    2.980      0.008  \n",
      "1277   2.110      0.022  \n",
      "401    4.800      0.003  \n",
      "983    0.321      0.003  \n",
      "\n",
      "[264 rows x 9 columns] 65      0.0\n",
      "402     1.0\n",
      "293     1.0\n",
      "513     0.0\n",
      "113     1.0\n",
      "       ... \n",
      "1066    1.0\n",
      "295     0.0\n",
      "1277    1.0\n",
      "401     0.0\n",
      "983     0.0\n",
      "Name: Infarto, Length: 264, dtype: float64\n"
     ]
    }
   ],
   "source": [
    "Xtr=Data_Treino.drop(\"Infarto\", axis=1)\n",
    "Ytr=Data_Treino[\"Infarto\"]\n",
    "print(Xtr,Ytr)\n",
    "Xts=Data_Teste.drop(\"Infarto\", axis=1)\n",
    "Yts=Data_Teste[\"Infarto\"]\n",
    "print(Xts,Yts)"
   ]
  },
  {
   "cell_type": "code",
   "execution_count": 52,
   "id": "4bb79f95-49a8-4812-afb8-e9e01c3e5267",
   "metadata": {},
   "outputs": [],
   "source": [
    "modelo_baseline = DummyClassifier()\n",
    "\n",
    "Base = modelo_baseline.fit(Xtr, Ytr)"
   ]
  },
  {
   "cell_type": "code",
   "execution_count": 53,
   "id": "222b1ffe-d0aa-482a-a26b-17480af286fd",
   "metadata": {},
   "outputs": [
    {
     "data": {
      "text/plain": [
       "<AxesSubplot: >"
      ]
     },
     "execution_count": 53,
     "metadata": {},
     "output_type": "execute_result"
    },
    {
     "data": {
      "image/png": "[encoded data removed]",
      "text/plain": [
       "<Figure size 640x480 with 2 Axes>"
      ]
     },
     "metadata": {},
     "output_type": "display_data"
    }
   ],
   "source": [
    "Y_Previsto_B = Base.predict(Xts)\n",
    "\n",
    "Matriz_Conf_B = confusion_matrix(Yts,Y_Previsto_B)\n",
    "\n",
    "Data_conf_B = pd.DataFrame(Matriz_Conf_B)\n",
    "\n",
    "sns.heatmap(Data_conf_B, annot=True, annot_kws={\"size\": 16})"
   ]
  },
  {
   "cell_type": "code",
   "execution_count": 54,
   "id": "1d6802cd-0989-4a6f-a2c3-c9da2c8d3dd4",
   "metadata": {},
   "outputs": [
    {
     "data": {
      "text/plain": [
       "0.5681818181818182"
      ]
     },
     "execution_count": 54,
     "metadata": {},
     "output_type": "execute_result"
    }
   ],
   "source": [
    "accuracy_score(Yts, Y_Previsto_B, normalize=True)"
   ]
  },
  {
   "cell_type": "markdown",
   "id": "e6f8ee6f-8b30-4efc-9c28-10319aff9f56",
   "metadata": {
    "jp-MarkdownHeadingCollapsed": true,
    "tags": []
   },
   "source": [
    "# Arvore Aleatoria de Classificação "
   ]
  },
  {
   "cell_type": "markdown",
   "id": "41f79489-3c7a-4c3e-8b0b-3b51e8e4aa65",
   "metadata": {},
   "source": [
    " busca aleatória de hiperparâmetros para otimizar um modelo de Random Forest Classifier.\n",
    "\n",
    "1. `N_Divisoes`: Define o número de divisões para a validação cruzada durante a busca de hiperparâmetros, neste caso, 10 divisões.\n",
    "2. `N_Iter`: Define o número de iterações na busca aleatória, neste caso, 100 iterações.\n",
    "3. `Espaco_de_Busca`: Define o espaço de busca para os hiperparâmetros do modelo, incluindo \"max_depth\", \"min_samples_split\", \"min_samples_leaf\" e \"max_features\".\n",
    "4. `Tipo`: Cria uma instância do RandomForestClassifier, que será otimizado durante a busca.\n",
    "5. `Buscador`: Utiliza RandomizedSearchCV para realizar a busca aleatória nos hiperparâmetros, usando o modelo definido, o espaço de busca, e a métrica de avaliação neg_root_mean_squared_error.\n",
    "6. `refit=True`: Reajusta o melhor modelo encontrado com todos os dados de treino após a busca.\n",
    "7. `error_score='raise'`: Eleva um erro caso ocorra algum problema durante a busca.\n",
    "8. `n_jobs=4`: Utiliza 4 processadores para realizar a busca de forma mais eficiente.\n",
    "9. `Buscador.fit(Xtr, Ytr)`: Executa a busca aleatória ajustando o modelo aos dados de treino.\n",
    "\n",
    "Após a busca, os resultados são armazenados em um DataFrame chamado 'Resultados', que contém informações sobre os hiperparâmetros testados e as métricas de avaliação correspondentes.\n"
   ]
  },
  {
   "cell_type": "code",
   "execution_count": 10,
   "id": "484903df-4076-4402-813e-d8cc85c0d36d",
   "metadata": {},
   "outputs": [
    {
     "data": {
      "text/html": [
       "<div>\n",
       "<style scoped>\n",
       "    .dataframe tbody tr th:only-of-type {\n",
       "        vertical-align: middle;\n",
       "    }\n",
       "\n",
       "    .dataframe tbody tr th {\n",
       "        vertical-align: top;\n",
       "    }\n",
       "\n",
       "    .dataframe thead th {\n",
       "        text-align: right;\n",
       "    }\n",
       "</style>\n",
       "<table border=\"1\" class=\"dataframe\">\n",
       "  <thead>\n",
       "    <tr style=\"text-align: right;\">\n",
       "      <th></th>\n",
       "      <th>mean_fit_time</th>\n",
       "      <th>std_fit_time</th>\n",
       "      <th>mean_score_time</th>\n",
       "      <th>std_score_time</th>\n",
       "      <th>param_min_samples_split</th>\n",
       "      <th>param_min_samples_leaf</th>\n",
       "      <th>param_max_features</th>\n",
       "      <th>param_max_depth</th>\n",
       "      <th>params</th>\n",
       "      <th>split0_test_score</th>\n",
       "      <th>...</th>\n",
       "      <th>split3_test_score</th>\n",
       "      <th>split4_test_score</th>\n",
       "      <th>split5_test_score</th>\n",
       "      <th>split6_test_score</th>\n",
       "      <th>split7_test_score</th>\n",
       "      <th>split8_test_score</th>\n",
       "      <th>split9_test_score</th>\n",
       "      <th>mean_test_score</th>\n",
       "      <th>std_test_score</th>\n",
       "      <th>rank_test_score</th>\n",
       "    </tr>\n",
       "  </thead>\n",
       "  <tbody>\n",
       "    <tr>\n",
       "      <th>0</th>\n",
       "      <td>0.185114</td>\n",
       "      <td>0.012364</td>\n",
       "      <td>0.010661</td>\n",
       "      <td>0.003124</td>\n",
       "      <td>2</td>\n",
       "      <td>2</td>\n",
       "      <td>log2</td>\n",
       "      <td>5</td>\n",
       "      <td>{'min_samples_split': 2, 'min_samples_leaf': 2...</td>\n",
       "      <td>-0.168232</td>\n",
       "      <td>...</td>\n",
       "      <td>-0.137361</td>\n",
       "      <td>-0.137361</td>\n",
       "      <td>-0.00000</td>\n",
       "      <td>-0.138013</td>\n",
       "      <td>-0.0</td>\n",
       "      <td>-0.09759</td>\n",
       "      <td>-0.138013</td>\n",
       "      <td>-0.105106</td>\n",
       "      <td>0.056113</td>\n",
       "      <td>22</td>\n",
       "    </tr>\n",
       "    <tr>\n",
       "      <th>1</th>\n",
       "      <td>0.157804</td>\n",
       "      <td>0.012196</td>\n",
       "      <td>0.010429</td>\n",
       "      <td>0.006057</td>\n",
       "      <td>3</td>\n",
       "      <td>1</td>\n",
       "      <td>sqrt</td>\n",
       "      <td>3</td>\n",
       "      <td>{'min_samples_split': 3, 'min_samples_leaf': 1...</td>\n",
       "      <td>-0.168232</td>\n",
       "      <td>...</td>\n",
       "      <td>-0.137361</td>\n",
       "      <td>-0.137361</td>\n",
       "      <td>-0.00000</td>\n",
       "      <td>-0.138013</td>\n",
       "      <td>-0.0</td>\n",
       "      <td>-0.09759</td>\n",
       "      <td>-0.138013</td>\n",
       "      <td>-0.105106</td>\n",
       "      <td>0.056113</td>\n",
       "      <td>22</td>\n",
       "    </tr>\n",
       "    <tr>\n",
       "      <th>2</th>\n",
       "      <td>0.203004</td>\n",
       "      <td>0.012073</td>\n",
       "      <td>0.009843</td>\n",
       "      <td>0.004832</td>\n",
       "      <td>5</td>\n",
       "      <td>4</td>\n",
       "      <td>None</td>\n",
       "      <td>2</td>\n",
       "      <td>{'min_samples_split': 5, 'min_samples_leaf': 4...</td>\n",
       "      <td>-0.168232</td>\n",
       "      <td>...</td>\n",
       "      <td>-0.137361</td>\n",
       "      <td>-0.137361</td>\n",
       "      <td>-0.00000</td>\n",
       "      <td>-0.097590</td>\n",
       "      <td>-0.0</td>\n",
       "      <td>-0.09759</td>\n",
       "      <td>-0.138013</td>\n",
       "      <td>-0.101064</td>\n",
       "      <td>0.055042</td>\n",
       "      <td>3</td>\n",
       "    </tr>\n",
       "    <tr>\n",
       "      <th>3</th>\n",
       "      <td>0.157608</td>\n",
       "      <td>0.006371</td>\n",
       "      <td>0.010218</td>\n",
       "      <td>0.005016</td>\n",
       "      <td>3</td>\n",
       "      <td>4</td>\n",
       "      <td>sqrt</td>\n",
       "      <td>3</td>\n",
       "      <td>{'min_samples_split': 3, 'min_samples_leaf': 4...</td>\n",
       "      <td>-0.168232</td>\n",
       "      <td>...</td>\n",
       "      <td>-0.137361</td>\n",
       "      <td>-0.137361</td>\n",
       "      <td>-0.00000</td>\n",
       "      <td>-0.097590</td>\n",
       "      <td>-0.0</td>\n",
       "      <td>-0.09759</td>\n",
       "      <td>-0.138013</td>\n",
       "      <td>-0.101064</td>\n",
       "      <td>0.055042</td>\n",
       "      <td>3</td>\n",
       "    </tr>\n",
       "    <tr>\n",
       "      <th>4</th>\n",
       "      <td>0.181214</td>\n",
       "      <td>0.016057</td>\n",
       "      <td>0.011126</td>\n",
       "      <td>0.005609</td>\n",
       "      <td>2</td>\n",
       "      <td>2</td>\n",
       "      <td>log2</td>\n",
       "      <td>10</td>\n",
       "      <td>{'min_samples_split': 2, 'min_samples_leaf': 2...</td>\n",
       "      <td>-0.168232</td>\n",
       "      <td>...</td>\n",
       "      <td>-0.137361</td>\n",
       "      <td>-0.137361</td>\n",
       "      <td>-0.00000</td>\n",
       "      <td>-0.138013</td>\n",
       "      <td>-0.0</td>\n",
       "      <td>-0.09759</td>\n",
       "      <td>-0.138013</td>\n",
       "      <td>-0.105106</td>\n",
       "      <td>0.056113</td>\n",
       "      <td>22</td>\n",
       "    </tr>\n",
       "    <tr>\n",
       "      <th>...</th>\n",
       "      <td>...</td>\n",
       "      <td>...</td>\n",
       "      <td>...</td>\n",
       "      <td>...</td>\n",
       "      <td>...</td>\n",
       "      <td>...</td>\n",
       "      <td>...</td>\n",
       "      <td>...</td>\n",
       "      <td>...</td>\n",
       "      <td>...</td>\n",
       "      <td>...</td>\n",
       "      <td>...</td>\n",
       "      <td>...</td>\n",
       "      <td>...</td>\n",
       "      <td>...</td>\n",
       "      <td>...</td>\n",
       "      <td>...</td>\n",
       "      <td>...</td>\n",
       "      <td>...</td>\n",
       "      <td>...</td>\n",
       "      <td>...</td>\n",
       "    </tr>\n",
       "    <tr>\n",
       "      <th>95</th>\n",
       "      <td>0.658896</td>\n",
       "      <td>0.033153</td>\n",
       "      <td>0.030440</td>\n",
       "      <td>0.002506</td>\n",
       "      <td>5</td>\n",
       "      <td>2</td>\n",
       "      <td>None</td>\n",
       "      <td>7</td>\n",
       "      <td>{'min_samples_split': 5, 'min_samples_leaf': 2...</td>\n",
       "      <td>-0.168232</td>\n",
       "      <td>...</td>\n",
       "      <td>-0.137361</td>\n",
       "      <td>-0.137361</td>\n",
       "      <td>-0.09759</td>\n",
       "      <td>-0.000000</td>\n",
       "      <td>-0.0</td>\n",
       "      <td>-0.09759</td>\n",
       "      <td>-0.138013</td>\n",
       "      <td>-0.101064</td>\n",
       "      <td>0.055042</td>\n",
       "      <td>3</td>\n",
       "    </tr>\n",
       "    <tr>\n",
       "      <th>96</th>\n",
       "      <td>0.477418</td>\n",
       "      <td>0.031698</td>\n",
       "      <td>0.029771</td>\n",
       "      <td>0.005155</td>\n",
       "      <td>5</td>\n",
       "      <td>1</td>\n",
       "      <td>0.33</td>\n",
       "      <td>5</td>\n",
       "      <td>{'min_samples_split': 5, 'min_samples_leaf': 1...</td>\n",
       "      <td>-0.168232</td>\n",
       "      <td>...</td>\n",
       "      <td>-0.137361</td>\n",
       "      <td>-0.137361</td>\n",
       "      <td>-0.09759</td>\n",
       "      <td>-0.097590</td>\n",
       "      <td>-0.0</td>\n",
       "      <td>-0.09759</td>\n",
       "      <td>-0.138013</td>\n",
       "      <td>-0.110823</td>\n",
       "      <td>0.043752</td>\n",
       "      <td>67</td>\n",
       "    </tr>\n",
       "    <tr>\n",
       "      <th>97</th>\n",
       "      <td>0.457934</td>\n",
       "      <td>0.028617</td>\n",
       "      <td>0.029754</td>\n",
       "      <td>0.007884</td>\n",
       "      <td>4</td>\n",
       "      <td>2</td>\n",
       "      <td>0.33</td>\n",
       "      <td>3</td>\n",
       "      <td>{'min_samples_split': 4, 'min_samples_leaf': 2...</td>\n",
       "      <td>-0.168232</td>\n",
       "      <td>...</td>\n",
       "      <td>-0.137361</td>\n",
       "      <td>-0.137361</td>\n",
       "      <td>-0.00000</td>\n",
       "      <td>-0.097590</td>\n",
       "      <td>-0.0</td>\n",
       "      <td>-0.09759</td>\n",
       "      <td>-0.138013</td>\n",
       "      <td>-0.101064</td>\n",
       "      <td>0.055042</td>\n",
       "      <td>3</td>\n",
       "    </tr>\n",
       "    <tr>\n",
       "      <th>98</th>\n",
       "      <td>0.513330</td>\n",
       "      <td>0.030104</td>\n",
       "      <td>0.034213</td>\n",
       "      <td>0.007691</td>\n",
       "      <td>4</td>\n",
       "      <td>1</td>\n",
       "      <td>log2</td>\n",
       "      <td>7</td>\n",
       "      <td>{'min_samples_split': 4, 'min_samples_leaf': 1...</td>\n",
       "      <td>-0.168232</td>\n",
       "      <td>...</td>\n",
       "      <td>-0.137361</td>\n",
       "      <td>-0.137361</td>\n",
       "      <td>-0.09759</td>\n",
       "      <td>-0.138013</td>\n",
       "      <td>-0.0</td>\n",
       "      <td>-0.09759</td>\n",
       "      <td>-0.138013</td>\n",
       "      <td>-0.114865</td>\n",
       "      <td>0.044208</td>\n",
       "      <td>74</td>\n",
       "    </tr>\n",
       "    <tr>\n",
       "      <th>99</th>\n",
       "      <td>0.525195</td>\n",
       "      <td>0.031879</td>\n",
       "      <td>0.025398</td>\n",
       "      <td>0.006281</td>\n",
       "      <td>3</td>\n",
       "      <td>3</td>\n",
       "      <td>sqrt</td>\n",
       "      <td>10</td>\n",
       "      <td>{'min_samples_split': 3, 'min_samples_leaf': 3...</td>\n",
       "      <td>-0.168232</td>\n",
       "      <td>...</td>\n",
       "      <td>-0.137361</td>\n",
       "      <td>-0.137361</td>\n",
       "      <td>-0.00000</td>\n",
       "      <td>-0.138013</td>\n",
       "      <td>-0.0</td>\n",
       "      <td>-0.09759</td>\n",
       "      <td>-0.138013</td>\n",
       "      <td>-0.105106</td>\n",
       "      <td>0.056113</td>\n",
       "      <td>22</td>\n",
       "    </tr>\n",
       "  </tbody>\n",
       "</table>\n",
       "<p>100 rows × 22 columns</p>\n",
       "</div>"
      ],
      "text/plain": [
       "    mean_fit_time  std_fit_time  mean_score_time  std_score_time  \\\n",
       "0        0.185114      0.012364         0.010661        0.003124   \n",
       "1        0.157804      0.012196         0.010429        0.006057   \n",
       "2        0.203004      0.012073         0.009843        0.004832   \n",
       "3        0.157608      0.006371         0.010218        0.005016   \n",
       "4        0.181214      0.016057         0.011126        0.005609   \n",
       "..            ...           ...              ...             ...   \n",
       "95       0.658896      0.033153         0.030440        0.002506   \n",
       "96       0.477418      0.031698         0.029771        0.005155   \n",
       "97       0.457934      0.028617         0.029754        0.007884   \n",
       "98       0.513330      0.030104         0.034213        0.007691   \n",
       "99       0.525195      0.031879         0.025398        0.006281   \n",
       "\n",
       "   param_min_samples_split param_min_samples_leaf param_max_features  \\\n",
       "0                        2                      2               log2   \n",
       "1                        3                      1               sqrt   \n",
       "2                        5                      4               None   \n",
       "3                        3                      4               sqrt   \n",
       "4                        2                      2               log2   \n",
       "..                     ...                    ...                ...   \n",
       "95                       5                      2               None   \n",
       "96                       5                      1               0.33   \n",
       "97                       4                      2               0.33   \n",
       "98                       4                      1               log2   \n",
       "99                       3                      3               sqrt   \n",
       "\n",
       "   param_max_depth                                             params  \\\n",
       "0                5  {'min_samples_split': 2, 'min_samples_leaf': 2...   \n",
       "1                3  {'min_samples_split': 3, 'min_samples_leaf': 1...   \n",
       "2                2  {'min_samples_split': 5, 'min_samples_leaf': 4...   \n",
       "3                3  {'min_samples_split': 3, 'min_samples_leaf': 4...   \n",
       "4               10  {'min_samples_split': 2, 'min_samples_leaf': 2...   \n",
       "..             ...                                                ...   \n",
       "95               7  {'min_samples_split': 5, 'min_samples_leaf': 2...   \n",
       "96               5  {'min_samples_split': 5, 'min_samples_leaf': 1...   \n",
       "97               3  {'min_samples_split': 4, 'min_samples_leaf': 2...   \n",
       "98               7  {'min_samples_split': 4, 'min_samples_leaf': 1...   \n",
       "99              10  {'min_samples_split': 3, 'min_samples_leaf': 3...   \n",
       "\n",
       "    split0_test_score  ...  split3_test_score  split4_test_score  \\\n",
       "0           -0.168232  ...          -0.137361          -0.137361   \n",
       "1           -0.168232  ...          -0.137361          -0.137361   \n",
       "2           -0.168232  ...          -0.137361          -0.137361   \n",
       "3           -0.168232  ...          -0.137361          -0.137361   \n",
       "4           -0.168232  ...          -0.137361          -0.137361   \n",
       "..                ...  ...                ...                ...   \n",
       "95          -0.168232  ...          -0.137361          -0.137361   \n",
       "96          -0.168232  ...          -0.137361          -0.137361   \n",
       "97          -0.168232  ...          -0.137361          -0.137361   \n",
       "98          -0.168232  ...          -0.137361          -0.137361   \n",
       "99          -0.168232  ...          -0.137361          -0.137361   \n",
       "\n",
       "    split5_test_score  split6_test_score  split7_test_score  \\\n",
       "0            -0.00000          -0.138013               -0.0   \n",
       "1            -0.00000          -0.138013               -0.0   \n",
       "2            -0.00000          -0.097590               -0.0   \n",
       "3            -0.00000          -0.097590               -0.0   \n",
       "4            -0.00000          -0.138013               -0.0   \n",
       "..                ...                ...                ...   \n",
       "95           -0.09759          -0.000000               -0.0   \n",
       "96           -0.09759          -0.097590               -0.0   \n",
       "97           -0.00000          -0.097590               -0.0   \n",
       "98           -0.09759          -0.138013               -0.0   \n",
       "99           -0.00000          -0.138013               -0.0   \n",
       "\n",
       "    split8_test_score  split9_test_score  mean_test_score  std_test_score  \\\n",
       "0            -0.09759          -0.138013        -0.105106        0.056113   \n",
       "1            -0.09759          -0.138013        -0.105106        0.056113   \n",
       "2            -0.09759          -0.138013        -0.101064        0.055042   \n",
       "3            -0.09759          -0.138013        -0.101064        0.055042   \n",
       "4            -0.09759          -0.138013        -0.105106        0.056113   \n",
       "..                ...                ...              ...             ...   \n",
       "95           -0.09759          -0.138013        -0.101064        0.055042   \n",
       "96           -0.09759          -0.138013        -0.110823        0.043752   \n",
       "97           -0.09759          -0.138013        -0.101064        0.055042   \n",
       "98           -0.09759          -0.138013        -0.114865        0.044208   \n",
       "99           -0.09759          -0.138013        -0.105106        0.056113   \n",
       "\n",
       "    rank_test_score  \n",
       "0                22  \n",
       "1                22  \n",
       "2                 3  \n",
       "3                 3  \n",
       "4                22  \n",
       "..              ...  \n",
       "95                3  \n",
       "96               67  \n",
       "97                3  \n",
       "98               74  \n",
       "99               22  \n",
       "\n",
       "[100 rows x 22 columns]"
      ]
     },
     "execution_count": 10,
     "metadata": {},
     "output_type": "execute_result"
    }
   ],
   "source": [
    "N_Divisoes = 10\n",
    "N_Iter = 100\n",
    "\n",
    "Espaco_de_Busca = {\n",
    "    \"max_depth\": [None, 2, 3, 5, 7, 10],\n",
    "    \"min_samples_split\": [2, 3, 4, 5],\n",
    "    \"min_samples_leaf\": [1, 2, 3, 4],\n",
    "    \"max_features\": [None, 0.33, \"sqrt\", \"log2\"],\n",
    "}\n",
    "\n",
    "Tipo = RandomForestClassifier()\n",
    "\n",
    "Buscador = RandomizedSearchCV(\n",
    "    Tipo,\n",
    "    Espaco_de_Busca,\n",
    "    n_iter= N_Iter,\n",
    "    cv= N_Divisoes,\n",
    "    scoring=\"neg_root_mean_squared_error\",\n",
    "    refit=True,# reajusta o melhor modelo com todos os dados de treino\n",
    "    error_score='raise',\n",
    "    n_jobs=4,\n",
    "   )\n",
    "\n",
    "Buscador.fit(Xtr, Ytr)\n",
    "\n",
    "Resultados = pd.DataFrame(Buscador.cv_results_)\n",
    "Resultados"
   ]
  },
  {
   "cell_type": "markdown",
   "id": "bd9c059f-d333-41e3-baf1-4147dccba978",
   "metadata": {},
   "source": [
    "informações sobre os melhores hiperparâmetros encontrados durante a busca aleatória.\n",
    "\n"
   ]
  },
  {
   "cell_type": "code",
   "execution_count": 11,
   "id": "13ccfe89-1161-4d45-856c-e91dfc3d2951",
   "metadata": {},
   "outputs": [
    {
     "name": "stdout",
     "output_type": "stream",
     "text": [
      "A melhor métrica para o dados de treino foi:  0.09135064645318579\n",
      "O Hiperparametros correspondentes são  {'min_samples_split': 5, 'min_samples_leaf': 4, 'max_features': 0.33, 'max_depth': 3}\n"
     ]
    }
   ],
   "source": [
    "Hiperparametros = Buscador.best_params_\n",
    "print(\"A melhor métrica para o dados de treino foi: \", abs(Buscador.best_score_))\n",
    "print(\"O Hiperparametros correspondentes são \", Hiperparametros)"
   ]
  },
  {
   "cell_type": "markdown",
   "id": "342df647-393f-4862-828d-a2805d4c4d9c",
   "metadata": {},
   "source": [
    "Este trecho de código cria um novo modelo RandomForestClassifier utilizando os melhores hiperparâmetros encontrados durante a busca aleatória e o ajusta aos dados de treinamento.\n"
   ]
  },
  {
   "cell_type": "code",
   "execution_count": 12,
   "id": "d1163de7-fe8c-47f6-9306-2388defc7687",
   "metadata": {},
   "outputs": [
    {
     "data": {
      "text/html": [
       "<style>#sk-container-id-1 {color: black;background-color: white;}#sk-container-id-1 pre{padding: 0;}#sk-container-id-1 div.sk-toggleable {background-color: white;}#sk-container-id-1 label.sk-toggleable__label {cursor: pointer;display: block;width: 100%;margin-bottom: 0;padding: 0.3em;box-sizing: border-box;text-align: center;}#sk-container-id-1 label.sk-toggleable__label-arrow:before {content: \"▸\";float: left;margin-right: 0.25em;color: #696969;}#sk-container-id-1 label.sk-toggleable__label-arrow:hover:before {color: black;}#sk-container-id-1 div.sk-estimator:hover label.sk-toggleable__label-arrow:before {color: black;}#sk-container-id-1 div.sk-toggleable__content {max-height: 0;max-width: 0;overflow: hidden;text-align: left;background-color: #f0f8ff;}#sk-container-id-1 div.sk-toggleable__content pre {margin: 0.2em;color: black;border-radius: 0.25em;background-color: #f0f8ff;}#sk-container-id-1 input.sk-toggleable__control:checked~div.sk-toggleable__content {max-height: 200px;max-width: 100%;overflow: auto;}#sk-container-id-1 input.sk-toggleable__control:checked~label.sk-toggleable__label-arrow:before {content: \"▾\";}#sk-container-id-1 div.sk-estimator input.sk-toggleable__control:checked~label.sk-toggleable__label {background-color: #d4ebff;}#sk-container-id-1 div.sk-label input.sk-toggleable__control:checked~label.sk-toggleable__label {background-color: #d4ebff;}#sk-container-id-1 input.sk-hidden--visually {border: 0;clip: rect(1px 1px 1px 1px);clip: rect(1px, 1px, 1px, 1px);height: 1px;margin: -1px;overflow: hidden;padding: 0;position: absolute;width: 1px;}#sk-container-id-1 div.sk-estimator {font-family: monospace;background-color: #f0f8ff;border: 1px dotted black;border-radius: 0.25em;box-sizing: border-box;margin-bottom: 0.5em;}#sk-container-id-1 div.sk-estimator:hover {background-color: #d4ebff;}#sk-container-id-1 div.sk-parallel-item::after {content: \"\";width: 100%;border-bottom: 1px solid gray;flex-grow: 1;}#sk-container-id-1 div.sk-label:hover label.sk-toggleable__label {background-color: #d4ebff;}#sk-container-id-1 div.sk-serial::before {content: \"\";position: absolute;border-left: 1px solid gray;box-sizing: border-box;top: 0;bottom: 0;left: 50%;z-index: 0;}#sk-container-id-1 div.sk-serial {display: flex;flex-direction: column;align-items: center;background-color: white;padding-right: 0.2em;padding-left: 0.2em;position: relative;}#sk-container-id-1 div.sk-item {position: relative;z-index: 1;}#sk-container-id-1 div.sk-parallel {display: flex;align-items: stretch;justify-content: center;background-color: white;position: relative;}#sk-container-id-1 div.sk-item::before, #sk-container-id-1 div.sk-parallel-item::before {content: \"\";position: absolute;border-left: 1px solid gray;box-sizing: border-box;top: 0;bottom: 0;left: 50%;z-index: -1;}#sk-container-id-1 div.sk-parallel-item {display: flex;flex-direction: column;z-index: 1;position: relative;background-color: white;}#sk-container-id-1 div.sk-parallel-item:first-child::after {align-self: flex-end;width: 50%;}#sk-container-id-1 div.sk-parallel-item:last-child::after {align-self: flex-start;width: 50%;}#sk-container-id-1 div.sk-parallel-item:only-child::after {width: 0;}#sk-container-id-1 div.sk-dashed-wrapped {border: 1px dashed gray;margin: 0 0.4em 0.5em 0.4em;box-sizing: border-box;padding-bottom: 0.4em;background-color: white;}#sk-container-id-1 div.sk-label label {font-family: monospace;font-weight: bold;display: inline-block;line-height: 1.2em;}#sk-container-id-1 div.sk-label-container {text-align: center;}#sk-container-id-1 div.sk-container {/* jupyter's `normalize.less` sets `[hidden] { display: none; }` but bootstrap.min.css set `[hidden] { display: none !important; }` so we also need the `!important` here to be able to override the default hidden behavior on the sphinx rendered scikit-learn.org. See: https://github.com/scikit-learn/scikit-learn/issues/21755 */display: inline-block !important;position: relative;}#sk-container-id-1 div.sk-text-repr-fallback {display: none;}</style><div id=\"sk-container-id-1\" class=\"sk-top-container\"><div class=\"sk-text-repr-fallback\"><pre>RandomForestClassifier(max_depth=3, max_features=0.33, min_samples_leaf=4,\n",
       "                       min_samples_split=5)</pre><b>In a Jupyter environment, please rerun this cell to show the HTML representation or trust the notebook. <br />On GitHub, the HTML representation is unable to render, please try loading this page with nbviewer.org.</b></div><div class=\"sk-container\" hidden><div class=\"sk-item\"><div class=\"sk-estimator sk-toggleable\"><input class=\"sk-toggleable__control sk-hidden--visually\" id=\"sk-estimator-id-1\" type=\"checkbox\" checked><label for=\"sk-estimator-id-1\" class=\"sk-toggleable__label sk-toggleable__label-arrow\">RandomForestClassifier</label><div class=\"sk-toggleable__content\"><pre>RandomForestClassifier(max_depth=3, max_features=0.33, min_samples_leaf=4,\n",
       "                       min_samples_split=5)</pre></div></div></div></div></div>"
      ],
      "text/plain": [
       "RandomForestClassifier(max_depth=3, max_features=0.33, min_samples_leaf=4,\n",
       "                       min_samples_split=5)"
      ]
     },
     "execution_count": 12,
     "metadata": {},
     "output_type": "execute_result"
    }
   ],
   "source": [
    "TESTE = RandomForestClassifier(min_samples_split = Hiperparametros.get(\"min_samples_split\"), min_samples_leaf = Hiperparametros.get(\"min_samples_leaf\"), max_features =Hiperparametros.get(\"max_features\"), max_depth = Hiperparametros.get(\"max_depth\"))\n",
    "TESTE.fit(Xtr,Ytr)"
   ]
  },
  {
   "cell_type": "markdown",
   "id": "3275186c-7f20-49af-96ed-a0d7d5e91e8e",
   "metadata": {},
   "source": [
    "utilizando o modelo RandomForestClassifier otimizado e, em seguida, é gerada uma matriz de confusão e exibido um mapa de calor."
   ]
  },
  {
   "cell_type": "code",
   "execution_count": 13,
   "id": "c469a227-c18e-4ec4-b8c8-997296bfdc62",
   "metadata": {},
   "outputs": [
    {
     "data": {
      "text/plain": [
       "<AxesSubplot: >"
      ]
     },
     "execution_count": 13,
     "metadata": {},
     "output_type": "execute_result"
    },
    {
     "data": {
      "image/png": "[encoded data removed]",
      "text/plain": [
       "<Figure size 640x480 with 2 Axes>"
      ]
     },
     "metadata": {},
     "output_type": "display_data"
    }
   ],
   "source": [
    "Y_Previsto = TESTE.predict(Xts)\n",
    "\n",
    "Matriz_Conf = confusion_matrix(Yts,Y_Previsto)\n",
    "\n",
    "Data_conf = pd.DataFrame(Matriz_Conf)\n",
    "\n",
    "sns.heatmap(Data_conf, annot=True, annot_kws={\"size\": 16})"
   ]
  },
  {
   "cell_type": "code",
   "execution_count": 27,
   "id": "e152a578-2f13-404d-9f4c-137e2cf8b448",
   "metadata": {},
   "outputs": [
    {
     "data": {
      "text/plain": [
       "0.9848484848484849"
      ]
     },
     "execution_count": 27,
     "metadata": {},
     "output_type": "execute_result"
    }
   ],
   "source": [
    "accuracy_score(Yts, Y_Previsto, normalize=True)"
   ]
  },
  {
   "cell_type": "markdown",
   "id": "c007021d-50b8-4da0-8fad-344faa2da966",
   "metadata": {
    "tags": []
   },
   "source": [
    "# LogisticRegression"
   ]
  },
  {
   "cell_type": "markdown",
   "id": "d2e7e79d-a389-464c-b2c0-52b2287124d3",
   "metadata": {},
   "source": [
    "foi criado e treinado um modelo de Regressão Logística.\n"
   ]
  },
  {
   "cell_type": "code",
   "execution_count": 14,
   "id": "4ef3fdb7-c8ae-4bf0-ab25-3fb24da490c9",
   "metadata": {},
   "outputs": [
    {
     "data": {
      "text/html": [
       "<style>#sk-container-id-2 {color: black;background-color: white;}#sk-container-id-2 pre{padding: 0;}#sk-container-id-2 div.sk-toggleable {background-color: white;}#sk-container-id-2 label.sk-toggleable__label {cursor: pointer;display: block;width: 100%;margin-bottom: 0;padding: 0.3em;box-sizing: border-box;text-align: center;}#sk-container-id-2 label.sk-toggleable__label-arrow:before {content: \"▸\";float: left;margin-right: 0.25em;color: #696969;}#sk-container-id-2 label.sk-toggleable__label-arrow:hover:before {color: black;}#sk-container-id-2 div.sk-estimator:hover label.sk-toggleable__label-arrow:before {color: black;}#sk-container-id-2 div.sk-toggleable__content {max-height: 0;max-width: 0;overflow: hidden;text-align: left;background-color: #f0f8ff;}#sk-container-id-2 div.sk-toggleable__content pre {margin: 0.2em;color: black;border-radius: 0.25em;background-color: #f0f8ff;}#sk-container-id-2 input.sk-toggleable__control:checked~div.sk-toggleable__content {max-height: 200px;max-width: 100%;overflow: auto;}#sk-container-id-2 input.sk-toggleable__control:checked~label.sk-toggleable__label-arrow:before {content: \"▾\";}#sk-container-id-2 div.sk-estimator input.sk-toggleable__control:checked~label.sk-toggleable__label {background-color: #d4ebff;}#sk-container-id-2 div.sk-label input.sk-toggleable__control:checked~label.sk-toggleable__label {background-color: #d4ebff;}#sk-container-id-2 input.sk-hidden--visually {border: 0;clip: rect(1px 1px 1px 1px);clip: rect(1px, 1px, 1px, 1px);height: 1px;margin: -1px;overflow: hidden;padding: 0;position: absolute;width: 1px;}#sk-container-id-2 div.sk-estimator {font-family: monospace;background-color: #f0f8ff;border: 1px dotted black;border-radius: 0.25em;box-sizing: border-box;margin-bottom: 0.5em;}#sk-container-id-2 div.sk-estimator:hover {background-color: #d4ebff;}#sk-container-id-2 div.sk-parallel-item::after {content: \"\";width: 100%;border-bottom: 1px solid gray;flex-grow: 1;}#sk-container-id-2 div.sk-label:hover label.sk-toggleable__label {background-color: #d4ebff;}#sk-container-id-2 div.sk-serial::before {content: \"\";position: absolute;border-left: 1px solid gray;box-sizing: border-box;top: 0;bottom: 0;left: 50%;z-index: 0;}#sk-container-id-2 div.sk-serial {display: flex;flex-direction: column;align-items: center;background-color: white;padding-right: 0.2em;padding-left: 0.2em;position: relative;}#sk-container-id-2 div.sk-item {position: relative;z-index: 1;}#sk-container-id-2 div.sk-parallel {display: flex;align-items: stretch;justify-content: center;background-color: white;position: relative;}#sk-container-id-2 div.sk-item::before, #sk-container-id-2 div.sk-parallel-item::before {content: \"\";position: absolute;border-left: 1px solid gray;box-sizing: border-box;top: 0;bottom: 0;left: 50%;z-index: -1;}#sk-container-id-2 div.sk-parallel-item {display: flex;flex-direction: column;z-index: 1;position: relative;background-color: white;}#sk-container-id-2 div.sk-parallel-item:first-child::after {align-self: flex-end;width: 50%;}#sk-container-id-2 div.sk-parallel-item:last-child::after {align-self: flex-start;width: 50%;}#sk-container-id-2 div.sk-parallel-item:only-child::after {width: 0;}#sk-container-id-2 div.sk-dashed-wrapped {border: 1px dashed gray;margin: 0 0.4em 0.5em 0.4em;box-sizing: border-box;padding-bottom: 0.4em;background-color: white;}#sk-container-id-2 div.sk-label label {font-family: monospace;font-weight: bold;display: inline-block;line-height: 1.2em;}#sk-container-id-2 div.sk-label-container {text-align: center;}#sk-container-id-2 div.sk-container {/* jupyter's `normalize.less` sets `[hidden] { display: none; }` but bootstrap.min.css set `[hidden] { display: none !important; }` so we also need the `!important` here to be able to override the default hidden behavior on the sphinx rendered scikit-learn.org. See: https://github.com/scikit-learn/scikit-learn/issues/21755 */display: inline-block !important;position: relative;}#sk-container-id-2 div.sk-text-repr-fallback {display: none;}</style><div id=\"sk-container-id-2\" class=\"sk-top-container\"><div class=\"sk-text-repr-fallback\"><pre>LogisticRegression(max_iter=1000)</pre><b>In a Jupyter environment, please rerun this cell to show the HTML representation or trust the notebook. <br />On GitHub, the HTML representation is unable to render, please try loading this page with nbviewer.org.</b></div><div class=\"sk-container\" hidden><div class=\"sk-item\"><div class=\"sk-estimator sk-toggleable\"><input class=\"sk-toggleable__control sk-hidden--visually\" id=\"sk-estimator-id-2\" type=\"checkbox\" checked><label for=\"sk-estimator-id-2\" class=\"sk-toggleable__label sk-toggleable__label-arrow\">LogisticRegression</label><div class=\"sk-toggleable__content\"><pre>LogisticRegression(max_iter=1000)</pre></div></div></div></div></div>"
      ],
      "text/plain": [
       "LogisticRegression(max_iter=1000)"
      ]
     },
     "execution_count": 14,
     "metadata": {},
     "output_type": "execute_result"
    }
   ],
   "source": [
    "modelo_lr = LogisticRegression(max_iter=1000)\n",
    "\n",
    "modelo_lr.fit(Xtr,Ytr)\n"
   ]
  },
  {
   "cell_type": "markdown",
   "id": "823dbf1b-b337-4a88-adf8-5d1be733bf79",
   "metadata": {},
   "source": [
    "são realizadas previsões utilizando o modelo de Regressão Logística treinado, e em seguida, é gerada uma matriz de confusão e exibido um mapa de calor.\n",
    "\n",
    "1. `y_verdadeiro`: Representa os rótulos reais dos dados de teste (Yts).\n",
    "2. `y_previsao`: Gera previsões utilizando o modelo de Regressão Logística nos dados de teste (Xts).\n",
    "3. `matriz_conf`: Calcula a matriz de confusão comparando as previsões (`y_previsao`) com os rótulos reais (`y_verdadeiro`).\n",
    "4. `df_conf`: Converte a matriz de confusão em um DataFrame para facilitar a visualização."
   ]
  },
  {
   "cell_type": "code",
   "execution_count": 15,
   "id": "a3be1988-44b7-40e0-9f9c-7aaa245b6427",
   "metadata": {},
   "outputs": [
    {
     "data": {
      "text/plain": [
       "<AxesSubplot: >"
      ]
     },
     "execution_count": 15,
     "metadata": {},
     "output_type": "execute_result"
    },
    {
     "data": {
      "image/png": "[encoded data removed]",
      "text/plain": [
       "<Figure size 640x480 with 2 Axes>"
      ]
     },
     "metadata": {},
     "output_type": "display_data"
    }
   ],
   "source": [
    "y_verdadeiro = Yts\n",
    "y_previsao = modelo_lr.predict(Xts)\n",
    "\n",
    "matriz_conf = confusion_matrix(y_verdadeiro, y_previsao)\n",
    "\n",
    "df_conf = pd.DataFrame(matriz_conf)\n",
    "\n",
    "sns.heatmap(df_conf, annot=True, annot_kws={\"size\": 16})"
   ]
  },
  {
   "cell_type": "code",
   "execution_count": 28,
   "id": "5f440cc7-0d0c-4e5b-8ef7-1a77e107bb76",
   "metadata": {},
   "outputs": [
    {
     "data": {
      "text/plain": [
       "0.6856060606060606"
      ]
     },
     "execution_count": 28,
     "metadata": {},
     "output_type": "execute_result"
    }
   ],
   "source": [
    "accuracy_score(Yts, y_previsao, normalize=True)"
   ]
  },
  {
   "cell_type": "markdown",
   "id": "88552b44-3889-497d-99cc-33966a0b0de6",
   "metadata": {},
   "source": [
    "# PCA"
   ]
  },
  {
   "cell_type": "markdown",
   "id": "db816716-bcc8-4251-8e2f-38d3073f8fb0",
   "metadata": {},
   "source": [
    "Dataframe usado para o PCA"
   ]
  },
  {
   "cell_type": "code",
   "execution_count": 16,
   "id": "c75e3f7d-612f-4c79-9d3a-2fefedbd173a",
   "metadata": {},
   "outputs": [
    {
     "data": {
      "text/html": [
       "<div>\n",
       "<style scoped>\n",
       "    .dataframe tbody tr th:only-of-type {\n",
       "        vertical-align: middle;\n",
       "    }\n",
       "\n",
       "    .dataframe tbody tr th {\n",
       "        vertical-align: top;\n",
       "    }\n",
       "\n",
       "    .dataframe thead th {\n",
       "        text-align: right;\n",
       "    }\n",
       "</style>\n",
       "<table border=\"1\" class=\"dataframe\">\n",
       "  <thead>\n",
       "    <tr style=\"text-align: right;\">\n",
       "      <th></th>\n",
       "      <th>Idade</th>\n",
       "      <th>Mulher</th>\n",
       "      <th>Homem</th>\n",
       "      <th>Impulso</th>\n",
       "      <th>Pressão Mâxima</th>\n",
       "      <th>Pressão Mínima</th>\n",
       "      <th>Glicose</th>\n",
       "      <th>CK-MB</th>\n",
       "      <th>Troponina</th>\n",
       "    </tr>\n",
       "  </thead>\n",
       "  <tbody>\n",
       "    <tr>\n",
       "      <th>573</th>\n",
       "      <td>68</td>\n",
       "      <td>0.0</td>\n",
       "      <td>1.0</td>\n",
       "      <td>90</td>\n",
       "      <td>111</td>\n",
       "      <td>65</td>\n",
       "      <td>134.0</td>\n",
       "      <td>1.650</td>\n",
       "      <td>0.016</td>\n",
       "    </tr>\n",
       "    <tr>\n",
       "      <th>209</th>\n",
       "      <td>60</td>\n",
       "      <td>0.0</td>\n",
       "      <td>1.0</td>\n",
       "      <td>68</td>\n",
       "      <td>42</td>\n",
       "      <td>64</td>\n",
       "      <td>106.0</td>\n",
       "      <td>0.879</td>\n",
       "      <td>0.426</td>\n",
       "    </tr>\n",
       "    <tr>\n",
       "      <th>44</th>\n",
       "      <td>63</td>\n",
       "      <td>0.0</td>\n",
       "      <td>1.0</td>\n",
       "      <td>91</td>\n",
       "      <td>121</td>\n",
       "      <td>82</td>\n",
       "      <td>93.0</td>\n",
       "      <td>4.220</td>\n",
       "      <td>0.008</td>\n",
       "    </tr>\n",
       "    <tr>\n",
       "      <th>944</th>\n",
       "      <td>33</td>\n",
       "      <td>0.0</td>\n",
       "      <td>1.0</td>\n",
       "      <td>87</td>\n",
       "      <td>101</td>\n",
       "      <td>45</td>\n",
       "      <td>319.0</td>\n",
       "      <td>1.320</td>\n",
       "      <td>0.006</td>\n",
       "    </tr>\n",
       "    <tr>\n",
       "      <th>1152</th>\n",
       "      <td>60</td>\n",
       "      <td>1.0</td>\n",
       "      <td>0.0</td>\n",
       "      <td>94</td>\n",
       "      <td>157</td>\n",
       "      <td>79</td>\n",
       "      <td>129.0</td>\n",
       "      <td>0.728</td>\n",
       "      <td>0.009</td>\n",
       "    </tr>\n",
       "    <tr>\n",
       "      <th>...</th>\n",
       "      <td>...</td>\n",
       "      <td>...</td>\n",
       "      <td>...</td>\n",
       "      <td>...</td>\n",
       "      <td>...</td>\n",
       "      <td>...</td>\n",
       "      <td>...</td>\n",
       "      <td>...</td>\n",
       "      <td>...</td>\n",
       "    </tr>\n",
       "    <tr>\n",
       "      <th>672</th>\n",
       "      <td>58</td>\n",
       "      <td>0.0</td>\n",
       "      <td>1.0</td>\n",
       "      <td>60</td>\n",
       "      <td>150</td>\n",
       "      <td>83</td>\n",
       "      <td>133.0</td>\n",
       "      <td>52.940</td>\n",
       "      <td>1.310</td>\n",
       "    </tr>\n",
       "    <tr>\n",
       "      <th>473</th>\n",
       "      <td>64</td>\n",
       "      <td>1.0</td>\n",
       "      <td>0.0</td>\n",
       "      <td>63</td>\n",
       "      <td>104</td>\n",
       "      <td>87</td>\n",
       "      <td>227.0</td>\n",
       "      <td>0.493</td>\n",
       "      <td>0.011</td>\n",
       "    </tr>\n",
       "    <tr>\n",
       "      <th>820</th>\n",
       "      <td>58</td>\n",
       "      <td>0.0</td>\n",
       "      <td>1.0</td>\n",
       "      <td>80</td>\n",
       "      <td>109</td>\n",
       "      <td>67</td>\n",
       "      <td>150.0</td>\n",
       "      <td>6.190</td>\n",
       "      <td>0.014</td>\n",
       "    </tr>\n",
       "    <tr>\n",
       "      <th>289</th>\n",
       "      <td>53</td>\n",
       "      <td>1.0</td>\n",
       "      <td>0.0</td>\n",
       "      <td>82</td>\n",
       "      <td>80</td>\n",
       "      <td>80</td>\n",
       "      <td>118.0</td>\n",
       "      <td>1.640</td>\n",
       "      <td>0.008</td>\n",
       "    </tr>\n",
       "    <tr>\n",
       "      <th>1194</th>\n",
       "      <td>51</td>\n",
       "      <td>0.0</td>\n",
       "      <td>1.0</td>\n",
       "      <td>74</td>\n",
       "      <td>118</td>\n",
       "      <td>78</td>\n",
       "      <td>94.0</td>\n",
       "      <td>1.320</td>\n",
       "      <td>0.005</td>\n",
       "    </tr>\n",
       "  </tbody>\n",
       "</table>\n",
       "<p>1055 rows × 9 columns</p>\n",
       "</div>"
      ],
      "text/plain": [
       "      Idade  Mulher  Homem  Impulso  Pressão Mâxima  Pressão Mínima  Glicose  \\\n",
       "573      68     0.0    1.0       90             111              65    134.0   \n",
       "209      60     0.0    1.0       68              42              64    106.0   \n",
       "44       63     0.0    1.0       91             121              82     93.0   \n",
       "944      33     0.0    1.0       87             101              45    319.0   \n",
       "1152     60     1.0    0.0       94             157              79    129.0   \n",
       "...     ...     ...    ...      ...             ...             ...      ...   \n",
       "672      58     0.0    1.0       60             150              83    133.0   \n",
       "473      64     1.0    0.0       63             104              87    227.0   \n",
       "820      58     0.0    1.0       80             109              67    150.0   \n",
       "289      53     1.0    0.0       82              80              80    118.0   \n",
       "1194     51     0.0    1.0       74             118              78     94.0   \n",
       "\n",
       "       CK-MB  Troponina  \n",
       "573    1.650      0.016  \n",
       "209    0.879      0.426  \n",
       "44     4.220      0.008  \n",
       "944    1.320      0.006  \n",
       "1152   0.728      0.009  \n",
       "...      ...        ...  \n",
       "672   52.940      1.310  \n",
       "473    0.493      0.011  \n",
       "820    6.190      0.014  \n",
       "289    1.640      0.008  \n",
       "1194   1.320      0.005  \n",
       "\n",
       "[1055 rows x 9 columns]"
      ]
     },
     "execution_count": 16,
     "metadata": {},
     "output_type": "execute_result"
    }
   ],
   "source": [
    "Xtr"
   ]
  },
  {
   "cell_type": "markdown",
   "id": "8c9085ae-584b-4482-8eef-009ed2b2a789",
   "metadata": {},
   "source": [
    "foi realizado uma análise de Componentes Principais (PCA) nos dados de treinamento.\n",
    "\n",
    "1. `pca`: Instancia um objeto PCA (Análise de Componentes Principais).\n",
    "2. `pca.fit(Xtr)`: Ajusta o PCA aos dados de treinamento (features - Xtr).\n",
    "\n",
    "Os resultados da análise são então impressos:\n",
    "\n",
    "3. `autovalores`: Armazena os autovalores da matriz de covariância calculada pelo PCA.\n",
    "4. `autovetores`: Armazena os autovetores correspondentes aos autovalores calculados.\n",
    "5. `variancia_explicada`: Armazena a proporção da variância explicada por cada componente principal.\n"
   ]
  },
  {
   "cell_type": "code",
   "execution_count": 17,
   "id": "2baeb6b0-8cac-4edd-b046-e01c03058f0f",
   "metadata": {},
   "outputs": [
    {
     "name": "stdout",
     "output_type": "stream",
     "text": [
      "[5.60044971e+03 2.26638095e+03 2.12174633e+03 7.28594684e+02\n",
      " 1.84585310e+02 1.10760007e+02 1.49679009e+00 4.28177543e-01\n",
      " 4.18089453e-31]\n",
      "\n",
      "[5.08464226e-01 2.05764483e-01 1.92633121e-01 6.61490330e-02\n",
      " 1.67584805e-02 1.00558891e-02 1.35893411e-04 3.88741931e-05\n",
      " 3.79582964e-35]\n",
      "\n",
      "[[-8.04169926e-05 -5.91127060e-03  6.53466296e-03  3.07435485e-03\n",
      "   9.99856954e-01  9.65148029e-03 -7.97733693e-03 -6.49454411e-03\n",
      "  -0.00000000e+00]\n",
      " [-1.01280194e-04  5.93298943e-04 -3.49304951e-04  1.01114433e-05\n",
      "   4.27193006e-03 -8.34981649e-05 -4.01246469e-02  7.05954157e-01\n",
      "  -7.07106781e-01]\n",
      " [ 1.01280194e-04 -5.93298943e-04  3.49304951e-04 -1.01114433e-05\n",
      "  -4.27193006e-03  8.34981649e-05  4.01246469e-02 -7.05954157e-01\n",
      "  -7.07106781e-01]\n",
      " [-1.78631593e-02  9.97042572e-01  6.40587695e-02 -2.37744235e-02\n",
      "   5.82921513e-03 -2.97249478e-02  1.83998529e-05 -8.46206136e-04\n",
      "   1.27900505e-16]\n",
      " [ 1.52403115e-02  1.37967126e-02 -3.41723265e-02  9.30512756e-01\n",
      "   9.43575821e-04 -3.64076085e-01 -1.82328592e-03 -1.92047458e-04\n",
      "  -2.33868962e-16]\n",
      " [-1.67927728e-03  3.69820249e-02 -8.39544943e-03  3.63371451e-01\n",
      "  -9.84594167e-03  9.30816154e-01 -2.13522767e-03  7.63378579e-06\n",
      "   2.22490721e-17]\n",
      " [ 9.98708763e-01  2.04966746e-02 -4.32561499e-02 -1.56286822e-02\n",
      "   4.64493867e-04  6.70226692e-03 -4.48190831e-04  7.73832769e-05\n",
      "   8.93223813e-17]\n",
      " [ 4.50156640e-02 -6.23883968e-02  9.96365255e-01  3.58071564e-02\n",
      "  -6.95399471e-03 -2.50390678e-03  6.17149353e-04  6.28239415e-04\n",
      "   6.88138417e-17]\n",
      " [ 4.36310808e-04  1.34140946e-04 -6.92747469e-04  2.47321700e-03\n",
      "   8.31780756e-03  1.40138681e-03  9.98352604e-01  5.66932383e-02\n",
      "   2.38405734e-16]]\n"
     ]
    }
   ],
   "source": [
    "pca = PCA()\n",
    "pca.fit(Xtr)\n",
    "\n",
    "autovalores = pca.explained_variance_\n",
    "autovetores = pca.components_.T\n",
    "\n",
    "variancia_explicada = pca.explained_variance_ratio_\n",
    "\n",
    "print(autovalores)\n",
    "print()\n",
    "print(variancia_explicada)\n",
    "print()\n",
    "print(autovetores)"
   ]
  },
  {
   "cell_type": "code",
   "execution_count": 18,
   "id": "9ac7128b-8c9d-4372-b87b-e5c276a763ba",
   "metadata": {},
   "outputs": [
    {
     "data": {
      "text/plain": [
       "1.0    150\n",
       "0.0    114\n",
       "Name: Infarto, dtype: int64"
      ]
     },
     "execution_count": 18,
     "metadata": {},
     "output_type": "execute_result"
    }
   ],
   "source": [
    "contagem_opcoes = Yts.value_counts()\n",
    "contagem_opcoes"
   ]
  },
  {
   "cell_type": "markdown",
   "id": "d1d7bc50-bb31-4a8f-8bac-2330f0ff0463",
   "metadata": {},
   "source": [
    "é gerados gráficos para visualizar a variância explicada e a variância acumulada das Componentes Principais (PCAs) nos dados de treinamento.\n"
   ]
  },
  {
   "cell_type": "code",
   "execution_count": 19,
   "id": "3594443b-9b6c-4123-8d3d-d2587c0f9e6b",
   "metadata": {},
   "outputs": [
    {
     "data": {
      "text/plain": [
       "[None]"
      ]
     },
     "execution_count": 19,
     "metadata": {},
     "output_type": "execute_result"
    },
    {
     "data": {
      "image/png": "[encoded data removed]",
      "text/plain": [
       "<Figure size 800x480 with 2 Axes>"
      ]
     },
     "metadata": {},
     "output_type": "display_data"
    }
   ],
   "source": [
    "# Código abaixo baseado no notebook de PCA escrito pelo Prof. James de Almeida\n",
    "\n",
    "id_componentes = np.arange(1, pca.n_components_ + 1)\n",
    "\n",
    "figura, eixos = plt.subplots(1, 2)\n",
    "\n",
    "# Plot variância explicada\n",
    "eixos[0].bar(id_componentes, variancia_explicada)\n",
    "eixos[0].set(xlabel=\"Componente\", title=\"Variância explicada\", ylim=(0.0, 1.0))\n",
    "\n",
    "# Plot variância acumulada\n",
    "cv = np.cumsum(pca.explained_variance_ratio_)\n",
    "eixos[1].plot(np.r_[0, id_componentes], np.r_[0, cv], marker=\"o\")\n",
    "eixos[1].set(\n",
    "    xlabel=\"Número de componentes\",\n",
    "    title=\"Variância acumulada\",\n",
    "    ylim=(0.0, 1.0),\n",
    ")\n",
    "eixos[1].axhline(0.9, linestyle=\"--\", color=\"red\")\n",
    "\n",
    "figura.set(figwidth=8)"
   ]
  },
  {
   "cell_type": "markdown",
   "id": "b48e70a9-25de-4a03-bc96-84ce8cb7f9dc",
   "metadata": {},
   "source": [
    "é criado um modelo composto por um pipeline que inclui a redução de dimensionalidade usando o método de Análise de Componentes Principais (PCA) com um número específico de componentes e um modelo de Regressão Logística.\n",
    "\n",
    "1. `NUM_COMPONENTES`: Define o número desejado de componentes principais para o PCA, neste caso, 5 componentes.\n",
    "2. `modelopca`: Cria um pipeline utilizando `make_pipeline`:\n",
    "    - `PCA(NUM_COMPONENTES)`: Reduz a dimensionalidade dos dados para o número especificado de componentes principais.\n",
    "    - `LogisticRegression()`: Adiciona um modelo de Regressão Logística ao pipeline.\n"
   ]
  },
  {
   "cell_type": "code",
   "execution_count": 43,
   "id": "70ca2bf6-2481-41b8-a3b7-e8a7a333eb15",
   "metadata": {},
   "outputs": [],
   "source": [
    "NUM_COMPONENTES = 5\n",
    "\n",
    "modelopca = make_pipeline(\n",
    "    PCA(NUM_COMPONENTES),\n",
    "    LogisticRegression(),\n",
    ")\n",
    "modelopca_2 = make_pipeline(\n",
    "    PCA(NUM_COMPONENTES),\n",
    "    TESTE,\n",
    ")"
   ]
  },
  {
   "cell_type": "markdown",
   "id": "a1b68dbe-d824-4619-ad92-56718ce174c4",
   "metadata": {},
   "source": [
    "treino do modelo"
   ]
  },
  {
   "cell_type": "code",
   "execution_count": 44,
   "id": "ba59b383-a8a5-45b2-8ad6-eb8d26f6e621",
   "metadata": {},
   "outputs": [
    {
     "data": {
      "text/html": [
       "<style>#sk-container-id-9 {color: black;background-color: white;}#sk-container-id-9 pre{padding: 0;}#sk-container-id-9 div.sk-toggleable {background-color: white;}#sk-container-id-9 label.sk-toggleable__label {cursor: pointer;display: block;width: 100%;margin-bottom: 0;padding: 0.3em;box-sizing: border-box;text-align: center;}#sk-container-id-9 label.sk-toggleable__label-arrow:before {content: \"▸\";float: left;margin-right: 0.25em;color: #696969;}#sk-container-id-9 label.sk-toggleable__label-arrow:hover:before {color: black;}#sk-container-id-9 div.sk-estimator:hover label.sk-toggleable__label-arrow:before {color: black;}#sk-container-id-9 div.sk-toggleable__content {max-height: 0;max-width: 0;overflow: hidden;text-align: left;background-color: #f0f8ff;}#sk-container-id-9 div.sk-toggleable__content pre {margin: 0.2em;color: black;border-radius: 0.25em;background-color: #f0f8ff;}#sk-container-id-9 input.sk-toggleable__control:checked~div.sk-toggleable__content {max-height: 200px;max-width: 100%;overflow: auto;}#sk-container-id-9 input.sk-toggleable__control:checked~label.sk-toggleable__label-arrow:before {content: \"▾\";}#sk-container-id-9 div.sk-estimator input.sk-toggleable__control:checked~label.sk-toggleable__label {background-color: #d4ebff;}#sk-container-id-9 div.sk-label input.sk-toggleable__control:checked~label.sk-toggleable__label {background-color: #d4ebff;}#sk-container-id-9 input.sk-hidden--visually {border: 0;clip: rect(1px 1px 1px 1px);clip: rect(1px, 1px, 1px, 1px);height: 1px;margin: -1px;overflow: hidden;padding: 0;position: absolute;width: 1px;}#sk-container-id-9 div.sk-estimator {font-family: monospace;background-color: #f0f8ff;border: 1px dotted black;border-radius: 0.25em;box-sizing: border-box;margin-bottom: 0.5em;}#sk-container-id-9 div.sk-estimator:hover {background-color: #d4ebff;}#sk-container-id-9 div.sk-parallel-item::after {content: \"\";width: 100%;border-bottom: 1px solid gray;flex-grow: 1;}#sk-container-id-9 div.sk-label:hover label.sk-toggleable__label {background-color: #d4ebff;}#sk-container-id-9 div.sk-serial::before {content: \"\";position: absolute;border-left: 1px solid gray;box-sizing: border-box;top: 0;bottom: 0;left: 50%;z-index: 0;}#sk-container-id-9 div.sk-serial {display: flex;flex-direction: column;align-items: center;background-color: white;padding-right: 0.2em;padding-left: 0.2em;position: relative;}#sk-container-id-9 div.sk-item {position: relative;z-index: 1;}#sk-container-id-9 div.sk-parallel {display: flex;align-items: stretch;justify-content: center;background-color: white;position: relative;}#sk-container-id-9 div.sk-item::before, #sk-container-id-9 div.sk-parallel-item::before {content: \"\";position: absolute;border-left: 1px solid gray;box-sizing: border-box;top: 0;bottom: 0;left: 50%;z-index: -1;}#sk-container-id-9 div.sk-parallel-item {display: flex;flex-direction: column;z-index: 1;position: relative;background-color: white;}#sk-container-id-9 div.sk-parallel-item:first-child::after {align-self: flex-end;width: 50%;}#sk-container-id-9 div.sk-parallel-item:last-child::after {align-self: flex-start;width: 50%;}#sk-container-id-9 div.sk-parallel-item:only-child::after {width: 0;}#sk-container-id-9 div.sk-dashed-wrapped {border: 1px dashed gray;margin: 0 0.4em 0.5em 0.4em;box-sizing: border-box;padding-bottom: 0.4em;background-color: white;}#sk-container-id-9 div.sk-label label {font-family: monospace;font-weight: bold;display: inline-block;line-height: 1.2em;}#sk-container-id-9 div.sk-label-container {text-align: center;}#sk-container-id-9 div.sk-container {/* jupyter's `normalize.less` sets `[hidden] { display: none; }` but bootstrap.min.css set `[hidden] { display: none !important; }` so we also need the `!important` here to be able to override the default hidden behavior on the sphinx rendered scikit-learn.org. See: https://github.com/scikit-learn/scikit-learn/issues/21755 */display: inline-block !important;position: relative;}#sk-container-id-9 div.sk-text-repr-fallback {display: none;}</style><div id=\"sk-container-id-9\" class=\"sk-top-container\"><div class=\"sk-text-repr-fallback\"><pre>Pipeline(steps=[(&#x27;pca&#x27;, PCA(n_components=5)),\n",
       "                (&#x27;logisticregression&#x27;, LogisticRegression())])</pre><b>In a Jupyter environment, please rerun this cell to show the HTML representation or trust the notebook. <br />On GitHub, the HTML representation is unable to render, please try loading this page with nbviewer.org.</b></div><div class=\"sk-container\" hidden><div class=\"sk-item sk-dashed-wrapped\"><div class=\"sk-label-container\"><div class=\"sk-label sk-toggleable\"><input class=\"sk-toggleable__control sk-hidden--visually\" id=\"sk-estimator-id-21\" type=\"checkbox\" ><label for=\"sk-estimator-id-21\" class=\"sk-toggleable__label sk-toggleable__label-arrow\">Pipeline</label><div class=\"sk-toggleable__content\"><pre>Pipeline(steps=[(&#x27;pca&#x27;, PCA(n_components=5)),\n",
       "                (&#x27;logisticregression&#x27;, LogisticRegression())])</pre></div></div></div><div class=\"sk-serial\"><div class=\"sk-item\"><div class=\"sk-estimator sk-toggleable\"><input class=\"sk-toggleable__control sk-hidden--visually\" id=\"sk-estimator-id-22\" type=\"checkbox\" ><label for=\"sk-estimator-id-22\" class=\"sk-toggleable__label sk-toggleable__label-arrow\">PCA</label><div class=\"sk-toggleable__content\"><pre>PCA(n_components=5)</pre></div></div></div><div class=\"sk-item\"><div class=\"sk-estimator sk-toggleable\"><input class=\"sk-toggleable__control sk-hidden--visually\" id=\"sk-estimator-id-23\" type=\"checkbox\" ><label for=\"sk-estimator-id-23\" class=\"sk-toggleable__label sk-toggleable__label-arrow\">LogisticRegression</label><div class=\"sk-toggleable__content\"><pre>LogisticRegression()</pre></div></div></div></div></div></div></div>"
      ],
      "text/plain": [
       "Pipeline(steps=[('pca', PCA(n_components=5)),\n",
       "                ('logisticregression', LogisticRegression())])"
      ]
     },
     "execution_count": 44,
     "metadata": {},
     "output_type": "execute_result"
    }
   ],
   "source": [
    "modelopca.fit(Xtr,Ytr)"
   ]
  },
  {
   "cell_type": "code",
   "execution_count": 45,
   "id": "1a080f51-9167-4a3e-ba40-f6d372089aef",
   "metadata": {},
   "outputs": [
    {
     "data": {
      "text/html": [
       "<style>#sk-container-id-10 {color: black;background-color: white;}#sk-container-id-10 pre{padding: 0;}#sk-container-id-10 div.sk-toggleable {background-color: white;}#sk-container-id-10 label.sk-toggleable__label {cursor: pointer;display: block;width: 100%;margin-bottom: 0;padding: 0.3em;box-sizing: border-box;text-align: center;}#sk-container-id-10 label.sk-toggleable__label-arrow:before {content: \"▸\";float: left;margin-right: 0.25em;color: #696969;}#sk-container-id-10 label.sk-toggleable__label-arrow:hover:before {color: black;}#sk-container-id-10 div.sk-estimator:hover label.sk-toggleable__label-arrow:before {color: black;}#sk-container-id-10 div.sk-toggleable__content {max-height: 0;max-width: 0;overflow: hidden;text-align: left;background-color: #f0f8ff;}#sk-container-id-10 div.sk-toggleable__content pre {margin: 0.2em;color: black;border-radius: 0.25em;background-color: #f0f8ff;}#sk-container-id-10 input.sk-toggleable__control:checked~div.sk-toggleable__content {max-height: 200px;max-width: 100%;overflow: auto;}#sk-container-id-10 input.sk-toggleable__control:checked~label.sk-toggleable__label-arrow:before {content: \"▾\";}#sk-container-id-10 div.sk-estimator input.sk-toggleable__control:checked~label.sk-toggleable__label {background-color: #d4ebff;}#sk-container-id-10 div.sk-label input.sk-toggleable__control:checked~label.sk-toggleable__label {background-color: #d4ebff;}#sk-container-id-10 input.sk-hidden--visually {border: 0;clip: rect(1px 1px 1px 1px);clip: rect(1px, 1px, 1px, 1px);height: 1px;margin: -1px;overflow: hidden;padding: 0;position: absolute;width: 1px;}#sk-container-id-10 div.sk-estimator {font-family: monospace;background-color: #f0f8ff;border: 1px dotted black;border-radius: 0.25em;box-sizing: border-box;margin-bottom: 0.5em;}#sk-container-id-10 div.sk-estimator:hover {background-color: #d4ebff;}#sk-container-id-10 div.sk-parallel-item::after {content: \"\";width: 100%;border-bottom: 1px solid gray;flex-grow: 1;}#sk-container-id-10 div.sk-label:hover label.sk-toggleable__label {background-color: #d4ebff;}#sk-container-id-10 div.sk-serial::before {content: \"\";position: absolute;border-left: 1px solid gray;box-sizing: border-box;top: 0;bottom: 0;left: 50%;z-index: 0;}#sk-container-id-10 div.sk-serial {display: flex;flex-direction: column;align-items: center;background-color: white;padding-right: 0.2em;padding-left: 0.2em;position: relative;}#sk-container-id-10 div.sk-item {position: relative;z-index: 1;}#sk-container-id-10 div.sk-parallel {display: flex;align-items: stretch;justify-content: center;background-color: white;position: relative;}#sk-container-id-10 div.sk-item::before, #sk-container-id-10 div.sk-parallel-item::before {content: \"\";position: absolute;border-left: 1px solid gray;box-sizing: border-box;top: 0;bottom: 0;left: 50%;z-index: -1;}#sk-container-id-10 div.sk-parallel-item {display: flex;flex-direction: column;z-index: 1;position: relative;background-color: white;}#sk-container-id-10 div.sk-parallel-item:first-child::after {align-self: flex-end;width: 50%;}#sk-container-id-10 div.sk-parallel-item:last-child::after {align-self: flex-start;width: 50%;}#sk-container-id-10 div.sk-parallel-item:only-child::after {width: 0;}#sk-container-id-10 div.sk-dashed-wrapped {border: 1px dashed gray;margin: 0 0.4em 0.5em 0.4em;box-sizing: border-box;padding-bottom: 0.4em;background-color: white;}#sk-container-id-10 div.sk-label label {font-family: monospace;font-weight: bold;display: inline-block;line-height: 1.2em;}#sk-container-id-10 div.sk-label-container {text-align: center;}#sk-container-id-10 div.sk-container {/* jupyter's `normalize.less` sets `[hidden] { display: none; }` but bootstrap.min.css set `[hidden] { display: none !important; }` so we also need the `!important` here to be able to override the default hidden behavior on the sphinx rendered scikit-learn.org. See: https://github.com/scikit-learn/scikit-learn/issues/21755 */display: inline-block !important;position: relative;}#sk-container-id-10 div.sk-text-repr-fallback {display: none;}</style><div id=\"sk-container-id-10\" class=\"sk-top-container\"><div class=\"sk-text-repr-fallback\"><pre>Pipeline(steps=[(&#x27;pca&#x27;, PCA(n_components=5)),\n",
       "                (&#x27;randomforestclassifier&#x27;,\n",
       "                 RandomForestClassifier(max_depth=3, max_features=0.33,\n",
       "                                        min_samples_leaf=4,\n",
       "                                        min_samples_split=5))])</pre><b>In a Jupyter environment, please rerun this cell to show the HTML representation or trust the notebook. <br />On GitHub, the HTML representation is unable to render, please try loading this page with nbviewer.org.</b></div><div class=\"sk-container\" hidden><div class=\"sk-item sk-dashed-wrapped\"><div class=\"sk-label-container\"><div class=\"sk-label sk-toggleable\"><input class=\"sk-toggleable__control sk-hidden--visually\" id=\"sk-estimator-id-24\" type=\"checkbox\" ><label for=\"sk-estimator-id-24\" class=\"sk-toggleable__label sk-toggleable__label-arrow\">Pipeline</label><div class=\"sk-toggleable__content\"><pre>Pipeline(steps=[(&#x27;pca&#x27;, PCA(n_components=5)),\n",
       "                (&#x27;randomforestclassifier&#x27;,\n",
       "                 RandomForestClassifier(max_depth=3, max_features=0.33,\n",
       "                                        min_samples_leaf=4,\n",
       "                                        min_samples_split=5))])</pre></div></div></div><div class=\"sk-serial\"><div class=\"sk-item\"><div class=\"sk-estimator sk-toggleable\"><input class=\"sk-toggleable__control sk-hidden--visually\" id=\"sk-estimator-id-25\" type=\"checkbox\" ><label for=\"sk-estimator-id-25\" class=\"sk-toggleable__label sk-toggleable__label-arrow\">PCA</label><div class=\"sk-toggleable__content\"><pre>PCA(n_components=5)</pre></div></div></div><div class=\"sk-item\"><div class=\"sk-estimator sk-toggleable\"><input class=\"sk-toggleable__control sk-hidden--visually\" id=\"sk-estimator-id-26\" type=\"checkbox\" ><label for=\"sk-estimator-id-26\" class=\"sk-toggleable__label sk-toggleable__label-arrow\">RandomForestClassifier</label><div class=\"sk-toggleable__content\"><pre>RandomForestClassifier(max_depth=3, max_features=0.33, min_samples_leaf=4,\n",
       "                       min_samples_split=5)</pre></div></div></div></div></div></div></div>"
      ],
      "text/plain": [
       "Pipeline(steps=[('pca', PCA(n_components=5)),\n",
       "                ('randomforestclassifier',\n",
       "                 RandomForestClassifier(max_depth=3, max_features=0.33,\n",
       "                                        min_samples_leaf=4,\n",
       "                                        min_samples_split=5))])"
      ]
     },
     "execution_count": 45,
     "metadata": {},
     "output_type": "execute_result"
    }
   ],
   "source": [
    "modelopca_2.fit(Xtr,Ytr)"
   ]
  },
  {
   "cell_type": "markdown",
   "id": "676cb02e-9f9d-4786-ae13-8cb821e821ea",
   "metadata": {},
   "source": [
    "foi realizado previsões utilizando o modelo  e em seguida, é gerado uma matriz de confusão e exibida em um mapa de calor."
   ]
  },
  {
   "cell_type": "code",
   "execution_count": 46,
   "id": "90ca180d-dcd2-4763-a351-3e669ec3aaed",
   "metadata": {},
   "outputs": [
    {
     "data": {
      "text/plain": [
       "<AxesSubplot: >"
      ]
     },
     "execution_count": 46,
     "metadata": {},
     "output_type": "execute_result"
    },
    {
     "data": {
      "image/png": "[encoded data removed]",
      "text/plain": [
       "<Figure size 640x480 with 2 Axes>"
      ]
     },
     "metadata": {},
     "output_type": "display_data"
    }
   ],
   "source": [
    "y_verdadeiro = Yts\n",
    "y_previsao_PCA = modelopca.predict(Xts)\n",
    "\n",
    "matriz_conf_PCA = confusion_matrix(y_verdadeiro, y_previsao_PCA)\n",
    "\n",
    "df_conf_PCA = pd.DataFrame(matriz_conf_PCA)\n",
    "\n",
    "sns.heatmap(df_conf, annot=True, annot_kws={\"size\": 16})"
   ]
  },
  {
   "cell_type": "code",
   "execution_count": 47,
   "id": "44a381c3-fcf4-4535-a573-1eedd227a76b",
   "metadata": {},
   "outputs": [
    {
     "data": {
      "text/plain": [
       "0.6856060606060606"
      ]
     },
     "execution_count": 47,
     "metadata": {},
     "output_type": "execute_result"
    }
   ],
   "source": [
    "accuracy_score(Yts, y_previsao_PCA, normalize=True)"
   ]
  },
  {
   "cell_type": "code",
   "execution_count": 48,
   "id": "a0b92331-22b9-47f5-a156-ed7e98c59457",
   "metadata": {},
   "outputs": [
    {
     "data": {
      "text/plain": [
       "<AxesSubplot: >"
      ]
     },
     "execution_count": 48,
     "metadata": {},
     "output_type": "execute_result"
    },
    {
     "data": {
      "image/png": "[encoded data removed]",
      "text/plain": [
       "<Figure size 640x480 with 2 Axes>"
      ]
     },
     "metadata": {},
     "output_type": "display_data"
    }
   ],
   "source": [
    "y_verdadeiro = Yts\n",
    "y_previsao_PCA_2 = modelopca_2.predict(Xts)\n",
    "\n",
    "matriz_conf_PCA_2 = confusion_matrix(y_verdadeiro, y_previsao_PCA_2)\n",
    "\n",
    "df_conf_PCA_2 = pd.DataFrame(matriz_conf_PCA_2)\n",
    "\n",
    "sns.heatmap(df_conf, annot=True, annot_kws={\"size\": 16})"
   ]
  },
  {
   "cell_type": "code",
   "execution_count": 49,
   "id": "15708b38-6457-4e95-a24c-a089840cfbe7",
   "metadata": {},
   "outputs": [
    {
     "data": {
      "text/plain": [
       "0.6590909090909091"
      ]
     },
     "execution_count": 49,
     "metadata": {},
     "output_type": "execute_result"
    }
   ],
   "source": [
    "accuracy_score(Yts, y_previsao_PCA_2, normalize=True)"
   ]
  },
  {
   "cell_type": "markdown",
   "id": "fcbf6da4-a720-4f6b-ac72-0bbf3dede7c6",
   "metadata": {},
   "source": [
    "O PCA não resultou em melhoras no desempenho dos modelos no de regreção logistica se manteve o mesmo e no da floresta piorou por tanto opitamos por manter o modelo sem PCA. "
   ]
  },
  {
   "cell_type": "markdown",
   "id": "ce9f8c4f-b06b-429c-90f9-8d2d01640f8d",
   "metadata": {},
   "source": [
    "## Conclusão "
   ]
  },
  {
   "cell_type": "markdown",
   "id": "091ee229-e128-4d00-8266-faa148977c4a",
   "metadata": {},
   "source": [
    "A partir de todas as analises desde o baseline foi possivel concluir que o modelo que melhor se adapita a nossos dados e nosso objetivo é o da floresta aleatroria de calcificação como os iper parametros obitinos atravez da validação cruzada"
   ]
  },
  {
   "cell_type": "markdown",
   "id": "3ea8619d-1360-4f92-bedf-28bc7edd42e4",
   "metadata": {},
   "source": [
    "## Referencias:\n",
    "\n",
    "Notebook de Módulo Pandas\n",
    "\n",
    "1.Banco de dados da onde o Dataset foi tirado: https://www.kaggle.com/datasets/bharath011/heart-disease-classification-dataset\n",
    "\n",
    "2.Explicação sobre a funão loc do pandas: https://medium.com/horadecodar/data-science-tips-02-como-usar-loc-e-iloc-no-pandas-fab58e214d87\n",
    "\n",
    "3.Explicação do que é CK_MB: https://ibapcursos.com.br/creatina-quinase-ckmb-alta-no-sangue-o-que-significa-essa-alteracao-no-exame/   e  https://labtestsonline.org.br/tests/ck-mb\n",
    "\n",
    "4.Explicação do que é troponina: https://www.tuasaude.com/exame-de-troponina/\n",
    "\n",
    "5.Explicação de como modificar o tipo de uma coluna: https://jobu.com.br/2022/11/29/3-metodos-de-como-alterar-tipo-da-coluna-com-pandas/\n",
    "\n",
    "6.Ajudou na eXplicação das colunas: https://cardiopapers.com.br/por-que-nao-existe-aumento-falso-positivo-de-troponina/\n",
    "\n",
    "7.Documentação da biblioteca Sckit learn https://scikit-learn.org/stable/modules/generated/sklearn.ensemble.RandomForestClassifier.html#sklearn.ensemble.RandomForestClassifier"
   ]
  },
  {
   "cell_type": "code",
   "execution_count": null,
   "id": "5a31b18c-5641-48ad-b314-cd0757987ac7",
   "metadata": {},
   "outputs": [],
   "source": []
  }
 ],
 "metadata": {
  "kernelspec": {
   "display_name": "ilumpy",
   "language": "python",
   "name": "ilumpy"
  },
  "language_info": {
   "codemirror_mode": {
    "name": "ipython",
    "version": 3
   },
   "file_extension": ".py",
   "mimetype": "text/x-python",
   "name": "python",
   "nbconvert_exporter": "python",
   "pygments_lexer": "ipython3",
   "version": "3.10.8"
  }
 },
 "nbformat": 4,
 "nbformat_minor": 5
}
