{
 "cells": [
  {
   "cell_type": "code",
   "execution_count": 60,
   "id": "85145a11-e5a7-4bd9-96d4-3ab849d76937",
   "metadata": {},
   "outputs": [],
   "source": [
    "import pandas as pd\n",
    "import matplotlib.pyplot as plt\n",
    "import sklearn\n",
    "import seaborn as sns\n",
    "import numpy\n",
    "from sklearn.model_selection import RandomizedSearchCV\n",
    "from sklearn.metrics import confusion_matrix\n",
    "from sklearn.model_selection import train_test_split\n",
    "from sklearn.ensemble import RandomForestClassifier\n",
    "from sklearn.decomposition import PCA\n",
    "import numpy as np\n",
    "import matplotlib.pyplot as plt\n",
    "from sklearn.linear_model import LogisticRegression\n",
    "from sklearn.pipeline import make_pipeline\n",
    "from sklearn.metrics import accuracy_score\n",
    "from sklearn.dummy import DummyClassifier"
   ]
  },
  {
   "cell_type": "markdown",
   "id": "b6ad287c-cedc-4b2a-b402-4274061e9d4c",
   "metadata": {},
   "source": [
    "# Informações sobre o Dataset:\n",
    "\n",
    "### Idade: \n",
    "\n",
    "Importância: A idade é um fator crucial na previsão de doenças cardiovasculares, como o infarto, pois o risco aumenta com o envelhecimento. Pessoas mais velhas têm uma probabilidade maior de desenvolver problemas cardíacos.\n",
    "Unidade de medida: Anos.\n",
    "\n",
    "### Gênero:\n",
    "\n",
    "Importância: O gênero também é um fator importante, pois existem diferenças biológicas entre homens e mulheres que podem afetar o risco de doenças cardíacas. Normalmente, os homens têm um risco maior.\n",
    "Unidade de medida: Variável categórica (masculino = 1/feminino = 0).\n",
    "\n",
    "### Batimentos por Minuto (BPM):\n",
    "\n",
    "Importância: A frequência cardíaca indica como o coração está funcionando. Taxas elevadas ou baixas de batimentos por minuto podem indicar problemas no sistema cardiovascular.\n",
    "Unidade de medida: Batimentos por minuto (bpm).\n",
    "\n",
    "### Pressão Máxima (Sistólica):\n",
    "\n",
    "Importância: A pressão arterial sistólica é uma medida da pressão nas artérias quando o coração está batendo. Valores elevados podem indicar hipertensão, um fator de risco para doenças cardíacas.\n",
    "Unidade de medida: Milímetros de mercúrio (mmHg).\n",
    "\n",
    "### Pressão Mínima (Diastólica):\n",
    "\n",
    "Importância: A pressão arterial diastólica é a pressão nas artérias quando o coração está relaxado entre batimentos. Valores elevados podem indicar estresse nas artérias.\n",
    "Unidade de medida: Milímetros de mercúrio (mmHg).\n",
    "\n",
    "### Glicose:\n",
    "\n",
    "Importância: Níveis elevados de glicose no sangue podem indicar resistência à insulina ou diabetes, fatores que aumentam o risco de doenças cardíacas.\n",
    "Unidade de medida: Miligramas por decilitro (mg/dL).\n",
    "\n",
    "### Ck-Mb:\n",
    "\n",
    "Importância: A enzima CK-Mb é liberada quando há dano nas células musculares, incluindo as do coração. Níveis elevados podem indicar um possível ataque cardíaco.\n",
    "Unidade de medida: Unidades por litro (ng/mL).\n",
    "\n",
    "### Troponina:\n",
    "\n",
    "Importância: A troponina é outra proteína liberada quando ocorre dano ao músculo cardíaco. Seus níveis elevados também podem indicar problemas cardíacos.\n",
    "Unidade de medida: Nanogramas por mililitro (ng/mL)."
   ]
  },
  {
   "cell_type": "markdown",
   "id": "6da37e91-9fea-42de-a7be-250cc946cf9a",
   "metadata": {},
   "source": [
    "## Leitura do Conjunto de Dados de Ataque Cardíaco\n",
    "\n",
    "Nesta parte do código, estamos utilizando a biblioteca pandas para ler um conjunto de dados chamado \"Heart Attack.csv\". O conjunto de dados é carregado na variável 'Data'.\n"
   ]
  },
  {
   "cell_type": "code",
   "execution_count": 2,
   "id": "61477616-2325-40c7-893a-4d4ef217efe0",
   "metadata": {},
   "outputs": [
    {
     "name": "stdout",
     "output_type": "stream",
     "text": [
      "      age  gender  impluse  pressurehight  pressurelow  glucose    kcm  \\\n",
      "0      64       1       66            160           83    160.0   1.80   \n",
      "1      21       1       94             98           46    296.0   6.75   \n",
      "2      55       1       64            160           77    270.0   1.99   \n",
      "3      64       1       70            120           55    270.0  13.87   \n",
      "4      55       1       64            112           65    300.0   1.08   \n",
      "...   ...     ...      ...            ...          ...      ...    ...   \n",
      "1314   44       1       94            122           67    204.0   1.63   \n",
      "1315   66       1       84            125           55    149.0   1.33   \n",
      "1316   45       1       85            168          104     96.0   1.24   \n",
      "1317   54       1       58            117           68    443.0   5.80   \n",
      "1318   51       1       94            157           79    134.0  50.89   \n",
      "\n",
      "      troponin     class  \n",
      "0        0.012  negative  \n",
      "1        1.060  positive  \n",
      "2        0.003  negative  \n",
      "3        0.122  positive  \n",
      "4        0.003  negative  \n",
      "...        ...       ...  \n",
      "1314     0.006  negative  \n",
      "1315     0.172  positive  \n",
      "1316     4.250  positive  \n",
      "1317     0.359  positive  \n",
      "1318     1.770  positive  \n",
      "\n",
      "[1319 rows x 9 columns]\n"
     ]
    }
   ],
   "source": [
    "Data = pd.read_csv(\"Heart Attack.csv\")\n",
    "print(Data)"
   ]
  },
  {
   "cell_type": "code",
   "execution_count": 3,
   "id": "c356f526-5f68-425a-b74b-2a2488fd86ff",
   "metadata": {},
   "outputs": [
    {
     "name": "stdout",
     "output_type": "stream",
     "text": [
      "      Idade  Gênero  Impulso  Pressão Mâxima  Pressão Mínima  Glicose  CK-MB  \\\n",
      "0        64       1       66             160              83    160.0   1.80   \n",
      "1        21       1       94              98              46    296.0   6.75   \n",
      "2        55       1       64             160              77    270.0   1.99   \n",
      "3        64       1       70             120              55    270.0  13.87   \n",
      "4        55       1       64             112              65    300.0   1.08   \n",
      "...     ...     ...      ...             ...             ...      ...    ...   \n",
      "1314     44       1       94             122              67    204.0   1.63   \n",
      "1315     66       1       84             125              55    149.0   1.33   \n",
      "1316     45       1       85             168             104     96.0   1.24   \n",
      "1317     54       1       58             117              68    443.0   5.80   \n",
      "1318     51       1       94             157              79    134.0  50.89   \n",
      "\n",
      "      Troponina   Infarto  \n",
      "0         0.012  negative  \n",
      "1         1.060  positive  \n",
      "2         0.003  negative  \n",
      "3         0.122  positive  \n",
      "4         0.003  negative  \n",
      "...         ...       ...  \n",
      "1314      0.006  negative  \n",
      "1315      0.172  positive  \n",
      "1316      4.250  positive  \n",
      "1317      0.359  positive  \n",
      "1318      1.770  positive  \n",
      "\n",
      "[1319 rows x 9 columns]\n"
     ]
    }
   ],
   "source": [
    "Data.columns = [\"Idade\",\"Gênero\",\"Impulso\",\"Pressão Mâxima\",\"Pressão Mínima\",\"Glicose\",\"CK-MB\",\"Troponina\",\"Infarto\"]\n",
    "print(Data)"
   ]
  },
  {
   "cell_type": "markdown",
   "id": "8b297742-29e9-4393-abeb-77dc594d01b6",
   "metadata": {},
   "source": [
    "## Atualização da Coluna \"Infarto\" para Valores Numéricos\n",
    "\n",
    "Nesta parte do código, realizamos uma transformação na coluna \"Infarto\" do conjunto de dados. Inicialmente, os rótulos são \"negative\" e \"positive\". O objetivo é converter esses rótulos em valores numéricos para facilitar análises futuras.\n",
    "\n",
    "### Passos:\n",
    "\n",
    "1. **Criação dos Critérios:**\n",
    "   - Criamos dois critérios, `Criterio_1` e `Criterio_2`, para identificar as linhas onde \"Infarto\" é \"negative\" e \"positive\", respectivamente.\n",
    "\n",
    "2. **Criação da Variável 'Target':**\n",
    "   - Criamos uma variável 'Target' para armazenar a coluna \"Infarto\".\n",
    "\n",
    "3. **Filtragem das Classes Negativas e Positivas:**\n",
    "   - Utilizamos os critérios para extrair as linhas correspondentes aos casos negativos (`Negativos`) e positivos (`Positivos`).\n",
    "\n",
    "4. **Obtenção dos Índices:**\n",
    "   - Capturamos os índices das linhas negativas e positivas para futura modificação (`Linhas_1` e `Linhas_2`).\n",
    "\n",
    "5. **Atualização dos Valores da Coluna \"Infarto\":**\n",
    "   - Substituímos os rótulos \"negative\" por 0 e \"positive\" por 1 nas linhas correspondentes, utilizando os índices obtidos.\n",
    "\n",
    "6. **Exibição do Conjunto de Dados Atualizado:**\n",
    "   - Finalizamos exibindo o conjunto de dados após a modificação.\n",
    "\n"
   ]
  },
  {
   "cell_type": "code",
   "execution_count": 4,
   "id": "dc9cf05c-c831-42f6-8e55-f141fd4655f8",
   "metadata": {},
   "outputs": [
    {
     "name": "stdout",
     "output_type": "stream",
     "text": [
      "      Idade  Gênero  Impulso  Pressão Mâxima  Pressão Mínima  Glicose  CK-MB  \\\n",
      "0        64       1       66             160              83    160.0   1.80   \n",
      "1        21       1       94              98              46    296.0   6.75   \n",
      "2        55       1       64             160              77    270.0   1.99   \n",
      "3        64       1       70             120              55    270.0  13.87   \n",
      "4        55       1       64             112              65    300.0   1.08   \n",
      "...     ...     ...      ...             ...             ...      ...    ...   \n",
      "1314     44       1       94             122              67    204.0   1.63   \n",
      "1315     66       1       84             125              55    149.0   1.33   \n",
      "1316     45       1       85             168             104     96.0   1.24   \n",
      "1317     54       1       58             117              68    443.0   5.80   \n",
      "1318     51       1       94             157              79    134.0  50.89   \n",
      "\n",
      "      Troponina Infarto  \n",
      "0         0.012       0  \n",
      "1         1.060       1  \n",
      "2         0.003       0  \n",
      "3         0.122       1  \n",
      "4         0.003       0  \n",
      "...         ...     ...  \n",
      "1314      0.006       0  \n",
      "1315      0.172       1  \n",
      "1316      4.250       1  \n",
      "1317      0.359       1  \n",
      "1318      1.770       1  \n",
      "\n",
      "[1319 rows x 9 columns]\n"
     ]
    }
   ],
   "source": [
    "Criterio_1 = Data[\"Infarto\"] == \"negative\"\n",
    "Criterio_2 = Data[\"Infarto\"] == \"positive\"\n",
    "Target = Data[\"Infarto\"] \n",
    "Negativos= Target.loc[Criterio_1]\n",
    "Positivos= Target.loc[Criterio_2]\n",
    "Linhas_1=Negativos.index\n",
    "Linhas_2=Positivos.index\n",
    "Data.loc[Linhas_1,\"Infarto\"] = 0\n",
    "Data.loc[Linhas_2,\"Infarto\"] = 1\n",
    "print(Data)"
   ]
  },
  {
   "cell_type": "markdown",
   "id": "868c7596-788f-4a49-b0d7-ba939f75ee65",
   "metadata": {},
   "source": [
    "<!-- \n",
    "Este trecho de código Python realiza algumas operações em um DataFrame. Primeiramente, são adicionadas duas novas colunas, 'Homem' e 'Mulher', ao DataFrame, ambas inicializadas com o valor 0. Em seguida, são estabelecidos critérios para identificar linhas correspondentes a 'Mulheres' e 'Homens' com base na coluna 'Gênero'. Uma série alvo chamada 'Target' é criada usando a coluna 'Infarto'. O código filtra as linhas associadas a 'Mulheres' e 'Homens' usando os critérios estabelecidos, e os índices dessas linhas são obtidos.\n",
    "\n",
    "Posteriormente, as colunas 'Mulher' e 'Homem' são atualizadas para o valor 1 nas linhas correspondentes aos critérios definidos anteriormente. A coluna 'Gênero' é removida do DataFrame para simplificar a estrutura. Finalmente, o DataFrame resultante é impresso.\n",
    "\n",
    "Este conjunto de operações parece estar relacionado à categorização de dados com base no gênero e na ocorrência de infartos, ajustando as colunas 'Mulher' e 'Homem' conforme os critérios estabelecidos.\n",
    "-->\n"
   ]
  },
  {
   "cell_type": "markdown",
   "id": "9c965d8c-61f9-4dc1-9a9f-a8bb08f7d779",
   "metadata": {},
   "source": [
    "<!-- \n",
    "Este trecho de código Python realiza algumas operações em um DataFrame. Primeiramente, são adicionadas duas novas colunas, 'Homem' e 'Mulher', ao DataFrame, ambas inicializadas com o valor 0. Em seguida, são estabelecidos critérios para identificar linhas correspondentes a 'Mulheres' e 'Homens' com base na coluna 'Gênero'. Uma série alvo chamada 'Target' é criada usando a coluna 'Infarto'. O código filtra as linhas associadas a 'Mulheres' e 'Homens' usando os critérios estabelecidos, e os índices dessas linhas são obtidos.\n",
    "\n",
    "Posteriormente, as colunas 'Mulher' e 'Homem' são atualizadas para o valor 1 nas linhas correspondentes aos critérios definidos anteriormente. A coluna 'Gênero' é removida do DataFrame para simplificar a estrutura. Finalmente, o DataFrame resultante é impresso.\n",
    "\n",
    "Este conjunto de operações parece estar relacionado à categorização de dados com base no gênero e na ocorrência de infartos, ajustando as colunas 'Mulher' e 'Homem' conforme os critérios estabelecidos.\n",
    "-->\n"
   ]
  },
  {
   "cell_type": "markdown",
   "id": "f917a780-3d59-4d68-95a1-1688f9b1b36f",
   "metadata": {},
   "source": [
    "<!-- \n",
    "Este trecho de código Python realiza algumas operações em um DataFrame. Primeiramente, são adicionadas duas novas colunas, 'Homem' e 'Mulher', ao DataFrame, ambas inicializadas com o valor 0. Em seguida, são estabelecidos critérios para identificar linhas correspondentes a 'Mulheres' e 'Homens' com base na coluna 'Gênero'. Uma série alvo chamada 'Target' é criada usando a coluna 'Infarto'. O código filtra as linhas associadas a 'Mulheres' e 'Homens' usando os critérios estabelecidos, e os índices dessas linhas são obtidos.\n",
    "\n",
    "Posteriormente, as colunas 'Mulher' e 'Homem' são atualizadas para o valor 1 nas linhas correspondentes aos critérios definidos anteriormente. A coluna 'Gênero' é removida do DataFrame para simplificar a estrutura. Finalmente, o DataFrame resultante é impresso.\n",
    "\n",
    "Este conjunto de operações parece estar relacionado à categorização de dados com base no gênero e na ocorrência de infartos, ajustando as colunas 'Mulher' e 'Homem' conforme os critérios estabelecidos.\n",
    "-->\n"
   ]
  },
  {
   "cell_type": "markdown",
   "id": "87303c2c-8d9a-432a-b446-452cd5412a89",
   "metadata": {},
   "source": [
    "\n",
    "Este trecho de código Python realiza algumas operações em um DataFrame. Primeiramente, são adicionadas duas novas colunas, 'Homem' e 'Mulher', ao DataFrame, ambas inicializadas com o valor 0. Em seguida, são estabelecidos critérios para identificar linhas correspondentes a 'Mulheres' e 'Homens' com base na coluna 'Gênero'. Uma série alvo chamada 'Target' é criada usando a coluna 'Infarto'. O código filtra as linhas associadas a 'Mulheres' e 'Homens' usando os critérios estabelecidos, e os índices dessas linhas são obtidos.\n",
    "\n",
    "Posteriormente, as colunas 'Mulher' e 'Homem' são atualizadas para o valor 1 nas linhas correspondentes aos critérios definidos anteriormente. A coluna 'Gênero' é removida do DataFrame para simplificar a estrutura. Finalmente, o DataFrame resultante é impresso.\n",
    "\n",
    "Este conjunto de operações parece estar relacionado à categorização de dados com base no gênero e na ocorrência de infartos, ajustando as colunas 'Mulher' e 'Homem' conforme os critérios estabelecidos.\n",
    "\n"
   ]
  },
  {
   "cell_type": "code",
   "execution_count": 5,
   "id": "50209127-679d-44d9-95ad-00e279cee0e3",
   "metadata": {},
   "outputs": [
    {
     "name": "stdout",
     "output_type": "stream",
     "text": [
      "      Idade  Mulher  Homem  Impulso  Pressão Mâxima  Pressão Mínima  Glicose  \\\n",
      "0        64       0      1       66             160              83    160.0   \n",
      "1        21       0      1       94              98              46    296.0   \n",
      "2        55       0      1       64             160              77    270.0   \n",
      "3        64       0      1       70             120              55    270.0   \n",
      "4        55       0      1       64             112              65    300.0   \n",
      "...     ...     ...    ...      ...             ...             ...      ...   \n",
      "1314     44       0      1       94             122              67    204.0   \n",
      "1315     66       0      1       84             125              55    149.0   \n",
      "1316     45       0      1       85             168             104     96.0   \n",
      "1317     54       0      1       58             117              68    443.0   \n",
      "1318     51       0      1       94             157              79    134.0   \n",
      "\n",
      "      CK-MB  Troponina Infarto  \n",
      "0      1.80      0.012       0  \n",
      "1      6.75      1.060       1  \n",
      "2      1.99      0.003       0  \n",
      "3     13.87      0.122       1  \n",
      "4      1.08      0.003       0  \n",
      "...     ...        ...     ...  \n",
      "1314   1.63      0.006       0  \n",
      "1315   1.33      0.172       1  \n",
      "1316   1.24      4.250       1  \n",
      "1317   5.80      0.359       1  \n",
      "1318  50.89      1.770       1  \n",
      "\n",
      "[1319 rows x 10 columns]\n"
     ]
    }
   ],
   "source": [
    "Data.insert(1,'Homem',0)\n",
    "Data.insert(1,'Mulher',0)\n",
    "Criterio_3 = Data[\"Gênero\"] == 0\n",
    "Criterio_4 = Data[\"Gênero\"] == 1\n",
    "Target = Data[\"Infarto\"] \n",
    "Mulher= Target.loc[Criterio_3]\n",
    "Homem= Target.loc[Criterio_4]\n",
    "Linhas_3=Mulher.index\n",
    "Linhas_4=Homem.index\n",
    "Data.loc[Linhas_3,\"Mulher\"] = 1\n",
    "Data.loc[Linhas_4,\"Homem\"] = 1\n",
    "Data = Data.drop(\"Gênero\",axis=1)\n",
    "print(Data)"
   ]
  },
  {
   "cell_type": "markdown",
   "id": "00b5822f-a5dc-42ec-bef1-94a1130c1beb",
   "metadata": {},
   "source": [
    "## Descrição dos dados numéricos "
   ]
  },
  {
   "cell_type": "code",
   "execution_count": 6,
   "id": "4474365c-5761-4f64-9f51-844f3d7f56f8",
   "metadata": {},
   "outputs": [
    {
     "data": {
      "text/html": [
       "<div>\n",
       "<style scoped>\n",
       "    .dataframe tbody tr th:only-of-type {\n",
       "        vertical-align: middle;\n",
       "    }\n",
       "\n",
       "    .dataframe tbody tr th {\n",
       "        vertical-align: top;\n",
       "    }\n",
       "\n",
       "    .dataframe thead th {\n",
       "        text-align: right;\n",
       "    }\n",
       "</style>\n",
       "<table border=\"1\" class=\"dataframe\">\n",
       "  <thead>\n",
       "    <tr style=\"text-align: right;\">\n",
       "      <th></th>\n",
       "      <th>Idade</th>\n",
       "      <th>Impulso</th>\n",
       "      <th>Pressão Mâxima</th>\n",
       "      <th>Pressão Mínima</th>\n",
       "      <th>Glicose</th>\n",
       "      <th>CK-MB</th>\n",
       "      <th>Troponina</th>\n",
       "    </tr>\n",
       "  </thead>\n",
       "  <tbody>\n",
       "    <tr>\n",
       "      <th>count</th>\n",
       "      <td>1319.000000</td>\n",
       "      <td>1319.000000</td>\n",
       "      <td>1319.000000</td>\n",
       "      <td>1319.000000</td>\n",
       "      <td>1319.000000</td>\n",
       "      <td>1319.000000</td>\n",
       "      <td>1319.000000</td>\n",
       "    </tr>\n",
       "    <tr>\n",
       "      <th>mean</th>\n",
       "      <td>56.191812</td>\n",
       "      <td>78.336619</td>\n",
       "      <td>127.170584</td>\n",
       "      <td>72.269143</td>\n",
       "      <td>146.634344</td>\n",
       "      <td>15.274306</td>\n",
       "      <td>0.360942</td>\n",
       "    </tr>\n",
       "    <tr>\n",
       "      <th>std</th>\n",
       "      <td>13.647315</td>\n",
       "      <td>51.630270</td>\n",
       "      <td>26.122720</td>\n",
       "      <td>14.033924</td>\n",
       "      <td>74.923045</td>\n",
       "      <td>46.327083</td>\n",
       "      <td>1.154568</td>\n",
       "    </tr>\n",
       "    <tr>\n",
       "      <th>min</th>\n",
       "      <td>14.000000</td>\n",
       "      <td>20.000000</td>\n",
       "      <td>42.000000</td>\n",
       "      <td>38.000000</td>\n",
       "      <td>35.000000</td>\n",
       "      <td>0.321000</td>\n",
       "      <td>0.001000</td>\n",
       "    </tr>\n",
       "    <tr>\n",
       "      <th>25%</th>\n",
       "      <td>47.000000</td>\n",
       "      <td>64.000000</td>\n",
       "      <td>110.000000</td>\n",
       "      <td>62.000000</td>\n",
       "      <td>98.000000</td>\n",
       "      <td>1.655000</td>\n",
       "      <td>0.006000</td>\n",
       "    </tr>\n",
       "    <tr>\n",
       "      <th>50%</th>\n",
       "      <td>58.000000</td>\n",
       "      <td>74.000000</td>\n",
       "      <td>124.000000</td>\n",
       "      <td>72.000000</td>\n",
       "      <td>116.000000</td>\n",
       "      <td>2.850000</td>\n",
       "      <td>0.014000</td>\n",
       "    </tr>\n",
       "    <tr>\n",
       "      <th>75%</th>\n",
       "      <td>65.000000</td>\n",
       "      <td>85.000000</td>\n",
       "      <td>143.000000</td>\n",
       "      <td>81.000000</td>\n",
       "      <td>169.500000</td>\n",
       "      <td>5.805000</td>\n",
       "      <td>0.085500</td>\n",
       "    </tr>\n",
       "    <tr>\n",
       "      <th>max</th>\n",
       "      <td>103.000000</td>\n",
       "      <td>1111.000000</td>\n",
       "      <td>223.000000</td>\n",
       "      <td>154.000000</td>\n",
       "      <td>541.000000</td>\n",
       "      <td>300.000000</td>\n",
       "      <td>10.300000</td>\n",
       "    </tr>\n",
       "  </tbody>\n",
       "</table>\n",
       "</div>"
      ],
      "text/plain": [
       "             Idade      Impulso  Pressão Mâxima  Pressão Mínima      Glicose  \\\n",
       "count  1319.000000  1319.000000     1319.000000     1319.000000  1319.000000   \n",
       "mean     56.191812    78.336619      127.170584       72.269143   146.634344   \n",
       "std      13.647315    51.630270       26.122720       14.033924    74.923045   \n",
       "min      14.000000    20.000000       42.000000       38.000000    35.000000   \n",
       "25%      47.000000    64.000000      110.000000       62.000000    98.000000   \n",
       "50%      58.000000    74.000000      124.000000       72.000000   116.000000   \n",
       "75%      65.000000    85.000000      143.000000       81.000000   169.500000   \n",
       "max     103.000000  1111.000000      223.000000      154.000000   541.000000   \n",
       "\n",
       "             CK-MB    Troponina  \n",
       "count  1319.000000  1319.000000  \n",
       "mean     15.274306     0.360942  \n",
       "std      46.327083     1.154568  \n",
       "min       0.321000     0.001000  \n",
       "25%       1.655000     0.006000  \n",
       "50%       2.850000     0.014000  \n",
       "75%       5.805000     0.085500  \n",
       "max     300.000000    10.300000  "
      ]
     },
     "execution_count": 6,
     "metadata": {},
     "output_type": "execute_result"
    }
   ],
   "source": [
    "Data = Data.astype({\"Homem\": bool,\"Mulher\": bool, \"Infarto\": bool})\n",
    "Data.describe()"
   ]
  },
  {
   "cell_type": "markdown",
   "id": "8296ddd6-3e22-43cd-ba96-e59a5f8cba84",
   "metadata": {},
   "source": [
    "## Descrição dos dados categóricos "
   ]
  },
  {
   "cell_type": "code",
   "execution_count": 7,
   "id": "c2b82efc-3222-4875-84ed-3eb390ff2b2a",
   "metadata": {},
   "outputs": [
    {
     "data": {
      "text/html": [
       "<div>\n",
       "<style scoped>\n",
       "    .dataframe tbody tr th:only-of-type {\n",
       "        vertical-align: middle;\n",
       "    }\n",
       "\n",
       "    .dataframe tbody tr th {\n",
       "        vertical-align: top;\n",
       "    }\n",
       "\n",
       "    .dataframe thead th {\n",
       "        text-align: right;\n",
       "    }\n",
       "</style>\n",
       "<table border=\"1\" class=\"dataframe\">\n",
       "  <thead>\n",
       "    <tr style=\"text-align: right;\">\n",
       "      <th></th>\n",
       "      <th>Mulher</th>\n",
       "      <th>Homem</th>\n",
       "      <th>Infarto</th>\n",
       "    </tr>\n",
       "  </thead>\n",
       "  <tbody>\n",
       "    <tr>\n",
       "      <th>count</th>\n",
       "      <td>1319</td>\n",
       "      <td>1319</td>\n",
       "      <td>1319</td>\n",
       "    </tr>\n",
       "    <tr>\n",
       "      <th>unique</th>\n",
       "      <td>2</td>\n",
       "      <td>2</td>\n",
       "      <td>2</td>\n",
       "    </tr>\n",
       "    <tr>\n",
       "      <th>top</th>\n",
       "      <td>False</td>\n",
       "      <td>True</td>\n",
       "      <td>True</td>\n",
       "    </tr>\n",
       "    <tr>\n",
       "      <th>freq</th>\n",
       "      <td>870</td>\n",
       "      <td>870</td>\n",
       "      <td>810</td>\n",
       "    </tr>\n",
       "  </tbody>\n",
       "</table>\n",
       "</div>"
      ],
      "text/plain": [
       "       Mulher Homem Infarto\n",
       "count    1319  1319    1319\n",
       "unique      2     2       2\n",
       "top     False  True    True\n",
       "freq      870   870     810"
      ]
     },
     "execution_count": 7,
     "metadata": {},
     "output_type": "execute_result"
    }
   ],
   "source": [
    "Data.describe(include=[bool])"
   ]
  },
  {
   "cell_type": "markdown",
   "id": "407926c3-9d19-4752-bf69-411a0cbd58b0",
   "metadata": {},
   "source": [
    "## Separação dos dados\n"
   ]
  },
  {
   "cell_type": "code",
   "execution_count": 46,
   "id": "b5a3383e-02fd-45c1-baf5-782dd41c47eb",
   "metadata": {},
   "outputs": [
    {
     "data": {
      "text/html": [
       "<div>\n",
       "<style scoped>\n",
       "    .dataframe tbody tr th:only-of-type {\n",
       "        vertical-align: middle;\n",
       "    }\n",
       "\n",
       "    .dataframe tbody tr th {\n",
       "        vertical-align: top;\n",
       "    }\n",
       "\n",
       "    .dataframe thead th {\n",
       "        text-align: right;\n",
       "    }\n",
       "</style>\n",
       "<table border=\"1\" class=\"dataframe\">\n",
       "  <thead>\n",
       "    <tr style=\"text-align: right;\">\n",
       "      <th></th>\n",
       "      <th>Idade</th>\n",
       "      <th>Mulher</th>\n",
       "      <th>Homem</th>\n",
       "      <th>Impulso</th>\n",
       "      <th>Pressão Mâxima</th>\n",
       "      <th>Pressão Mínima</th>\n",
       "      <th>Glicose</th>\n",
       "      <th>CK-MB</th>\n",
       "      <th>Troponina</th>\n",
       "    </tr>\n",
       "  </thead>\n",
       "  <tbody>\n",
       "    <tr>\n",
       "      <th>0</th>\n",
       "      <td>64</td>\n",
       "      <td>0.0</td>\n",
       "      <td>1.0</td>\n",
       "      <td>66</td>\n",
       "      <td>160</td>\n",
       "      <td>83</td>\n",
       "      <td>160.0</td>\n",
       "      <td>1.80</td>\n",
       "      <td>0.012</td>\n",
       "    </tr>\n",
       "    <tr>\n",
       "      <th>1</th>\n",
       "      <td>21</td>\n",
       "      <td>0.0</td>\n",
       "      <td>1.0</td>\n",
       "      <td>94</td>\n",
       "      <td>98</td>\n",
       "      <td>46</td>\n",
       "      <td>296.0</td>\n",
       "      <td>6.75</td>\n",
       "      <td>1.060</td>\n",
       "    </tr>\n",
       "    <tr>\n",
       "      <th>2</th>\n",
       "      <td>55</td>\n",
       "      <td>0.0</td>\n",
       "      <td>1.0</td>\n",
       "      <td>64</td>\n",
       "      <td>160</td>\n",
       "      <td>77</td>\n",
       "      <td>270.0</td>\n",
       "      <td>1.99</td>\n",
       "      <td>0.003</td>\n",
       "    </tr>\n",
       "    <tr>\n",
       "      <th>3</th>\n",
       "      <td>64</td>\n",
       "      <td>0.0</td>\n",
       "      <td>1.0</td>\n",
       "      <td>70</td>\n",
       "      <td>120</td>\n",
       "      <td>55</td>\n",
       "      <td>270.0</td>\n",
       "      <td>13.87</td>\n",
       "      <td>0.122</td>\n",
       "    </tr>\n",
       "    <tr>\n",
       "      <th>4</th>\n",
       "      <td>55</td>\n",
       "      <td>0.0</td>\n",
       "      <td>1.0</td>\n",
       "      <td>64</td>\n",
       "      <td>112</td>\n",
       "      <td>65</td>\n",
       "      <td>300.0</td>\n",
       "      <td>1.08</td>\n",
       "      <td>0.003</td>\n",
       "    </tr>\n",
       "    <tr>\n",
       "      <th>...</th>\n",
       "      <td>...</td>\n",
       "      <td>...</td>\n",
       "      <td>...</td>\n",
       "      <td>...</td>\n",
       "      <td>...</td>\n",
       "      <td>...</td>\n",
       "      <td>...</td>\n",
       "      <td>...</td>\n",
       "      <td>...</td>\n",
       "    </tr>\n",
       "    <tr>\n",
       "      <th>1314</th>\n",
       "      <td>44</td>\n",
       "      <td>0.0</td>\n",
       "      <td>1.0</td>\n",
       "      <td>94</td>\n",
       "      <td>122</td>\n",
       "      <td>67</td>\n",
       "      <td>204.0</td>\n",
       "      <td>1.63</td>\n",
       "      <td>0.006</td>\n",
       "    </tr>\n",
       "    <tr>\n",
       "      <th>1315</th>\n",
       "      <td>66</td>\n",
       "      <td>0.0</td>\n",
       "      <td>1.0</td>\n",
       "      <td>84</td>\n",
       "      <td>125</td>\n",
       "      <td>55</td>\n",
       "      <td>149.0</td>\n",
       "      <td>1.33</td>\n",
       "      <td>0.172</td>\n",
       "    </tr>\n",
       "    <tr>\n",
       "      <th>1316</th>\n",
       "      <td>45</td>\n",
       "      <td>0.0</td>\n",
       "      <td>1.0</td>\n",
       "      <td>85</td>\n",
       "      <td>168</td>\n",
       "      <td>104</td>\n",
       "      <td>96.0</td>\n",
       "      <td>1.24</td>\n",
       "      <td>4.250</td>\n",
       "    </tr>\n",
       "    <tr>\n",
       "      <th>1317</th>\n",
       "      <td>54</td>\n",
       "      <td>0.0</td>\n",
       "      <td>1.0</td>\n",
       "      <td>58</td>\n",
       "      <td>117</td>\n",
       "      <td>68</td>\n",
       "      <td>443.0</td>\n",
       "      <td>5.80</td>\n",
       "      <td>0.359</td>\n",
       "    </tr>\n",
       "    <tr>\n",
       "      <th>1318</th>\n",
       "      <td>51</td>\n",
       "      <td>0.0</td>\n",
       "      <td>1.0</td>\n",
       "      <td>94</td>\n",
       "      <td>157</td>\n",
       "      <td>79</td>\n",
       "      <td>134.0</td>\n",
       "      <td>50.89</td>\n",
       "      <td>1.770</td>\n",
       "    </tr>\n",
       "  </tbody>\n",
       "</table>\n",
       "<p>1319 rows × 9 columns</p>\n",
       "</div>"
      ],
      "text/plain": [
       "      Idade  Mulher  Homem  Impulso  Pressão Mâxima  Pressão Mínima  Glicose  \\\n",
       "0        64     0.0    1.0       66             160              83    160.0   \n",
       "1        21     0.0    1.0       94              98              46    296.0   \n",
       "2        55     0.0    1.0       64             160              77    270.0   \n",
       "3        64     0.0    1.0       70             120              55    270.0   \n",
       "4        55     0.0    1.0       64             112              65    300.0   \n",
       "...     ...     ...    ...      ...             ...             ...      ...   \n",
       "1314     44     0.0    1.0       94             122              67    204.0   \n",
       "1315     66     0.0    1.0       84             125              55    149.0   \n",
       "1316     45     0.0    1.0       85             168             104     96.0   \n",
       "1317     54     0.0    1.0       58             117              68    443.0   \n",
       "1318     51     0.0    1.0       94             157              79    134.0   \n",
       "\n",
       "      CK-MB  Troponina  \n",
       "0      1.80      0.012  \n",
       "1      6.75      1.060  \n",
       "2      1.99      0.003  \n",
       "3     13.87      0.122  \n",
       "4      1.08      0.003  \n",
       "...     ...        ...  \n",
       "1314   1.63      0.006  \n",
       "1315   1.33      0.172  \n",
       "1316   1.24      4.250  \n",
       "1317   5.80      0.359  \n",
       "1318  50.89      1.770  \n",
       "\n",
       "[1319 rows x 9 columns]"
      ]
     },
     "execution_count": 46,
     "metadata": {},
     "output_type": "execute_result"
    }
   ],
   "source": [
    "Data.iloc[:,:-1].drop_duplicates()"
   ]
  },
  {
   "cell_type": "code",
   "execution_count": 8,
   "id": "de218352-29e2-4a5c-b2f6-f5d219d762c4",
   "metadata": {},
   "outputs": [],
   "source": [
    "Data = Data.astype({\"Homem\": float,\"Mulher\": float, \"Infarto\":float})\n",
    "Indices_Treino, Indices_Teste = train_test_split(Data.index, test_size=0.2)\n",
    "Data_Treino = Data.loc[Indices_Treino]\n",
    "Data_Teste = Data.loc[Indices_Teste]"
   ]
  },
  {
   "cell_type": "markdown",
   "id": "2847f955-ac46-46b4-99ba-57ddd50d64ad",
   "metadata": {},
   "source": [
    "\n",
    "No primeiro bloco:\n",
    "1. `Xtr`: É criado retirando a coluna 'Infarto' do DataFrame de treinamento (Data_Treino), resultando nas features do conjunto de treinamento.\n",
    "2. `Ytr`: Representa os rótulos do conjunto de treinamento, sendo selecionados da coluna 'Infarto' do DataFrame de treinamento.\n",
    "\n",
    "No segundo bloco:\n",
    "1. `Xts`: É criado retirando a coluna 'Infarto' do DataFrame de teste (Data_Teste), resultando nas features do conjunto de teste.\n",
    "2. `Yts`: Representa os rótulos do conjunto de teste, sendo selecionados da coluna 'Infarto' do DataFrame de teste.\n"
   ]
  },
  {
   "cell_type": "code",
   "execution_count": 9,
   "id": "c507e643-c5c1-4018-9384-edd151be3592",
   "metadata": {},
   "outputs": [
    {
     "name": "stdout",
     "output_type": "stream",
     "text": [
      "      Idade  Mulher  Homem  Impulso  Pressão Mâxima  Pressão Mínima  Glicose  \\\n",
      "625      42     0.0    1.0       89             111              52    106.0   \n",
      "924      73     1.0    0.0       90              95              50     98.0   \n",
      "772      50     1.0    0.0       88             110              70    109.0   \n",
      "855      65     0.0    1.0       67             177             105    120.0   \n",
      "425      60     1.0    0.0       60             106              73    134.0   \n",
      "...     ...     ...    ...      ...             ...             ...      ...   \n",
      "1122     63     0.0    1.0       81             150              51    195.0   \n",
      "197      51     1.0    0.0       70             140              90    150.0   \n",
      "113      57     0.0    1.0       88             110              70     83.0   \n",
      "763      70     0.0    1.0       87             148              89    142.0   \n",
      "1174     37     1.0    0.0       83             102              68    104.0   \n",
      "\n",
      "       CK-MB  Troponina  \n",
      "625     6.48      0.003  \n",
      "924   300.00      0.015  \n",
      "772     3.85      0.003  \n",
      "855     3.68      0.011  \n",
      "425     2.82      0.009  \n",
      "...      ...        ...  \n",
      "1122    5.57      0.005  \n",
      "197     1.81      0.013  \n",
      "113    40.99      7.670  \n",
      "763    32.77      2.060  \n",
      "1174    1.35      0.007  \n",
      "\n",
      "[1055 rows x 9 columns] 625     1.0\n",
      "924     1.0\n",
      "772     0.0\n",
      "855     0.0\n",
      "425     0.0\n",
      "       ... \n",
      "1122    0.0\n",
      "197     0.0\n",
      "113     1.0\n",
      "763     1.0\n",
      "1174    0.0\n",
      "Name: Infarto, Length: 1055, dtype: float64\n",
      "      Idade  Mulher  Homem  Impulso  Pressão Mâxima  Pressão Mínima  Glicose  \\\n",
      "260      64     0.0    1.0       85             143              73    150.0   \n",
      "1286     35     0.0    1.0       74             134              58     78.0   \n",
      "1040     60     0.0    1.0       80             130              85    182.0   \n",
      "30       54     0.0    1.0      125             131              82     95.0   \n",
      "262      60     0.0    1.0       92             136              69     92.0   \n",
      "...     ...     ...    ...      ...             ...             ...      ...   \n",
      "578      60     1.0    0.0       64             113              64    293.0   \n",
      "318      50     1.0    0.0       61              90              57    100.0   \n",
      "43       55     0.0    1.0       97             105              80    100.0   \n",
      "639      58     0.0    1.0       64             160              77    328.0   \n",
      "101      53     0.0    1.0       73             135              81    115.0   \n",
      "\n",
      "       CK-MB  Troponina  \n",
      "260     1.68      0.324  \n",
      "1286    1.37      0.003  \n",
      "1040    2.09      0.407  \n",
      "30      1.31      8.300  \n",
      "262     1.82      0.008  \n",
      "...      ...        ...  \n",
      "578     1.63      2.870  \n",
      "318     1.43      0.003  \n",
      "43      2.97      0.146  \n",
      "639     1.11      1.500  \n",
      "101   165.10      0.014  \n",
      "\n",
      "[264 rows x 9 columns] 260     1.0\n",
      "1286    0.0\n",
      "1040    1.0\n",
      "30      1.0\n",
      "262     0.0\n",
      "       ... \n",
      "578     1.0\n",
      "318     0.0\n",
      "43      1.0\n",
      "639     1.0\n",
      "101     1.0\n",
      "Name: Infarto, Length: 264, dtype: float64\n"
     ]
    }
   ],
   "source": [
    "Xtr=Data_Treino.drop(\"Infarto\", axis=1)\n",
    "Ytr=Data_Treino[\"Infarto\"]\n",
    "print(Xtr,Ytr)\n",
    "Xts=Data_Teste.drop(\"Infarto\", axis=1)\n",
    "Yts=Data_Teste[\"Infarto\"]\n",
    "print(Xts,Yts)"
   ]
  },
  {
   "cell_type": "markdown",
   "id": "6391e3bd-085f-4ec4-8d58-e12e6693509e",
   "metadata": {},
   "source": [
    "# Baseline"
   ]
  },
  {
   "cell_type": "markdown",
   "id": "564aba3c-9ec9-48cb-8e9f-bfa8ae2895e6",
   "metadata": {},
   "source": [
    "A fim de possuir um modelo base para comparação, faz-se um modelo Baseline."
   ]
  },
  {
   "cell_type": "code",
   "execution_count": 10,
   "id": "4bb79f95-49a8-4812-afb8-e9e01c3e5267",
   "metadata": {},
   "outputs": [],
   "source": [
    "modelo_baseline = DummyClassifier()\n",
    "\n",
    "Base = modelo_baseline.fit(Xtr, Ytr)"
   ]
  },
  {
   "cell_type": "code",
   "execution_count": 11,
   "id": "222b1ffe-d0aa-482a-a26b-17480af286fd",
   "metadata": {},
   "outputs": [
    {
     "data": {
      "text/plain": [
       "<AxesSubplot: >"
      ]
     },
     "execution_count": 11,
     "metadata": {},
     "output_type": "execute_result"
    },
    {
     "data": {
      "image/png": "[encoded data removed]",
      "text/plain": [
       "<Figure size 640x480 with 2 Axes>"
      ]
     },
     "metadata": {},
     "output_type": "display_data"
    }
   ],
   "source": [
    "Y_Previsto_B = Base.predict(Xts)\n",
    "\n",
    "Matriz_Conf_B = confusion_matrix(Yts,Y_Previsto_B)\n",
    "\n",
    "Data_conf_B = pd.DataFrame(Matriz_Conf_B)\n",
    "\n",
    "sns.heatmap(Data_conf_B, annot=True, annot_kws={\"size\": 16})"
   ]
  },
  {
   "cell_type": "code",
   "execution_count": 12,
   "id": "1d6802cd-0989-4a6f-a2c3-c9da2c8d3dd4",
   "metadata": {},
   "outputs": [
    {
     "data": {
      "text/plain": [
       "0.6325757575757576"
      ]
     },
     "execution_count": 12,
     "metadata": {},
     "output_type": "execute_result"
    }
   ],
   "source": [
    "accuracy_score(Yts, Y_Previsto_B, normalize=True)"
   ]
  },
  {
   "cell_type": "markdown",
   "id": "03ad15e6-cd1c-479e-a901-54ffa0b0ff76",
   "metadata": {},
   "source": [
    "A partir da acuracia do modelo baseline, é possível fazer a comparação com outros modelos."
   ]
  },
  {
   "cell_type": "markdown",
   "id": "e6f8ee6f-8b30-4efc-9c28-10319aff9f56",
   "metadata": {
    "tags": []
   },
   "source": [
    "# Árvore Aleatória de Classificação "
   ]
  },
  {
   "cell_type": "markdown",
   "id": "41f79489-3c7a-4c3e-8b0b-3b51e8e4aa65",
   "metadata": {},
   "source": [
    " busca aleatória de hiperparâmetros para otimizar um modelo de Random Forest Classifier.\n",
    "\n",
    "1. `N_Divisoes`: Define o número de divisões para a validação cruzada durante a busca de hiperparâmetros, neste caso, 10 divisões.\n",
    "2. `N_Iter`: Define o número de iterações na busca aleatória, neste caso, 100 iterações.\n",
    "3. `Espaco_de_Busca`: Define o espaço de busca para os hiperparâmetros do modelo, incluindo \"max_depth\", \"min_samples_split\", \"min_samples_leaf\" e \"max_features\".\n",
    "4. `Tipo`: Cria uma instância do RandomForestClassifier, que será otimizado durante a busca.\n",
    "5. `Buscador`: Utiliza RandomizedSearchCV para realizar a busca aleatória nos hiperparâmetros, usando o modelo definido, o espaço de busca, e a métrica de avaliação neg_root_mean_squared_error.\n",
    "6. `refit=True`: Reajusta o melhor modelo encontrado com todos os dados de treino após a busca.\n",
    "7. `error_score='raise'`: Eleva um erro caso ocorra algum problema durante a busca.\n",
    "8. `n_jobs=4`: Utiliza 4 processadores para realizar a busca de forma mais eficiente.\n",
    "9. `Buscador.fit(Xtr, Ytr)`: Executa a busca aleatória ajustando o modelo aos dados de treino.\n",
    "\n",
    "Após a busca, os resultados são armazenados em um DataFrame chamado 'Resultados', que contém informações sobre os hiperparâmetros testados e as métricas de avaliação correspondentes.\n"
   ]
  },
  {
   "cell_type": "code",
   "execution_count": 22,
   "id": "484903df-4076-4402-813e-d8cc85c0d36d",
   "metadata": {},
   "outputs": [
    {
     "data": {
      "text/html": [
       "<div>\n",
       "<style scoped>\n",
       "    .dataframe tbody tr th:only-of-type {\n",
       "        vertical-align: middle;\n",
       "    }\n",
       "\n",
       "    .dataframe tbody tr th {\n",
       "        vertical-align: top;\n",
       "    }\n",
       "\n",
       "    .dataframe thead th {\n",
       "        text-align: right;\n",
       "    }\n",
       "</style>\n",
       "<table border=\"1\" class=\"dataframe\">\n",
       "  <thead>\n",
       "    <tr style=\"text-align: right;\">\n",
       "      <th></th>\n",
       "      <th>mean_fit_time</th>\n",
       "      <th>std_fit_time</th>\n",
       "      <th>mean_score_time</th>\n",
       "      <th>std_score_time</th>\n",
       "      <th>param_min_samples_split</th>\n",
       "      <th>param_min_samples_leaf</th>\n",
       "      <th>param_max_features</th>\n",
       "      <th>param_max_depth</th>\n",
       "      <th>params</th>\n",
       "      <th>split0_test_score</th>\n",
       "      <th>...</th>\n",
       "      <th>split3_test_score</th>\n",
       "      <th>split4_test_score</th>\n",
       "      <th>split5_test_score</th>\n",
       "      <th>split6_test_score</th>\n",
       "      <th>split7_test_score</th>\n",
       "      <th>split8_test_score</th>\n",
       "      <th>split9_test_score</th>\n",
       "      <th>mean_test_score</th>\n",
       "      <th>std_test_score</th>\n",
       "      <th>rank_test_score</th>\n",
       "    </tr>\n",
       "  </thead>\n",
       "  <tbody>\n",
       "    <tr>\n",
       "      <th>0</th>\n",
       "      <td>0.213486</td>\n",
       "      <td>0.013800</td>\n",
       "      <td>0.010808</td>\n",
       "      <td>0.006102</td>\n",
       "      <td>3</td>\n",
       "      <td>1</td>\n",
       "      <td>0.33</td>\n",
       "      <td>7</td>\n",
       "      <td>{'min_samples_split': 3, 'min_samples_leaf': 1...</td>\n",
       "      <td>1.0</td>\n",
       "      <td>...</td>\n",
       "      <td>0.971698</td>\n",
       "      <td>0.990566</td>\n",
       "      <td>0.990476</td>\n",
       "      <td>0.980952</td>\n",
       "      <td>0.980952</td>\n",
       "      <td>0.971429</td>\n",
       "      <td>0.980952</td>\n",
       "      <td>0.981986</td>\n",
       "      <td>0.008929</td>\n",
       "      <td>74</td>\n",
       "    </tr>\n",
       "    <tr>\n",
       "      <th>1</th>\n",
       "      <td>0.201030</td>\n",
       "      <td>0.014715</td>\n",
       "      <td>0.011881</td>\n",
       "      <td>0.005354</td>\n",
       "      <td>3</td>\n",
       "      <td>3</td>\n",
       "      <td>sqrt</td>\n",
       "      <td>7</td>\n",
       "      <td>{'min_samples_split': 3, 'min_samples_leaf': 3...</td>\n",
       "      <td>1.0</td>\n",
       "      <td>...</td>\n",
       "      <td>0.981132</td>\n",
       "      <td>0.990566</td>\n",
       "      <td>0.990476</td>\n",
       "      <td>0.980952</td>\n",
       "      <td>0.980952</td>\n",
       "      <td>0.971429</td>\n",
       "      <td>0.980952</td>\n",
       "      <td>0.982929</td>\n",
       "      <td>0.008266</td>\n",
       "      <td>16</td>\n",
       "    </tr>\n",
       "    <tr>\n",
       "      <th>2</th>\n",
       "      <td>0.173107</td>\n",
       "      <td>0.006001</td>\n",
       "      <td>0.012844</td>\n",
       "      <td>0.003942</td>\n",
       "      <td>2</td>\n",
       "      <td>3</td>\n",
       "      <td>log2</td>\n",
       "      <td>2</td>\n",
       "      <td>{'min_samples_split': 2, 'min_samples_leaf': 3...</td>\n",
       "      <td>1.0</td>\n",
       "      <td>...</td>\n",
       "      <td>0.981132</td>\n",
       "      <td>0.990566</td>\n",
       "      <td>0.990476</td>\n",
       "      <td>0.980952</td>\n",
       "      <td>0.980952</td>\n",
       "      <td>0.971429</td>\n",
       "      <td>0.980952</td>\n",
       "      <td>0.982929</td>\n",
       "      <td>0.008266</td>\n",
       "      <td>16</td>\n",
       "    </tr>\n",
       "    <tr>\n",
       "      <th>3</th>\n",
       "      <td>0.171689</td>\n",
       "      <td>0.007281</td>\n",
       "      <td>0.011468</td>\n",
       "      <td>0.005738</td>\n",
       "      <td>4</td>\n",
       "      <td>3</td>\n",
       "      <td>sqrt</td>\n",
       "      <td>2</td>\n",
       "      <td>{'min_samples_split': 4, 'min_samples_leaf': 3...</td>\n",
       "      <td>1.0</td>\n",
       "      <td>...</td>\n",
       "      <td>0.981132</td>\n",
       "      <td>0.981132</td>\n",
       "      <td>0.990476</td>\n",
       "      <td>0.980952</td>\n",
       "      <td>0.980952</td>\n",
       "      <td>0.971429</td>\n",
       "      <td>0.980952</td>\n",
       "      <td>0.981986</td>\n",
       "      <td>0.007869</td>\n",
       "      <td>74</td>\n",
       "    </tr>\n",
       "    <tr>\n",
       "      <th>4</th>\n",
       "      <td>0.192022</td>\n",
       "      <td>0.013321</td>\n",
       "      <td>0.013391</td>\n",
       "      <td>0.006257</td>\n",
       "      <td>3</td>\n",
       "      <td>3</td>\n",
       "      <td>log2</td>\n",
       "      <td>10</td>\n",
       "      <td>{'min_samples_split': 3, 'min_samples_leaf': 3...</td>\n",
       "      <td>1.0</td>\n",
       "      <td>...</td>\n",
       "      <td>0.971698</td>\n",
       "      <td>0.990566</td>\n",
       "      <td>0.990476</td>\n",
       "      <td>0.971429</td>\n",
       "      <td>0.980952</td>\n",
       "      <td>0.971429</td>\n",
       "      <td>0.980952</td>\n",
       "      <td>0.981033</td>\n",
       "      <td>0.009479</td>\n",
       "      <td>98</td>\n",
       "    </tr>\n",
       "    <tr>\n",
       "      <th>...</th>\n",
       "      <td>...</td>\n",
       "      <td>...</td>\n",
       "      <td>...</td>\n",
       "      <td>...</td>\n",
       "      <td>...</td>\n",
       "      <td>...</td>\n",
       "      <td>...</td>\n",
       "      <td>...</td>\n",
       "      <td>...</td>\n",
       "      <td>...</td>\n",
       "      <td>...</td>\n",
       "      <td>...</td>\n",
       "      <td>...</td>\n",
       "      <td>...</td>\n",
       "      <td>...</td>\n",
       "      <td>...</td>\n",
       "      <td>...</td>\n",
       "      <td>...</td>\n",
       "      <td>...</td>\n",
       "      <td>...</td>\n",
       "      <td>...</td>\n",
       "    </tr>\n",
       "    <tr>\n",
       "      <th>95</th>\n",
       "      <td>0.470928</td>\n",
       "      <td>0.021858</td>\n",
       "      <td>0.034917</td>\n",
       "      <td>0.007998</td>\n",
       "      <td>5</td>\n",
       "      <td>4</td>\n",
       "      <td>0.33</td>\n",
       "      <td>3</td>\n",
       "      <td>{'min_samples_split': 5, 'min_samples_leaf': 4...</td>\n",
       "      <td>1.0</td>\n",
       "      <td>...</td>\n",
       "      <td>0.981132</td>\n",
       "      <td>0.981132</td>\n",
       "      <td>0.990476</td>\n",
       "      <td>0.980952</td>\n",
       "      <td>0.980952</td>\n",
       "      <td>0.971429</td>\n",
       "      <td>0.980952</td>\n",
       "      <td>0.981986</td>\n",
       "      <td>0.007869</td>\n",
       "      <td>74</td>\n",
       "    </tr>\n",
       "    <tr>\n",
       "      <th>96</th>\n",
       "      <td>0.703978</td>\n",
       "      <td>0.049683</td>\n",
       "      <td>0.036441</td>\n",
       "      <td>0.007383</td>\n",
       "      <td>2</td>\n",
       "      <td>4</td>\n",
       "      <td>None</td>\n",
       "      <td>7</td>\n",
       "      <td>{'min_samples_split': 2, 'min_samples_leaf': 4...</td>\n",
       "      <td>1.0</td>\n",
       "      <td>...</td>\n",
       "      <td>0.981132</td>\n",
       "      <td>1.000000</td>\n",
       "      <td>1.000000</td>\n",
       "      <td>0.980952</td>\n",
       "      <td>0.990476</td>\n",
       "      <td>0.980952</td>\n",
       "      <td>0.990476</td>\n",
       "      <td>0.988625</td>\n",
       "      <td>0.009269</td>\n",
       "      <td>1</td>\n",
       "    </tr>\n",
       "    <tr>\n",
       "      <th>97</th>\n",
       "      <td>0.682678</td>\n",
       "      <td>0.027922</td>\n",
       "      <td>0.030723</td>\n",
       "      <td>0.007979</td>\n",
       "      <td>4</td>\n",
       "      <td>1</td>\n",
       "      <td>None</td>\n",
       "      <td>None</td>\n",
       "      <td>{'min_samples_split': 4, 'min_samples_leaf': 1...</td>\n",
       "      <td>1.0</td>\n",
       "      <td>...</td>\n",
       "      <td>0.981132</td>\n",
       "      <td>1.000000</td>\n",
       "      <td>0.990476</td>\n",
       "      <td>0.980952</td>\n",
       "      <td>0.990476</td>\n",
       "      <td>0.980952</td>\n",
       "      <td>0.990476</td>\n",
       "      <td>0.985786</td>\n",
       "      <td>0.010552</td>\n",
       "      <td>7</td>\n",
       "    </tr>\n",
       "    <tr>\n",
       "      <th>98</th>\n",
       "      <td>0.536696</td>\n",
       "      <td>0.029302</td>\n",
       "      <td>0.031343</td>\n",
       "      <td>0.006777</td>\n",
       "      <td>3</td>\n",
       "      <td>2</td>\n",
       "      <td>sqrt</td>\n",
       "      <td>7</td>\n",
       "      <td>{'min_samples_split': 3, 'min_samples_leaf': 2...</td>\n",
       "      <td>1.0</td>\n",
       "      <td>...</td>\n",
       "      <td>0.981132</td>\n",
       "      <td>0.990566</td>\n",
       "      <td>0.990476</td>\n",
       "      <td>0.980952</td>\n",
       "      <td>0.980952</td>\n",
       "      <td>0.971429</td>\n",
       "      <td>0.980952</td>\n",
       "      <td>0.982929</td>\n",
       "      <td>0.008266</td>\n",
       "      <td>16</td>\n",
       "    </tr>\n",
       "    <tr>\n",
       "      <th>99</th>\n",
       "      <td>0.518728</td>\n",
       "      <td>0.016326</td>\n",
       "      <td>0.032524</td>\n",
       "      <td>0.002550</td>\n",
       "      <td>5</td>\n",
       "      <td>4</td>\n",
       "      <td>0.33</td>\n",
       "      <td>None</td>\n",
       "      <td>{'min_samples_split': 5, 'min_samples_leaf': 4...</td>\n",
       "      <td>1.0</td>\n",
       "      <td>...</td>\n",
       "      <td>0.971698</td>\n",
       "      <td>0.990566</td>\n",
       "      <td>0.990476</td>\n",
       "      <td>0.980952</td>\n",
       "      <td>0.980952</td>\n",
       "      <td>0.971429</td>\n",
       "      <td>0.980952</td>\n",
       "      <td>0.981986</td>\n",
       "      <td>0.008929</td>\n",
       "      <td>74</td>\n",
       "    </tr>\n",
       "  </tbody>\n",
       "</table>\n",
       "<p>100 rows × 22 columns</p>\n",
       "</div>"
      ],
      "text/plain": [
       "    mean_fit_time  std_fit_time  mean_score_time  std_score_time  \\\n",
       "0        0.213486      0.013800         0.010808        0.006102   \n",
       "1        0.201030      0.014715         0.011881        0.005354   \n",
       "2        0.173107      0.006001         0.012844        0.003942   \n",
       "3        0.171689      0.007281         0.011468        0.005738   \n",
       "4        0.192022      0.013321         0.013391        0.006257   \n",
       "..            ...           ...              ...             ...   \n",
       "95       0.470928      0.021858         0.034917        0.007998   \n",
       "96       0.703978      0.049683         0.036441        0.007383   \n",
       "97       0.682678      0.027922         0.030723        0.007979   \n",
       "98       0.536696      0.029302         0.031343        0.006777   \n",
       "99       0.518728      0.016326         0.032524        0.002550   \n",
       "\n",
       "   param_min_samples_split param_min_samples_leaf param_max_features  \\\n",
       "0                        3                      1               0.33   \n",
       "1                        3                      3               sqrt   \n",
       "2                        2                      3               log2   \n",
       "3                        4                      3               sqrt   \n",
       "4                        3                      3               log2   \n",
       "..                     ...                    ...                ...   \n",
       "95                       5                      4               0.33   \n",
       "96                       2                      4               None   \n",
       "97                       4                      1               None   \n",
       "98                       3                      2               sqrt   \n",
       "99                       5                      4               0.33   \n",
       "\n",
       "   param_max_depth                                             params  \\\n",
       "0                7  {'min_samples_split': 3, 'min_samples_leaf': 1...   \n",
       "1                7  {'min_samples_split': 3, 'min_samples_leaf': 3...   \n",
       "2                2  {'min_samples_split': 2, 'min_samples_leaf': 3...   \n",
       "3                2  {'min_samples_split': 4, 'min_samples_leaf': 3...   \n",
       "4               10  {'min_samples_split': 3, 'min_samples_leaf': 3...   \n",
       "..             ...                                                ...   \n",
       "95               3  {'min_samples_split': 5, 'min_samples_leaf': 4...   \n",
       "96               7  {'min_samples_split': 2, 'min_samples_leaf': 4...   \n",
       "97            None  {'min_samples_split': 4, 'min_samples_leaf': 1...   \n",
       "98               7  {'min_samples_split': 3, 'min_samples_leaf': 2...   \n",
       "99            None  {'min_samples_split': 5, 'min_samples_leaf': 4...   \n",
       "\n",
       "    split0_test_score  ...  split3_test_score  split4_test_score  \\\n",
       "0                 1.0  ...           0.971698           0.990566   \n",
       "1                 1.0  ...           0.981132           0.990566   \n",
       "2                 1.0  ...           0.981132           0.990566   \n",
       "3                 1.0  ...           0.981132           0.981132   \n",
       "4                 1.0  ...           0.971698           0.990566   \n",
       "..                ...  ...                ...                ...   \n",
       "95                1.0  ...           0.981132           0.981132   \n",
       "96                1.0  ...           0.981132           1.000000   \n",
       "97                1.0  ...           0.981132           1.000000   \n",
       "98                1.0  ...           0.981132           0.990566   \n",
       "99                1.0  ...           0.971698           0.990566   \n",
       "\n",
       "    split5_test_score  split6_test_score  split7_test_score  \\\n",
       "0            0.990476           0.980952           0.980952   \n",
       "1            0.990476           0.980952           0.980952   \n",
       "2            0.990476           0.980952           0.980952   \n",
       "3            0.990476           0.980952           0.980952   \n",
       "4            0.990476           0.971429           0.980952   \n",
       "..                ...                ...                ...   \n",
       "95           0.990476           0.980952           0.980952   \n",
       "96           1.000000           0.980952           0.990476   \n",
       "97           0.990476           0.980952           0.990476   \n",
       "98           0.990476           0.980952           0.980952   \n",
       "99           0.990476           0.980952           0.980952   \n",
       "\n",
       "    split8_test_score  split9_test_score  mean_test_score  std_test_score  \\\n",
       "0            0.971429           0.980952         0.981986        0.008929   \n",
       "1            0.971429           0.980952         0.982929        0.008266   \n",
       "2            0.971429           0.980952         0.982929        0.008266   \n",
       "3            0.971429           0.980952         0.981986        0.007869   \n",
       "4            0.971429           0.980952         0.981033        0.009479   \n",
       "..                ...                ...              ...             ...   \n",
       "95           0.971429           0.980952         0.981986        0.007869   \n",
       "96           0.980952           0.990476         0.988625        0.009269   \n",
       "97           0.980952           0.990476         0.985786        0.010552   \n",
       "98           0.971429           0.980952         0.982929        0.008266   \n",
       "99           0.971429           0.980952         0.981986        0.008929   \n",
       "\n",
       "    rank_test_score  \n",
       "0                74  \n",
       "1                16  \n",
       "2                16  \n",
       "3                74  \n",
       "4                98  \n",
       "..              ...  \n",
       "95               74  \n",
       "96                1  \n",
       "97                7  \n",
       "98               16  \n",
       "99               74  \n",
       "\n",
       "[100 rows x 22 columns]"
      ]
     },
     "execution_count": 22,
     "metadata": {},
     "output_type": "execute_result"
    }
   ],
   "source": [
    "N_Divisoes = 10\n",
    "N_Iter = 100\n",
    "\n",
    "Espaco_de_Busca = {\n",
    "    \"max_depth\": [None, 2, 3, 5, 7, 10],\n",
    "    \"min_samples_split\": [2, 3, 4, 5],\n",
    "    \"min_samples_leaf\": [1, 2, 3, 4],\n",
    "    \"max_features\": [None, 0.33, \"sqrt\", \"log2\"],\n",
    "}\n",
    "\n",
    "Tipo = RandomForestClassifier()\n",
    "\n",
    "Buscador = RandomizedSearchCV(\n",
    "    Tipo,\n",
    "    Espaco_de_Busca,\n",
    "    n_iter= N_Iter,\n",
    "    cv= N_Divisoes,\n",
    "    scoring= \"accuracy\",\n",
    "    refit=True,# reajusta o melhor modelo com todos os dados de treino\n",
    "    error_score='raise',\n",
    "    n_jobs=4,\n",
    "   )\n",
    "\n",
    "Buscador.fit(Xtr, Ytr)\n",
    "\n",
    "Resultados = pd.DataFrame(Buscador.cv_results_)\n",
    "Resultados"
   ]
  },
  {
   "cell_type": "markdown",
   "id": "bd9c059f-d333-41e3-baf1-4147dccba978",
   "metadata": {},
   "source": [
    "informações sobre os melhores hiperparâmetros encontrados durante a busca aleatória.\n",
    "\n"
   ]
  },
  {
   "cell_type": "code",
   "execution_count": 23,
   "id": "13ccfe89-1161-4d45-856c-e91dfc3d2951",
   "metadata": {},
   "outputs": [
    {
     "name": "stdout",
     "output_type": "stream",
     "text": [
      "A melhor métrica para o dados de treino foi:  0.9886253369272238\n",
      "O Hiperparametros correspondentes são  {'min_samples_split': 3, 'min_samples_leaf': 4, 'max_features': None, 'max_depth': 5}\n"
     ]
    }
   ],
   "source": [
    "Hiperparametros = Buscador.best_params_\n",
    "print(\"A melhor métrica para o dados de treino foi: \", abs(Buscador.best_score_))\n",
    "print(\"O Hiperparametros correspondentes são \", Hiperparametros)"
   ]
  },
  {
   "cell_type": "markdown",
   "id": "342df647-393f-4862-828d-a2805d4c4d9c",
   "metadata": {},
   "source": [
    "Este trecho de código cria um novo modelo RandomForestClassifier utilizando os melhores hiperparâmetros encontrados durante a busca aleatória e o ajusta aos dados de treinamento.\n"
   ]
  },
  {
   "cell_type": "code",
   "execution_count": 47,
   "id": "d1163de7-fe8c-47f6-9306-2388defc7687",
   "metadata": {},
   "outputs": [
    {
     "data": {
      "text/html": [
       "<style>#sk-container-id-5 {color: black;background-color: white;}#sk-container-id-5 pre{padding: 0;}#sk-container-id-5 div.sk-toggleable {background-color: white;}#sk-container-id-5 label.sk-toggleable__label {cursor: pointer;display: block;width: 100%;margin-bottom: 0;padding: 0.3em;box-sizing: border-box;text-align: center;}#sk-container-id-5 label.sk-toggleable__label-arrow:before {content: \"▸\";float: left;margin-right: 0.25em;color: #696969;}#sk-container-id-5 label.sk-toggleable__label-arrow:hover:before {color: black;}#sk-container-id-5 div.sk-estimator:hover label.sk-toggleable__label-arrow:before {color: black;}#sk-container-id-5 div.sk-toggleable__content {max-height: 0;max-width: 0;overflow: hidden;text-align: left;background-color: #f0f8ff;}#sk-container-id-5 div.sk-toggleable__content pre {margin: 0.2em;color: black;border-radius: 0.25em;background-color: #f0f8ff;}#sk-container-id-5 input.sk-toggleable__control:checked~div.sk-toggleable__content {max-height: 200px;max-width: 100%;overflow: auto;}#sk-container-id-5 input.sk-toggleable__control:checked~label.sk-toggleable__label-arrow:before {content: \"▾\";}#sk-container-id-5 div.sk-estimator input.sk-toggleable__control:checked~label.sk-toggleable__label {background-color: #d4ebff;}#sk-container-id-5 div.sk-label input.sk-toggleable__control:checked~label.sk-toggleable__label {background-color: #d4ebff;}#sk-container-id-5 input.sk-hidden--visually {border: 0;clip: rect(1px 1px 1px 1px);clip: rect(1px, 1px, 1px, 1px);height: 1px;margin: -1px;overflow: hidden;padding: 0;position: absolute;width: 1px;}#sk-container-id-5 div.sk-estimator {font-family: monospace;background-color: #f0f8ff;border: 1px dotted black;border-radius: 0.25em;box-sizing: border-box;margin-bottom: 0.5em;}#sk-container-id-5 div.sk-estimator:hover {background-color: #d4ebff;}#sk-container-id-5 div.sk-parallel-item::after {content: \"\";width: 100%;border-bottom: 1px solid gray;flex-grow: 1;}#sk-container-id-5 div.sk-label:hover label.sk-toggleable__label {background-color: #d4ebff;}#sk-container-id-5 div.sk-serial::before {content: \"\";position: absolute;border-left: 1px solid gray;box-sizing: border-box;top: 0;bottom: 0;left: 50%;z-index: 0;}#sk-container-id-5 div.sk-serial {display: flex;flex-direction: column;align-items: center;background-color: white;padding-right: 0.2em;padding-left: 0.2em;position: relative;}#sk-container-id-5 div.sk-item {position: relative;z-index: 1;}#sk-container-id-5 div.sk-parallel {display: flex;align-items: stretch;justify-content: center;background-color: white;position: relative;}#sk-container-id-5 div.sk-item::before, #sk-container-id-5 div.sk-parallel-item::before {content: \"\";position: absolute;border-left: 1px solid gray;box-sizing: border-box;top: 0;bottom: 0;left: 50%;z-index: -1;}#sk-container-id-5 div.sk-parallel-item {display: flex;flex-direction: column;z-index: 1;position: relative;background-color: white;}#sk-container-id-5 div.sk-parallel-item:first-child::after {align-self: flex-end;width: 50%;}#sk-container-id-5 div.sk-parallel-item:last-child::after {align-self: flex-start;width: 50%;}#sk-container-id-5 div.sk-parallel-item:only-child::after {width: 0;}#sk-container-id-5 div.sk-dashed-wrapped {border: 1px dashed gray;margin: 0 0.4em 0.5em 0.4em;box-sizing: border-box;padding-bottom: 0.4em;background-color: white;}#sk-container-id-5 div.sk-label label {font-family: monospace;font-weight: bold;display: inline-block;line-height: 1.2em;}#sk-container-id-5 div.sk-label-container {text-align: center;}#sk-container-id-5 div.sk-container {/* jupyter's `normalize.less` sets `[hidden] { display: none; }` but bootstrap.min.css set `[hidden] { display: none !important; }` so we also need the `!important` here to be able to override the default hidden behavior on the sphinx rendered scikit-learn.org. See: https://github.com/scikit-learn/scikit-learn/issues/21755 */display: inline-block !important;position: relative;}#sk-container-id-5 div.sk-text-repr-fallback {display: none;}</style><div id=\"sk-container-id-5\" class=\"sk-top-container\"><div class=\"sk-text-repr-fallback\"><pre>RandomForestClassifier(max_depth=5, max_features=None, min_samples_leaf=4,\n",
       "                       min_samples_split=3)</pre><b>In a Jupyter environment, please rerun this cell to show the HTML representation or trust the notebook. <br />On GitHub, the HTML representation is unable to render, please try loading this page with nbviewer.org.</b></div><div class=\"sk-container\" hidden><div class=\"sk-item\"><div class=\"sk-estimator sk-toggleable\"><input class=\"sk-toggleable__control sk-hidden--visually\" id=\"sk-estimator-id-9\" type=\"checkbox\" checked><label for=\"sk-estimator-id-9\" class=\"sk-toggleable__label sk-toggleable__label-arrow\">RandomForestClassifier</label><div class=\"sk-toggleable__content\"><pre>RandomForestClassifier(max_depth=5, max_features=None, min_samples_leaf=4,\n",
       "                       min_samples_split=3)</pre></div></div></div></div></div>"
      ],
      "text/plain": [
       "RandomForestClassifier(max_depth=5, max_features=None, min_samples_leaf=4,\n",
       "                       min_samples_split=3)"
      ]
     },
     "execution_count": 47,
     "metadata": {},
     "output_type": "execute_result"
    }
   ],
   "source": [
    "Modelo_1 = RandomForestClassifier(min_samples_split = Hiperparametros.get(\"min_samples_split\"), min_samples_leaf = Hiperparametros.get(\"min_samples_leaf\"), max_features =Hiperparametros.get(\"max_features\"), max_depth = Hiperparametros.get(\"max_depth\"))\n",
    "Modelo_1.fit(Xtr,Ytr)"
   ]
  },
  {
   "cell_type": "markdown",
   "id": "3275186c-7f20-49af-96ed-a0d7d5e91e8e",
   "metadata": {},
   "source": [
    "utilizando o modelo RandomForestClassifier otimizado e, em seguida, é gerada uma matriz de confusão e exibido um mapa de calor."
   ]
  },
  {
   "cell_type": "code",
   "execution_count": 49,
   "id": "c469a227-c18e-4ec4-b8c8-997296bfdc62",
   "metadata": {},
   "outputs": [
    {
     "data": {
      "text/plain": [
       "<AxesSubplot: >"
      ]
     },
     "execution_count": 49,
     "metadata": {},
     "output_type": "execute_result"
    },
    {
     "data": {
      "image/png": "[encoded data removed]",
      "text/plain": [
       "<Figure size 640x480 with 2 Axes>"
      ]
     },
     "metadata": {},
     "output_type": "display_data"
    }
   ],
   "source": [
    "Y_Previsto = Modelo_1.predict(Xts)\n",
    "\n",
    "Matriz_Conf = confusion_matrix(Yts,Y_Previsto)\n",
    "\n",
    "Data_conf = pd.DataFrame(Matriz_Conf)\n",
    "\n",
    "sns.heatmap(Data_conf, annot=True, annot_kws={\"size\": 16})"
   ]
  },
  {
   "cell_type": "code",
   "execution_count": 50,
   "id": "e152a578-2f13-404d-9f4c-137e2cf8b448",
   "metadata": {},
   "outputs": [
    {
     "data": {
      "text/plain": [
       "0.9962121212121212"
      ]
     },
     "execution_count": 50,
     "metadata": {},
     "output_type": "execute_result"
    }
   ],
   "source": [
    "accuracy_score(Yts, Y_Previsto, normalize=True)"
   ]
  },
  {
   "cell_type": "markdown",
   "id": "41b78b3a-434e-4023-93a1-422d48b19cfe",
   "metadata": {},
   "source": [
    "A acuracia desse modelo é alta e maior que a do baseline"
   ]
  },
  {
   "cell_type": "markdown",
   "id": "bbb05940-823d-45d7-9781-947ae9d744a9",
   "metadata": {},
   "source": [
    "## Importancia de cada atributo"
   ]
  },
  {
   "cell_type": "code",
   "execution_count": 68,
   "id": "4bc55470-dc22-41b8-831b-23aed446ce46",
   "metadata": {},
   "outputs": [
    {
     "data": {
      "image/png": "[encoded data removed]",
      "text/plain": [
       "<Figure size 640x480 with 1 Axes>"
      ]
     },
     "metadata": {},
     "output_type": "display_data"
    }
   ],
   "source": [
    "importancia = Modelo_1.feature_importances_\n",
    "desvio_padrao = np.std(\n",
    "    [arvore.feature_importances_ for arvore in Modelo_1.estimators_], axis=0\n",
    ")\n",
    "\n",
    "serie_importancia = pd.Series(importancia, index=Xtr.columns)\n",
    "\n",
    "fig, axe = plt.subplots()\n",
    "serie_importancia.plot.bar(yerr=desvio_padrao, ax=axe)\n",
    "axe.set_ylabel(\"Importância relativa\")\n",
    "plt.show()"
   ]
  },
  {
   "cell_type": "markdown",
   "id": "c007021d-50b8-4da0-8fad-344faa2da966",
   "metadata": {
    "tags": []
   },
   "source": [
    "# Regressão Logística"
   ]
  },
  {
   "cell_type": "markdown",
   "id": "d2e7e79d-a389-464c-b2c0-52b2287124d3",
   "metadata": {},
   "source": [
    "Foi criado e treinado um modelo de Regressão Logística.\n"
   ]
  },
  {
   "cell_type": "code",
   "execution_count": 52,
   "id": "4ef3fdb7-c8ae-4bf0-ab25-3fb24da490c9",
   "metadata": {},
   "outputs": [
    {
     "data": {
      "text/html": [
       "<style>#sk-container-id-7 {color: black;background-color: white;}#sk-container-id-7 pre{padding: 0;}#sk-container-id-7 div.sk-toggleable {background-color: white;}#sk-container-id-7 label.sk-toggleable__label {cursor: pointer;display: block;width: 100%;margin-bottom: 0;padding: 0.3em;box-sizing: border-box;text-align: center;}#sk-container-id-7 label.sk-toggleable__label-arrow:before {content: \"▸\";float: left;margin-right: 0.25em;color: #696969;}#sk-container-id-7 label.sk-toggleable__label-arrow:hover:before {color: black;}#sk-container-id-7 div.sk-estimator:hover label.sk-toggleable__label-arrow:before {color: black;}#sk-container-id-7 div.sk-toggleable__content {max-height: 0;max-width: 0;overflow: hidden;text-align: left;background-color: #f0f8ff;}#sk-container-id-7 div.sk-toggleable__content pre {margin: 0.2em;color: black;border-radius: 0.25em;background-color: #f0f8ff;}#sk-container-id-7 input.sk-toggleable__control:checked~div.sk-toggleable__content {max-height: 200px;max-width: 100%;overflow: auto;}#sk-container-id-7 input.sk-toggleable__control:checked~label.sk-toggleable__label-arrow:before {content: \"▾\";}#sk-container-id-7 div.sk-estimator input.sk-toggleable__control:checked~label.sk-toggleable__label {background-color: #d4ebff;}#sk-container-id-7 div.sk-label input.sk-toggleable__control:checked~label.sk-toggleable__label {background-color: #d4ebff;}#sk-container-id-7 input.sk-hidden--visually {border: 0;clip: rect(1px 1px 1px 1px);clip: rect(1px, 1px, 1px, 1px);height: 1px;margin: -1px;overflow: hidden;padding: 0;position: absolute;width: 1px;}#sk-container-id-7 div.sk-estimator {font-family: monospace;background-color: #f0f8ff;border: 1px dotted black;border-radius: 0.25em;box-sizing: border-box;margin-bottom: 0.5em;}#sk-container-id-7 div.sk-estimator:hover {background-color: #d4ebff;}#sk-container-id-7 div.sk-parallel-item::after {content: \"\";width: 100%;border-bottom: 1px solid gray;flex-grow: 1;}#sk-container-id-7 div.sk-label:hover label.sk-toggleable__label {background-color: #d4ebff;}#sk-container-id-7 div.sk-serial::before {content: \"\";position: absolute;border-left: 1px solid gray;box-sizing: border-box;top: 0;bottom: 0;left: 50%;z-index: 0;}#sk-container-id-7 div.sk-serial {display: flex;flex-direction: column;align-items: center;background-color: white;padding-right: 0.2em;padding-left: 0.2em;position: relative;}#sk-container-id-7 div.sk-item {position: relative;z-index: 1;}#sk-container-id-7 div.sk-parallel {display: flex;align-items: stretch;justify-content: center;background-color: white;position: relative;}#sk-container-id-7 div.sk-item::before, #sk-container-id-7 div.sk-parallel-item::before {content: \"\";position: absolute;border-left: 1px solid gray;box-sizing: border-box;top: 0;bottom: 0;left: 50%;z-index: -1;}#sk-container-id-7 div.sk-parallel-item {display: flex;flex-direction: column;z-index: 1;position: relative;background-color: white;}#sk-container-id-7 div.sk-parallel-item:first-child::after {align-self: flex-end;width: 50%;}#sk-container-id-7 div.sk-parallel-item:last-child::after {align-self: flex-start;width: 50%;}#sk-container-id-7 div.sk-parallel-item:only-child::after {width: 0;}#sk-container-id-7 div.sk-dashed-wrapped {border: 1px dashed gray;margin: 0 0.4em 0.5em 0.4em;box-sizing: border-box;padding-bottom: 0.4em;background-color: white;}#sk-container-id-7 div.sk-label label {font-family: monospace;font-weight: bold;display: inline-block;line-height: 1.2em;}#sk-container-id-7 div.sk-label-container {text-align: center;}#sk-container-id-7 div.sk-container {/* jupyter's `normalize.less` sets `[hidden] { display: none; }` but bootstrap.min.css set `[hidden] { display: none !important; }` so we also need the `!important` here to be able to override the default hidden behavior on the sphinx rendered scikit-learn.org. See: https://github.com/scikit-learn/scikit-learn/issues/21755 */display: inline-block !important;position: relative;}#sk-container-id-7 div.sk-text-repr-fallback {display: none;}</style><div id=\"sk-container-id-7\" class=\"sk-top-container\"><div class=\"sk-text-repr-fallback\"><pre>LogisticRegression(max_iter=1000)</pre><b>In a Jupyter environment, please rerun this cell to show the HTML representation or trust the notebook. <br />On GitHub, the HTML representation is unable to render, please try loading this page with nbviewer.org.</b></div><div class=\"sk-container\" hidden><div class=\"sk-item\"><div class=\"sk-estimator sk-toggleable\"><input class=\"sk-toggleable__control sk-hidden--visually\" id=\"sk-estimator-id-11\" type=\"checkbox\" checked><label for=\"sk-estimator-id-11\" class=\"sk-toggleable__label sk-toggleable__label-arrow\">LogisticRegression</label><div class=\"sk-toggleable__content\"><pre>LogisticRegression(max_iter=1000)</pre></div></div></div></div></div>"
      ],
      "text/plain": [
       "LogisticRegression(max_iter=1000)"
      ]
     },
     "execution_count": 52,
     "metadata": {},
     "output_type": "execute_result"
    }
   ],
   "source": [
    "Modelo_lr = LogisticRegression(max_iter=1000)\n",
    "\n",
    "Modelo_lr.fit(Xtr,Ytr)\n"
   ]
  },
  {
   "cell_type": "markdown",
   "id": "823dbf1b-b337-4a88-adf8-5d1be733bf79",
   "metadata": {},
   "source": [
    "São realizadas previsões utilizando o modelo de Regressão Logística treinado, e em seguida, é gerada uma matriz de confusão e exibido um mapa de calor.\n",
    "\n",
    "1. `y_verdadeiro`: Representa os rótulos reais dos dados de teste (Yts).\n",
    "2. `y_previsao`: Gera previsões utilizando o modelo de Regressão Logística nos dados de teste (Xts).\n",
    "3. `matriz_conf`: Calcula a matriz de confusão comparando as previsões (`y_previsao`) com os rótulos reais (`y_verdadeiro`).\n",
    "4. `df_conf`: Converte a matriz de confusão em um DataFrame para facilitar a visualização."
   ]
  },
  {
   "cell_type": "code",
   "execution_count": 53,
   "id": "a3be1988-44b7-40e0-9f9c-7aaa245b6427",
   "metadata": {},
   "outputs": [
    {
     "data": {
      "text/plain": [
       "<AxesSubplot: >"
      ]
     },
     "execution_count": 53,
     "metadata": {},
     "output_type": "execute_result"
    },
    {
     "data": {
      "image/png": "[encoded data removed]",
      "text/plain": [
       "<Figure size 640x480 with 2 Axes>"
      ]
     },
     "metadata": {},
     "output_type": "display_data"
    }
   ],
   "source": [
    "y_verdadeiro = Yts\n",
    "y_previsao = modelo_lr.predict(Xts)\n",
    "\n",
    "matriz_conf = confusion_matrix(y_verdadeiro, y_previsao)\n",
    "\n",
    "df_conf = pd.DataFrame(matriz_conf)\n",
    "\n",
    "sns.heatmap(df_conf, annot=True, annot_kws={\"size\": 16})"
   ]
  },
  {
   "cell_type": "code",
   "execution_count": 54,
   "id": "5f440cc7-0d0c-4e5b-8ef7-1a77e107bb76",
   "metadata": {},
   "outputs": [
    {
     "data": {
      "text/plain": [
       "0.8143939393939394"
      ]
     },
     "execution_count": 54,
     "metadata": {},
     "output_type": "execute_result"
    }
   ],
   "source": [
    "accuracy_score(Yts, y_previsao, normalize=True)"
   ]
  },
  {
   "cell_type": "markdown",
   "id": "9876a6c5-38a6-4eec-a270-9a3b3ec6d96b",
   "metadata": {},
   "source": [
    "A acuracia desse modelo esta é melhor quando comparada ao baseline, mas pior que a floresta aleatória "
   ]
  },
  {
   "cell_type": "markdown",
   "id": "88552b44-3889-497d-99cc-33966a0b0de6",
   "metadata": {},
   "source": [
    "# PCA"
   ]
  },
  {
   "cell_type": "markdown",
   "id": "db816716-bcc8-4251-8e2f-38d3073f8fb0",
   "metadata": {},
   "source": [
    "Dataframe usado para o PCA"
   ]
  },
  {
   "cell_type": "code",
   "execution_count": 30,
   "id": "c75e3f7d-612f-4c79-9d3a-2fefedbd173a",
   "metadata": {},
   "outputs": [
    {
     "data": {
      "text/html": [
       "<div>\n",
       "<style scoped>\n",
       "    .dataframe tbody tr th:only-of-type {\n",
       "        vertical-align: middle;\n",
       "    }\n",
       "\n",
       "    .dataframe tbody tr th {\n",
       "        vertical-align: top;\n",
       "    }\n",
       "\n",
       "    .dataframe thead th {\n",
       "        text-align: right;\n",
       "    }\n",
       "</style>\n",
       "<table border=\"1\" class=\"dataframe\">\n",
       "  <thead>\n",
       "    <tr style=\"text-align: right;\">\n",
       "      <th></th>\n",
       "      <th>Idade</th>\n",
       "      <th>Mulher</th>\n",
       "      <th>Homem</th>\n",
       "      <th>Impulso</th>\n",
       "      <th>Pressão Mâxima</th>\n",
       "      <th>Pressão Mínima</th>\n",
       "      <th>Glicose</th>\n",
       "      <th>CK-MB</th>\n",
       "      <th>Troponina</th>\n",
       "    </tr>\n",
       "  </thead>\n",
       "  <tbody>\n",
       "    <tr>\n",
       "      <th>625</th>\n",
       "      <td>42</td>\n",
       "      <td>0.0</td>\n",
       "      <td>1.0</td>\n",
       "      <td>89</td>\n",
       "      <td>111</td>\n",
       "      <td>52</td>\n",
       "      <td>106.0</td>\n",
       "      <td>6.48</td>\n",
       "      <td>0.003</td>\n",
       "    </tr>\n",
       "    <tr>\n",
       "      <th>924</th>\n",
       "      <td>73</td>\n",
       "      <td>1.0</td>\n",
       "      <td>0.0</td>\n",
       "      <td>90</td>\n",
       "      <td>95</td>\n",
       "      <td>50</td>\n",
       "      <td>98.0</td>\n",
       "      <td>300.00</td>\n",
       "      <td>0.015</td>\n",
       "    </tr>\n",
       "    <tr>\n",
       "      <th>772</th>\n",
       "      <td>50</td>\n",
       "      <td>1.0</td>\n",
       "      <td>0.0</td>\n",
       "      <td>88</td>\n",
       "      <td>110</td>\n",
       "      <td>70</td>\n",
       "      <td>109.0</td>\n",
       "      <td>3.85</td>\n",
       "      <td>0.003</td>\n",
       "    </tr>\n",
       "    <tr>\n",
       "      <th>855</th>\n",
       "      <td>65</td>\n",
       "      <td>0.0</td>\n",
       "      <td>1.0</td>\n",
       "      <td>67</td>\n",
       "      <td>177</td>\n",
       "      <td>105</td>\n",
       "      <td>120.0</td>\n",
       "      <td>3.68</td>\n",
       "      <td>0.011</td>\n",
       "    </tr>\n",
       "    <tr>\n",
       "      <th>425</th>\n",
       "      <td>60</td>\n",
       "      <td>1.0</td>\n",
       "      <td>0.0</td>\n",
       "      <td>60</td>\n",
       "      <td>106</td>\n",
       "      <td>73</td>\n",
       "      <td>134.0</td>\n",
       "      <td>2.82</td>\n",
       "      <td>0.009</td>\n",
       "    </tr>\n",
       "    <tr>\n",
       "      <th>...</th>\n",
       "      <td>...</td>\n",
       "      <td>...</td>\n",
       "      <td>...</td>\n",
       "      <td>...</td>\n",
       "      <td>...</td>\n",
       "      <td>...</td>\n",
       "      <td>...</td>\n",
       "      <td>...</td>\n",
       "      <td>...</td>\n",
       "    </tr>\n",
       "    <tr>\n",
       "      <th>1122</th>\n",
       "      <td>63</td>\n",
       "      <td>0.0</td>\n",
       "      <td>1.0</td>\n",
       "      <td>81</td>\n",
       "      <td>150</td>\n",
       "      <td>51</td>\n",
       "      <td>195.0</td>\n",
       "      <td>5.57</td>\n",
       "      <td>0.005</td>\n",
       "    </tr>\n",
       "    <tr>\n",
       "      <th>197</th>\n",
       "      <td>51</td>\n",
       "      <td>1.0</td>\n",
       "      <td>0.0</td>\n",
       "      <td>70</td>\n",
       "      <td>140</td>\n",
       "      <td>90</td>\n",
       "      <td>150.0</td>\n",
       "      <td>1.81</td>\n",
       "      <td>0.013</td>\n",
       "    </tr>\n",
       "    <tr>\n",
       "      <th>113</th>\n",
       "      <td>57</td>\n",
       "      <td>0.0</td>\n",
       "      <td>1.0</td>\n",
       "      <td>88</td>\n",
       "      <td>110</td>\n",
       "      <td>70</td>\n",
       "      <td>83.0</td>\n",
       "      <td>40.99</td>\n",
       "      <td>7.670</td>\n",
       "    </tr>\n",
       "    <tr>\n",
       "      <th>763</th>\n",
       "      <td>70</td>\n",
       "      <td>0.0</td>\n",
       "      <td>1.0</td>\n",
       "      <td>87</td>\n",
       "      <td>148</td>\n",
       "      <td>89</td>\n",
       "      <td>142.0</td>\n",
       "      <td>32.77</td>\n",
       "      <td>2.060</td>\n",
       "    </tr>\n",
       "    <tr>\n",
       "      <th>1174</th>\n",
       "      <td>37</td>\n",
       "      <td>1.0</td>\n",
       "      <td>0.0</td>\n",
       "      <td>83</td>\n",
       "      <td>102</td>\n",
       "      <td>68</td>\n",
       "      <td>104.0</td>\n",
       "      <td>1.35</td>\n",
       "      <td>0.007</td>\n",
       "    </tr>\n",
       "  </tbody>\n",
       "</table>\n",
       "<p>1055 rows × 9 columns</p>\n",
       "</div>"
      ],
      "text/plain": [
       "      Idade  Mulher  Homem  Impulso  Pressão Mâxima  Pressão Mínima  Glicose  \\\n",
       "625      42     0.0    1.0       89             111              52    106.0   \n",
       "924      73     1.0    0.0       90              95              50     98.0   \n",
       "772      50     1.0    0.0       88             110              70    109.0   \n",
       "855      65     0.0    1.0       67             177             105    120.0   \n",
       "425      60     1.0    0.0       60             106              73    134.0   \n",
       "...     ...     ...    ...      ...             ...             ...      ...   \n",
       "1122     63     0.0    1.0       81             150              51    195.0   \n",
       "197      51     1.0    0.0       70             140              90    150.0   \n",
       "113      57     0.0    1.0       88             110              70     83.0   \n",
       "763      70     0.0    1.0       87             148              89    142.0   \n",
       "1174     37     1.0    0.0       83             102              68    104.0   \n",
       "\n",
       "       CK-MB  Troponina  \n",
       "625     6.48      0.003  \n",
       "924   300.00      0.015  \n",
       "772     3.85      0.003  \n",
       "855     3.68      0.011  \n",
       "425     2.82      0.009  \n",
       "...      ...        ...  \n",
       "1122    5.57      0.005  \n",
       "197     1.81      0.013  \n",
       "113    40.99      7.670  \n",
       "763    32.77      2.060  \n",
       "1174    1.35      0.007  \n",
       "\n",
       "[1055 rows x 9 columns]"
      ]
     },
     "execution_count": 30,
     "metadata": {},
     "output_type": "execute_result"
    }
   ],
   "source": [
    "Xtr"
   ]
  },
  {
   "cell_type": "markdown",
   "id": "8c9085ae-584b-4482-8eef-009ed2b2a789",
   "metadata": {},
   "source": [
    "Foi realizado uma análise de Componentes Principais (PCA) nos dados de treinamento.\n",
    "\n",
    "1. `pca`: Instancia um objeto PCA (Análise de Componentes Principais).\n",
    "2. `pca.fit(Xtr)`: Ajusta o PCA aos dados de treinamento (features - Xtr).\n",
    "\n",
    "Os resultados da análise são então impressos:\n",
    "\n",
    "3. `autovalores`: Armazena os autovalores da matriz de covariância calculada pelo PCA.\n",
    "4. `autovetores`: Armazena os autovetores correspondentes aos autovalores calculados.\n",
    "5. `variancia_explicada`: Armazena a proporção da variância explicada por cada componente principal.\n"
   ]
  },
  {
   "cell_type": "code",
   "execution_count": 31,
   "id": "2baeb6b0-8cac-4edd-b046-e01c03058f0f",
   "metadata": {},
   "outputs": [
    {
     "name": "stdout",
     "output_type": "stream",
     "text": [
      "[5.79585127e+03 3.27853960e+03 2.21629510e+03 7.67384745e+02\n",
      " 1.87416606e+02 1.17438164e+02 1.36777671e+00 4.39510040e-01\n",
      " 2.09067451e-31]\n",
      "\n",
      "[4.68740520e-01 2.65152484e-01 1.79243267e-01 6.20623801e-02\n",
      " 1.51573519e-02 9.49783272e-03 1.10619189e-04 3.55454540e-05\n",
      " 1.69083679e-35]\n",
      "\n",
      "[[-3.48816966e-03 -5.87617109e-03  1.88994476e-03  1.40589953e-02\n",
      "   9.99235576e-01  3.46011818e-02 -7.38601362e-03 -5.34277374e-03\n",
      "   0.00000000e+00]\n",
      " [-7.81042971e-05  2.91064446e-04 -2.00862123e-04 -2.42462515e-04\n",
      "   3.48540304e-03  1.79869752e-03 -3.17220626e-02  7.06383846e-01\n",
      "  -7.07106781e-01]\n",
      " [ 7.81042971e-05 -2.91064446e-04  2.00862123e-04  2.42462515e-04\n",
      "  -3.48540304e-03 -1.79869752e-03  3.17220626e-02 -7.06383846e-01\n",
      "  -7.07106781e-01]\n",
      " [-4.39330894e-02  9.98079267e-01  2.86586166e-02 -2.07080323e-02\n",
      "   6.80618075e-03 -2.47190641e-02 -1.15331806e-04 -3.90892248e-04\n",
      "   1.03179679e-16]\n",
      " [ 1.03327799e-02  1.17412322e-02 -1.69834273e-02  9.36814225e-01\n",
      "  -9.55621221e-04 -3.49060451e-01 -7.48525237e-04  1.17296102e-03\n",
      "   7.86294296e-17]\n",
      " [-5.33155632e-03  3.07434766e-02 -1.10453148e-02  3.48226072e-01\n",
      "  -3.71516332e-02  9.36085764e-01 -1.25598201e-03 -2.15356091e-03\n",
      "   1.10972162e-16]\n",
      " [ 9.98323170e-01  4.48931713e-02 -3.43125192e-02 -9.41498492e-03\n",
      "   3.68415529e-03  7.45465671e-03 -5.61053703e-04  1.65412018e-05\n",
      "   3.52821805e-17]\n",
      " [ 3.56806079e-02 -2.65449048e-02  9.98792684e-01  2.00252878e-02\n",
      "  -2.38028640e-03  5.31790320e-03  6.07880280e-04  3.31267855e-04\n",
      "  -7.48780481e-18]\n",
      " [ 5.04197678e-04  1.79086047e-04 -6.49134088e-04  1.20845968e-03\n",
      "   7.56625274e-03  1.28353596e-03  9.98964480e-01  4.48207921e-02\n",
      "  -5.34268779e-16]]\n"
     ]
    }
   ],
   "source": [
    "pca = PCA()\n",
    "pca.fit(Xtr)\n",
    "\n",
    "autovalores = pca.explained_variance_\n",
    "autovetores = pca.components_.T\n",
    "\n",
    "variancia_explicada = pca.explained_variance_ratio_\n",
    "\n",
    "print(autovalores)\n",
    "print()\n",
    "print(variancia_explicada)\n",
    "print()\n",
    "print(autovetores)"
   ]
  },
  {
   "cell_type": "code",
   "execution_count": 32,
   "id": "9ac7128b-8c9d-4372-b87b-e5c276a763ba",
   "metadata": {},
   "outputs": [
    {
     "data": {
      "text/plain": [
       "1.0    167\n",
       "0.0     97\n",
       "Name: Infarto, dtype: int64"
      ]
     },
     "execution_count": 32,
     "metadata": {},
     "output_type": "execute_result"
    }
   ],
   "source": [
    "contagem_opcoes = Yts.value_counts()\n",
    "contagem_opcoes"
   ]
  },
  {
   "cell_type": "markdown",
   "id": "d1d7bc50-bb31-4a8f-8bac-2330f0ff0463",
   "metadata": {},
   "source": [
    "São gerados gráficos para visualizar a variância explicada e a variância acumulada das Componentes Principais (PCAs) nos dados de treinamento.\n"
   ]
  },
  {
   "cell_type": "code",
   "execution_count": 33,
   "id": "3594443b-9b6c-4123-8d3d-d2587c0f9e6b",
   "metadata": {},
   "outputs": [
    {
     "data": {
      "text/plain": [
       "[None]"
      ]
     },
     "execution_count": 33,
     "metadata": {},
     "output_type": "execute_result"
    },
    {
     "data": {
      "image/png": "[encoded data removed]",
      "text/plain": [
       "<Figure size 800x480 with 2 Axes>"
      ]
     },
     "metadata": {},
     "output_type": "display_data"
    }
   ],
   "source": [
    "# Código abaixo baseado no notebook de PCA escrito pelo Prof. James de Almeida\n",
    "\n",
    "id_componentes = np.arange(1, pca.n_components_ + 1)\n",
    "\n",
    "figura, eixos = plt.subplots(1, 2)\n",
    "\n",
    "# Plot variância explicada\n",
    "eixos[0].bar(id_componentes, variancia_explicada)\n",
    "eixos[0].set(xlabel=\"Componente\", title=\"Variância explicada\", ylim=(0.0, 1.0))\n",
    "\n",
    "# Plot variância acumulada\n",
    "cv = np.cumsum(pca.explained_variance_ratio_)\n",
    "eixos[1].plot(np.r_[0, id_componentes], np.r_[0, cv], marker=\"o\")\n",
    "eixos[1].set(\n",
    "    xlabel=\"Número de componentes\",\n",
    "    title=\"Variância acumulada\",\n",
    "    ylim=(0.0, 1.0),\n",
    ")\n",
    "eixos[1].axhline(0.9, linestyle=\"--\", color=\"red\")\n",
    "\n",
    "figura.set(figwidth=8)"
   ]
  },
  {
   "cell_type": "markdown",
   "id": "b48e70a9-25de-4a03-bc96-84ce8cb7f9dc",
   "metadata": {},
   "source": [
    "É criado um modelo composto por um pipeline que inclui a redução de dimensionalidade usando o método de Análise de Componentes Principais (PCA) com um número específico de componentes e um modelo de Regressão Logística.\n",
    "\n",
    "1. `NUM_COMPONENTES`: Define o número desejado de componentes principais para o PCA, neste caso, 5 componentes.\n",
    "2. `modelopca`: Cria um pipeline utilizando `make_pipeline`:\n",
    "    - `PCA(NUM_COMPONENTES)`: Reduz a dimensionalidade dos dados para o número especificado de componentes principais.\n",
    "    - `LogisticRegression()`: Adiciona um modelo de Regressão Logística ao pipeline.\n"
   ]
  },
  {
   "cell_type": "code",
   "execution_count": 34,
   "id": "70ca2bf6-2481-41b8-a3b7-e8a7a333eb15",
   "metadata": {},
   "outputs": [],
   "source": [
    "NUM_COMPONENTES = 5\n",
    "\n",
    "modelopca = make_pipeline(\n",
    "    PCA(NUM_COMPONENTES),\n",
    "    LogisticRegression(),\n",
    ")\n",
    "modelopca_2 = make_pipeline(\n",
    "    PCA(NUM_COMPONENTES),\n",
    "    TESTE,\n",
    ")"
   ]
  },
  {
   "cell_type": "markdown",
   "id": "a1b68dbe-d824-4619-ad92-56718ce174c4",
   "metadata": {},
   "source": [
    "treino do modelo"
   ]
  },
  {
   "cell_type": "code",
   "execution_count": 35,
   "id": "ba59b383-a8a5-45b2-8ad6-eb8d26f6e621",
   "metadata": {},
   "outputs": [
    {
     "data": {
      "text/html": [
       "<style>#sk-container-id-3 {color: black;background-color: white;}#sk-container-id-3 pre{padding: 0;}#sk-container-id-3 div.sk-toggleable {background-color: white;}#sk-container-id-3 label.sk-toggleable__label {cursor: pointer;display: block;width: 100%;margin-bottom: 0;padding: 0.3em;box-sizing: border-box;text-align: center;}#sk-container-id-3 label.sk-toggleable__label-arrow:before {content: \"▸\";float: left;margin-right: 0.25em;color: #696969;}#sk-container-id-3 label.sk-toggleable__label-arrow:hover:before {color: black;}#sk-container-id-3 div.sk-estimator:hover label.sk-toggleable__label-arrow:before {color: black;}#sk-container-id-3 div.sk-toggleable__content {max-height: 0;max-width: 0;overflow: hidden;text-align: left;background-color: #f0f8ff;}#sk-container-id-3 div.sk-toggleable__content pre {margin: 0.2em;color: black;border-radius: 0.25em;background-color: #f0f8ff;}#sk-container-id-3 input.sk-toggleable__control:checked~div.sk-toggleable__content {max-height: 200px;max-width: 100%;overflow: auto;}#sk-container-id-3 input.sk-toggleable__control:checked~label.sk-toggleable__label-arrow:before {content: \"▾\";}#sk-container-id-3 div.sk-estimator input.sk-toggleable__control:checked~label.sk-toggleable__label {background-color: #d4ebff;}#sk-container-id-3 div.sk-label input.sk-toggleable__control:checked~label.sk-toggleable__label {background-color: #d4ebff;}#sk-container-id-3 input.sk-hidden--visually {border: 0;clip: rect(1px 1px 1px 1px);clip: rect(1px, 1px, 1px, 1px);height: 1px;margin: -1px;overflow: hidden;padding: 0;position: absolute;width: 1px;}#sk-container-id-3 div.sk-estimator {font-family: monospace;background-color: #f0f8ff;border: 1px dotted black;border-radius: 0.25em;box-sizing: border-box;margin-bottom: 0.5em;}#sk-container-id-3 div.sk-estimator:hover {background-color: #d4ebff;}#sk-container-id-3 div.sk-parallel-item::after {content: \"\";width: 100%;border-bottom: 1px solid gray;flex-grow: 1;}#sk-container-id-3 div.sk-label:hover label.sk-toggleable__label {background-color: #d4ebff;}#sk-container-id-3 div.sk-serial::before {content: \"\";position: absolute;border-left: 1px solid gray;box-sizing: border-box;top: 0;bottom: 0;left: 50%;z-index: 0;}#sk-container-id-3 div.sk-serial {display: flex;flex-direction: column;align-items: center;background-color: white;padding-right: 0.2em;padding-left: 0.2em;position: relative;}#sk-container-id-3 div.sk-item {position: relative;z-index: 1;}#sk-container-id-3 div.sk-parallel {display: flex;align-items: stretch;justify-content: center;background-color: white;position: relative;}#sk-container-id-3 div.sk-item::before, #sk-container-id-3 div.sk-parallel-item::before {content: \"\";position: absolute;border-left: 1px solid gray;box-sizing: border-box;top: 0;bottom: 0;left: 50%;z-index: -1;}#sk-container-id-3 div.sk-parallel-item {display: flex;flex-direction: column;z-index: 1;position: relative;background-color: white;}#sk-container-id-3 div.sk-parallel-item:first-child::after {align-self: flex-end;width: 50%;}#sk-container-id-3 div.sk-parallel-item:last-child::after {align-self: flex-start;width: 50%;}#sk-container-id-3 div.sk-parallel-item:only-child::after {width: 0;}#sk-container-id-3 div.sk-dashed-wrapped {border: 1px dashed gray;margin: 0 0.4em 0.5em 0.4em;box-sizing: border-box;padding-bottom: 0.4em;background-color: white;}#sk-container-id-3 div.sk-label label {font-family: monospace;font-weight: bold;display: inline-block;line-height: 1.2em;}#sk-container-id-3 div.sk-label-container {text-align: center;}#sk-container-id-3 div.sk-container {/* jupyter's `normalize.less` sets `[hidden] { display: none; }` but bootstrap.min.css set `[hidden] { display: none !important; }` so we also need the `!important` here to be able to override the default hidden behavior on the sphinx rendered scikit-learn.org. See: https://github.com/scikit-learn/scikit-learn/issues/21755 */display: inline-block !important;position: relative;}#sk-container-id-3 div.sk-text-repr-fallback {display: none;}</style><div id=\"sk-container-id-3\" class=\"sk-top-container\"><div class=\"sk-text-repr-fallback\"><pre>Pipeline(steps=[(&#x27;pca&#x27;, PCA(n_components=5)),\n",
       "                (&#x27;logisticregression&#x27;, LogisticRegression())])</pre><b>In a Jupyter environment, please rerun this cell to show the HTML representation or trust the notebook. <br />On GitHub, the HTML representation is unable to render, please try loading this page with nbviewer.org.</b></div><div class=\"sk-container\" hidden><div class=\"sk-item sk-dashed-wrapped\"><div class=\"sk-label-container\"><div class=\"sk-label sk-toggleable\"><input class=\"sk-toggleable__control sk-hidden--visually\" id=\"sk-estimator-id-3\" type=\"checkbox\" ><label for=\"sk-estimator-id-3\" class=\"sk-toggleable__label sk-toggleable__label-arrow\">Pipeline</label><div class=\"sk-toggleable__content\"><pre>Pipeline(steps=[(&#x27;pca&#x27;, PCA(n_components=5)),\n",
       "                (&#x27;logisticregression&#x27;, LogisticRegression())])</pre></div></div></div><div class=\"sk-serial\"><div class=\"sk-item\"><div class=\"sk-estimator sk-toggleable\"><input class=\"sk-toggleable__control sk-hidden--visually\" id=\"sk-estimator-id-4\" type=\"checkbox\" ><label for=\"sk-estimator-id-4\" class=\"sk-toggleable__label sk-toggleable__label-arrow\">PCA</label><div class=\"sk-toggleable__content\"><pre>PCA(n_components=5)</pre></div></div></div><div class=\"sk-item\"><div class=\"sk-estimator sk-toggleable\"><input class=\"sk-toggleable__control sk-hidden--visually\" id=\"sk-estimator-id-5\" type=\"checkbox\" ><label for=\"sk-estimator-id-5\" class=\"sk-toggleable__label sk-toggleable__label-arrow\">LogisticRegression</label><div class=\"sk-toggleable__content\"><pre>LogisticRegression()</pre></div></div></div></div></div></div></div>"
      ],
      "text/plain": [
       "Pipeline(steps=[('pca', PCA(n_components=5)),\n",
       "                ('logisticregression', LogisticRegression())])"
      ]
     },
     "execution_count": 35,
     "metadata": {},
     "output_type": "execute_result"
    }
   ],
   "source": [
    "modelopca.fit(Xtr,Ytr)"
   ]
  },
  {
   "cell_type": "code",
   "execution_count": 36,
   "id": "1a080f51-9167-4a3e-ba40-f6d372089aef",
   "metadata": {},
   "outputs": [
    {
     "data": {
      "text/html": [
       "<style>#sk-container-id-4 {color: black;background-color: white;}#sk-container-id-4 pre{padding: 0;}#sk-container-id-4 div.sk-toggleable {background-color: white;}#sk-container-id-4 label.sk-toggleable__label {cursor: pointer;display: block;width: 100%;margin-bottom: 0;padding: 0.3em;box-sizing: border-box;text-align: center;}#sk-container-id-4 label.sk-toggleable__label-arrow:before {content: \"▸\";float: left;margin-right: 0.25em;color: #696969;}#sk-container-id-4 label.sk-toggleable__label-arrow:hover:before {color: black;}#sk-container-id-4 div.sk-estimator:hover label.sk-toggleable__label-arrow:before {color: black;}#sk-container-id-4 div.sk-toggleable__content {max-height: 0;max-width: 0;overflow: hidden;text-align: left;background-color: #f0f8ff;}#sk-container-id-4 div.sk-toggleable__content pre {margin: 0.2em;color: black;border-radius: 0.25em;background-color: #f0f8ff;}#sk-container-id-4 input.sk-toggleable__control:checked~div.sk-toggleable__content {max-height: 200px;max-width: 100%;overflow: auto;}#sk-container-id-4 input.sk-toggleable__control:checked~label.sk-toggleable__label-arrow:before {content: \"▾\";}#sk-container-id-4 div.sk-estimator input.sk-toggleable__control:checked~label.sk-toggleable__label {background-color: #d4ebff;}#sk-container-id-4 div.sk-label input.sk-toggleable__control:checked~label.sk-toggleable__label {background-color: #d4ebff;}#sk-container-id-4 input.sk-hidden--visually {border: 0;clip: rect(1px 1px 1px 1px);clip: rect(1px, 1px, 1px, 1px);height: 1px;margin: -1px;overflow: hidden;padding: 0;position: absolute;width: 1px;}#sk-container-id-4 div.sk-estimator {font-family: monospace;background-color: #f0f8ff;border: 1px dotted black;border-radius: 0.25em;box-sizing: border-box;margin-bottom: 0.5em;}#sk-container-id-4 div.sk-estimator:hover {background-color: #d4ebff;}#sk-container-id-4 div.sk-parallel-item::after {content: \"\";width: 100%;border-bottom: 1px solid gray;flex-grow: 1;}#sk-container-id-4 div.sk-label:hover label.sk-toggleable__label {background-color: #d4ebff;}#sk-container-id-4 div.sk-serial::before {content: \"\";position: absolute;border-left: 1px solid gray;box-sizing: border-box;top: 0;bottom: 0;left: 50%;z-index: 0;}#sk-container-id-4 div.sk-serial {display: flex;flex-direction: column;align-items: center;background-color: white;padding-right: 0.2em;padding-left: 0.2em;position: relative;}#sk-container-id-4 div.sk-item {position: relative;z-index: 1;}#sk-container-id-4 div.sk-parallel {display: flex;align-items: stretch;justify-content: center;background-color: white;position: relative;}#sk-container-id-4 div.sk-item::before, #sk-container-id-4 div.sk-parallel-item::before {content: \"\";position: absolute;border-left: 1px solid gray;box-sizing: border-box;top: 0;bottom: 0;left: 50%;z-index: -1;}#sk-container-id-4 div.sk-parallel-item {display: flex;flex-direction: column;z-index: 1;position: relative;background-color: white;}#sk-container-id-4 div.sk-parallel-item:first-child::after {align-self: flex-end;width: 50%;}#sk-container-id-4 div.sk-parallel-item:last-child::after {align-self: flex-start;width: 50%;}#sk-container-id-4 div.sk-parallel-item:only-child::after {width: 0;}#sk-container-id-4 div.sk-dashed-wrapped {border: 1px dashed gray;margin: 0 0.4em 0.5em 0.4em;box-sizing: border-box;padding-bottom: 0.4em;background-color: white;}#sk-container-id-4 div.sk-label label {font-family: monospace;font-weight: bold;display: inline-block;line-height: 1.2em;}#sk-container-id-4 div.sk-label-container {text-align: center;}#sk-container-id-4 div.sk-container {/* jupyter's `normalize.less` sets `[hidden] { display: none; }` but bootstrap.min.css set `[hidden] { display: none !important; }` so we also need the `!important` here to be able to override the default hidden behavior on the sphinx rendered scikit-learn.org. See: https://github.com/scikit-learn/scikit-learn/issues/21755 */display: inline-block !important;position: relative;}#sk-container-id-4 div.sk-text-repr-fallback {display: none;}</style><div id=\"sk-container-id-4\" class=\"sk-top-container\"><div class=\"sk-text-repr-fallback\"><pre>Pipeline(steps=[(&#x27;pca&#x27;, PCA(n_components=5)),\n",
       "                (&#x27;randomforestclassifier&#x27;,\n",
       "                 RandomForestClassifier(max_depth=5, max_features=None,\n",
       "                                        min_samples_leaf=4,\n",
       "                                        min_samples_split=3))])</pre><b>In a Jupyter environment, please rerun this cell to show the HTML representation or trust the notebook. <br />On GitHub, the HTML representation is unable to render, please try loading this page with nbviewer.org.</b></div><div class=\"sk-container\" hidden><div class=\"sk-item sk-dashed-wrapped\"><div class=\"sk-label-container\"><div class=\"sk-label sk-toggleable\"><input class=\"sk-toggleable__control sk-hidden--visually\" id=\"sk-estimator-id-6\" type=\"checkbox\" ><label for=\"sk-estimator-id-6\" class=\"sk-toggleable__label sk-toggleable__label-arrow\">Pipeline</label><div class=\"sk-toggleable__content\"><pre>Pipeline(steps=[(&#x27;pca&#x27;, PCA(n_components=5)),\n",
       "                (&#x27;randomforestclassifier&#x27;,\n",
       "                 RandomForestClassifier(max_depth=5, max_features=None,\n",
       "                                        min_samples_leaf=4,\n",
       "                                        min_samples_split=3))])</pre></div></div></div><div class=\"sk-serial\"><div class=\"sk-item\"><div class=\"sk-estimator sk-toggleable\"><input class=\"sk-toggleable__control sk-hidden--visually\" id=\"sk-estimator-id-7\" type=\"checkbox\" ><label for=\"sk-estimator-id-7\" class=\"sk-toggleable__label sk-toggleable__label-arrow\">PCA</label><div class=\"sk-toggleable__content\"><pre>PCA(n_components=5)</pre></div></div></div><div class=\"sk-item\"><div class=\"sk-estimator sk-toggleable\"><input class=\"sk-toggleable__control sk-hidden--visually\" id=\"sk-estimator-id-8\" type=\"checkbox\" ><label for=\"sk-estimator-id-8\" class=\"sk-toggleable__label sk-toggleable__label-arrow\">RandomForestClassifier</label><div class=\"sk-toggleable__content\"><pre>RandomForestClassifier(max_depth=5, max_features=None, min_samples_leaf=4,\n",
       "                       min_samples_split=3)</pre></div></div></div></div></div></div></div>"
      ],
      "text/plain": [
       "Pipeline(steps=[('pca', PCA(n_components=5)),\n",
       "                ('randomforestclassifier',\n",
       "                 RandomForestClassifier(max_depth=5, max_features=None,\n",
       "                                        min_samples_leaf=4,\n",
       "                                        min_samples_split=3))])"
      ]
     },
     "execution_count": 36,
     "metadata": {},
     "output_type": "execute_result"
    }
   ],
   "source": [
    "modelopca_2.fit(Xtr,Ytr)"
   ]
  },
  {
   "cell_type": "markdown",
   "id": "676cb02e-9f9d-4786-ae13-8cb821e821ea",
   "metadata": {},
   "source": [
    "Foi realizado previsões utilizando o modelo  e em seguida, é gerado uma matriz de confusão e exibida em um mapa de calor."
   ]
  },
  {
   "cell_type": "code",
   "execution_count": 56,
   "id": "90ca180d-dcd2-4763-a351-3e669ec3aaed",
   "metadata": {},
   "outputs": [
    {
     "data": {
      "text/plain": [
       "<AxesSubplot: >"
      ]
     },
     "execution_count": 56,
     "metadata": {},
     "output_type": "execute_result"
    },
    {
     "data": {
      "image/png": "[encoded data removed]",
      "text/plain": [
       "<Figure size 640x480 with 2 Axes>"
      ]
     },
     "metadata": {},
     "output_type": "display_data"
    }
   ],
   "source": [
    "y_verdadeiro = Yts\n",
    "y_previsao_PCA = modelopca.predict(Xts)\n",
    "\n",
    "matriz_conf_PCA = confusion_matrix(y_verdadeiro, y_previsao_PCA)\n",
    "\n",
    "df_conf_PCA = pd.DataFrame(matriz_conf_PCA)\n",
    "\n",
    "sns.heatmap(df_conf, annot=True, annot_kws={\"size\": 16})"
   ]
  },
  {
   "cell_type": "code",
   "execution_count": 57,
   "id": "44a381c3-fcf4-4535-a573-1eedd227a76b",
   "metadata": {},
   "outputs": [
    {
     "data": {
      "text/plain": [
       "0.7121212121212122"
      ]
     },
     "execution_count": 57,
     "metadata": {},
     "output_type": "execute_result"
    }
   ],
   "source": [
    "accuracy_score(Yts, y_previsao_PCA, normalize=True)"
   ]
  },
  {
   "cell_type": "code",
   "execution_count": 58,
   "id": "a0b92331-22b9-47f5-a156-ed7e98c59457",
   "metadata": {},
   "outputs": [
    {
     "data": {
      "text/plain": [
       "<AxesSubplot: >"
      ]
     },
     "execution_count": 58,
     "metadata": {},
     "output_type": "execute_result"
    },
    {
     "data": {
      "image/png": "[encoded data removed]",
      "text/plain": [
       "<Figure size 640x480 with 2 Axes>"
      ]
     },
     "metadata": {},
     "output_type": "display_data"
    }
   ],
   "source": [
    "y_verdadeiro = Yts\n",
    "y_previsao_PCA_2 = modelopca_2.predict(Xts)\n",
    "\n",
    "matriz_conf_PCA_2 = confusion_matrix(y_verdadeiro, y_previsao_PCA_2)\n",
    "\n",
    "df_conf_PCA_2 = pd.DataFrame(matriz_conf_PCA_2)\n",
    "\n",
    "sns.heatmap(df_conf, annot=True, annot_kws={\"size\": 16})"
   ]
  },
  {
   "cell_type": "code",
   "execution_count": 59,
   "id": "15708b38-6457-4e95-a24c-a089840cfbe7",
   "metadata": {},
   "outputs": [
    {
     "data": {
      "text/plain": [
       "0.7045454545454546"
      ]
     },
     "execution_count": 59,
     "metadata": {},
     "output_type": "execute_result"
    }
   ],
   "source": [
    "accuracy_score(Yts, y_previsao_PCA_2, normalize=True)"
   ]
  },
  {
   "cell_type": "markdown",
   "id": "fcbf6da4-a720-4f6b-ac72-0bbf3dede7c6",
   "metadata": {},
   "source": [
    "O PCA não resultou em melhoras no desempenho do modelo, no entanto, ele reduziu o desempenho em ambos os casos."
   ]
  },
  {
   "cell_type": "markdown",
   "id": "ce9f8c4f-b06b-429c-90f9-8d2d01640f8d",
   "metadata": {},
   "source": [
    "## Conclusão "
   ]
  },
  {
   "cell_type": "markdown",
   "id": "091ee229-e128-4d00-8266-faa148977c4a",
   "metadata": {},
   "source": [
    "A partir de todas as analises desde o baseline foi possível concluir que o modelo que melhor se adapta ao nossos dados e objetivo é o de Floresta Aleatroria de classificação, principalmente por possuir os hiperparâmetros obtidos atraves da validação cruzada, o que melhora seu desempenho. "
   ]
  },
  {
   "cell_type": "markdown",
   "id": "3ea8619d-1360-4f92-bedf-28bc7edd42e4",
   "metadata": {},
   "source": [
    "## Referências:\n",
    "\n",
    "Notebook de Módulo Pandas\n",
    "\n",
    "1.Banco de dados da onde o Dataset foi retirado: https://www.kaggle.com/datasets/bharath011/heart-disease-classification-dataset\n",
    "\n",
    "2.Explicação sobre a funão loc do pandas: https://medium.com/horadecodar/data-science-tips-02-como-usar-loc-e-iloc-no-pandas-fab58e214d87\n",
    "\n",
    "3.Explicação sobre CK_MB: https://ibapcursos.com.br/creatina-quinase-ckmb-alta-no-sangue-o-que-significa-essa-alteracao-no-exame/   e  https://labtestsonline.org.br/tests/ck-mb\n",
    "\n",
    "4.Explicação sobre troponina: https://www.tuasaude.com/exame-de-troponina/\n",
    "\n",
    "5.Explicação de como modificar o tipo de uma coluna: https://jobu.com.br/2022/11/29/3-metodos-de-como-alterar-tipo-da-coluna-com-pandas/\n",
    "\n",
    "6.Para entendimento das colunas do dataset: https://cardiopapers.com.br/por-que-nao-existe-aumento-falso-positivo-de-troponina/\n",
    "\n",
    "7.Documentação da biblioteca Sckit learn https://scikitlearn.org/stable/modules/generated/sklearn.ensemble.RandomForestClassifier.html#sklearn.ensemble.RandomForestClassifier"
   ]
  },
  {
   "cell_type": "code",
   "execution_count": null,
   "id": "79d8e2ad-06cf-4a98-9d2a-621a554fab81",
   "metadata": {},
   "outputs": [],
   "source": []
  }
 ],
 "metadata": {
  "kernelspec": {
   "display_name": "ilumpy",
   "language": "python",
   "name": "ilumpy"
  },
  "language_info": {
   "codemirror_mode": {
    "name": "ipython",
    "version": 3
   },
   "file_extension": ".py",
   "mimetype": "text/x-python",
   "name": "python",
   "nbconvert_exporter": "python",
   "pygments_lexer": "ipython3",
   "version": "3.10.8"
  }
 },
 "nbformat": 4,
 "nbformat_minor": 5
}
